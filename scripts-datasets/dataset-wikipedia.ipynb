{
 "cells": [
  {
   "cell_type": "code",
   "execution_count": 1,
   "id": "13a60960",
   "metadata": {
    "execution": {
     "iopub.execute_input": "2024-12-10T22:58:43.156062Z",
     "iopub.status.busy": "2024-12-10T22:58:43.155624Z",
     "iopub.status.idle": "2024-12-10T22:58:58.935137Z",
     "shell.execute_reply": "2024-12-10T22:58:58.933939Z"
    },
    "papermill": {
     "duration": 15.78677,
     "end_time": "2024-12-10T22:58:58.937607",
     "exception": false,
     "start_time": "2024-12-10T22:58:43.150837",
     "status": "completed"
    },
    "tags": []
   },
   "outputs": [
    {
     "name": "stdout",
     "output_type": "stream",
     "text": [
      "Collecting wikipedia\r\n",
      "  Downloading wikipedia-1.4.0.tar.gz (27 kB)\r\n",
      "  Preparing metadata (setup.py) ... \u001b[?25l-\b \bdone\r\n",
      "\u001b[?25hRequirement already satisfied: beautifulsoup4 in /opt/conda/lib/python3.10/site-packages (from wikipedia) (4.12.3)\r\n",
      "Requirement already satisfied: requests<3.0.0,>=2.0.0 in /opt/conda/lib/python3.10/site-packages (from wikipedia) (2.32.3)\r\n",
      "Requirement already satisfied: charset-normalizer<4,>=2 in /opt/conda/lib/python3.10/site-packages (from requests<3.0.0,>=2.0.0->wikipedia) (3.3.2)\r\n",
      "Requirement already satisfied: idna<4,>=2.5 in /opt/conda/lib/python3.10/site-packages (from requests<3.0.0,>=2.0.0->wikipedia) (3.7)\r\n",
      "Requirement already satisfied: urllib3<3,>=1.21.1 in /opt/conda/lib/python3.10/site-packages (from requests<3.0.0,>=2.0.0->wikipedia) (1.26.18)\r\n",
      "Requirement already satisfied: certifi>=2017.4.17 in /opt/conda/lib/python3.10/site-packages (from requests<3.0.0,>=2.0.0->wikipedia) (2024.6.2)\r\n",
      "Requirement already satisfied: soupsieve>1.2 in /opt/conda/lib/python3.10/site-packages (from beautifulsoup4->wikipedia) (2.5)\r\n",
      "Building wheels for collected packages: wikipedia\r\n",
      "  Building wheel for wikipedia (setup.py) ... \u001b[?25l-\b \b\\\b \bdone\r\n",
      "\u001b[?25h  Created wheel for wikipedia: filename=wikipedia-1.4.0-py3-none-any.whl size=11680 sha256=6e374d75f1d7c453332d513b8263589217b99c22e6467feb8d401cc0cc0811d6\r\n",
      "  Stored in directory: /root/.cache/pip/wheels/5e/b6/c5/93f3dec388ae76edc830cb42901bb0232504dfc0df02fc50de\r\n",
      "Successfully built wikipedia\r\n",
      "Installing collected packages: wikipedia\r\n",
      "Successfully installed wikipedia-1.4.0\r\n"
     ]
    }
   ],
   "source": [
    "!pip install wikipedia"
   ]
  },
  {
   "cell_type": "code",
   "execution_count": 2,
   "id": "c9f28cfa",
   "metadata": {
    "execution": {
     "iopub.execute_input": "2024-12-10T22:58:58.945769Z",
     "iopub.status.busy": "2024-12-10T22:58:58.945293Z",
     "iopub.status.idle": "2024-12-10T22:58:59.255915Z",
     "shell.execute_reply": "2024-12-10T22:58:59.254573Z"
    },
    "papermill": {
     "duration": 0.317476,
     "end_time": "2024-12-10T22:58:59.258363",
     "exception": false,
     "start_time": "2024-12-10T22:58:58.940887",
     "status": "completed"
    },
    "tags": []
   },
   "outputs": [],
   "source": [
    "import wikipedia\n",
    "import random\n",
    "from tqdm import tqdm\n",
    "from time import sleep\n",
    "\n",
    "wikipedia.set_lang('hr')"
   ]
  },
  {
   "cell_type": "code",
   "execution_count": 3,
   "id": "704c13a8",
   "metadata": {
    "execution": {
     "iopub.execute_input": "2024-12-10T22:58:59.266287Z",
     "iopub.status.busy": "2024-12-10T22:58:59.265686Z",
     "iopub.status.idle": "2024-12-10T22:58:59.271179Z",
     "shell.execute_reply": "2024-12-10T22:58:59.270151Z"
    },
    "papermill": {
     "duration": 0.011705,
     "end_time": "2024-12-10T22:58:59.273269",
     "exception": false,
     "start_time": "2024-12-10T22:58:59.261564",
     "status": "completed"
    },
    "tags": []
   },
   "outputs": [],
   "source": [
    "templates = [\n",
    "    \"Što se može reći o {title}?\",\n",
    "    \"Kako bih saznao više o {title}?\",\n",
    "    \"Sažetak teme {title}.\",\n",
    "    \"Zašto je {title} važan ili zanimljiv?\",\n",
    "    \"Ključne informacije o {title} na jednom mjestu.\",\n",
    "    \"Objašnjenje: {title}.\",\n",
    "    \"Sve što treba znati o {title}.\",\n",
    "    \"Kratak uvod u {title}.\",\n",
    "    \"Kako bih mogao razumjeti {title}?\",\n",
    "    \"Primjer teme {title} i njezina važnost.\"]"
   ]
  },
  {
   "cell_type": "code",
   "execution_count": 4,
   "id": "dc9abf2e",
   "metadata": {
    "execution": {
     "iopub.execute_input": "2024-12-10T22:58:59.280654Z",
     "iopub.status.busy": "2024-12-10T22:58:59.280321Z",
     "iopub.status.idle": "2024-12-10T22:58:59.285237Z",
     "shell.execute_reply": "2024-12-10T22:58:59.284247Z"
    },
    "papermill": {
     "duration": 0.011189,
     "end_time": "2024-12-10T22:58:59.287554",
     "exception": false,
     "start_time": "2024-12-10T22:58:59.276365",
     "status": "completed"
    },
    "tags": []
   },
   "outputs": [],
   "source": [
    "def random_format(title, use_format=0.7):\n",
    "    if random.random() < use_format:\n",
    "        return random.choice(templates).format(title=title)\n",
    "    return title"
   ]
  },
  {
   "cell_type": "code",
   "execution_count": 5,
   "id": "6466c7d9",
   "metadata": {
    "execution": {
     "iopub.execute_input": "2024-12-10T22:58:59.295057Z",
     "iopub.status.busy": "2024-12-10T22:58:59.294704Z",
     "iopub.status.idle": "2024-12-11T00:47:14.008376Z",
     "shell.execute_reply": "2024-12-11T00:47:14.007018Z"
    },
    "papermill": {
     "duration": 6494.720165,
     "end_time": "2024-12-11T00:47:14.010770",
     "exception": false,
     "start_time": "2024-12-10T22:58:59.290605",
     "status": "completed"
    },
    "tags": []
   },
   "outputs": [
    {
     "name": "stderr",
     "output_type": "stream",
     "text": [
      "  0%|          | 18/10000 [00:10<1:37:43,  1.70it/s]/opt/conda/lib/python3.10/site-packages/wikipedia/wikipedia.py:389: GuessedAtParserWarning: No parser was explicitly specified, so I'm using the best available HTML parser for this system (\"lxml\"). This usually isn't a problem, but if you run this code on another system, or in a different virtual environment, it may use a different parser and behave differently.\n",
      "\n",
      "The code that caused this warning is on line 389 of the file /opt/conda/lib/python3.10/site-packages/wikipedia/wikipedia.py. To get rid of this warning, pass the additional argument 'features=\"lxml\"' to the BeautifulSoup constructor.\n",
      "\n",
      "  lis = BeautifulSoup(html).find_all('li')\n"
     ]
    },
    {
     "name": "stdout",
     "output_type": "stream",
     "text": [
      "Error occured \"Talus\" may refer to: \n",
      "Gležanjska kost\n",
      "talus (utvrdno graditeljstvo)\n",
      "talus (biologija)\n"
     ]
    },
    {
     "name": "stderr",
     "output_type": "stream",
     "text": [
      "  0%|          | 22/10000 [00:14<2:07:58,  1.30it/s]"
     ]
    },
    {
     "name": "stdout",
     "output_type": "stream",
     "text": [
      "Error occured \"Vrtoče\" may refer to: \n",
      "Vrtoče (Bosanski Petrovac, BiH)\n",
      "Vrtoče (Drvar, BiH)\n",
      "Vrtoče (Milići, BiH)\n"
     ]
    },
    {
     "name": "stderr",
     "output_type": "stream",
     "text": [
      "  1%|▏         | 127/10000 [01:18<1:34:53,  1.73it/s]"
     ]
    },
    {
     "name": "stdout",
     "output_type": "stream",
     "text": [
      "Error occured \"Miš (razdvojba)\" may refer to: \n",
      "Miš\n",
      "Računalni miš\n",
      "Miš (prezime)\n"
     ]
    },
    {
     "name": "stderr",
     "output_type": "stream",
     "text": [
      "  2%|▏         | 174/10000 [01:47<1:36:03,  1.70it/s]"
     ]
    },
    {
     "name": "stdout",
     "output_type": "stream",
     "text": [
      "Error occured \"Ante Tomić\" may refer to: \n",
      "Ante Tomić (košarkaš)\n",
      "Ante Tomić (nogometaš)\n",
      "Ante Tomić (nogometaš Splita)\n",
      "Ante Tomić (novinar)\n"
     ]
    },
    {
     "name": "stderr",
     "output_type": "stream",
     "text": [
      "  2%|▏         | 213/10000 [02:12<1:32:28,  1.76it/s]"
     ]
    },
    {
     "name": "stdout",
     "output_type": "stream",
     "text": [
      "Error occured \"Starčevićanac\" may refer to: \n",
      "Ante Starčevića\n",
      "Starčevićanac (Gospić)\n",
      "Starčevićanac: novine za hrvatski puk\n",
      "Starčevićanac: pučki list Starčevićeve stranke prava\n",
      "Starčevićanac (logorski list)\n"
     ]
    },
    {
     "name": "stderr",
     "output_type": "stream",
     "text": [
      "  3%|▎         | 254/10000 [02:38<1:36:40,  1.68it/s]"
     ]
    },
    {
     "name": "stdout",
     "output_type": "stream",
     "text": [
      "Error occured \"Gjuro Szabo\" may refer to: \n",
      "Gjuro Szabo (povjesničar)\n",
      "Gjuro Szabo (šahist)\n"
     ]
    },
    {
     "name": "stderr",
     "output_type": "stream",
     "text": [
      "  3%|▎         | 306/10000 [03:12<1:33:01,  1.74it/s]"
     ]
    },
    {
     "name": "stdout",
     "output_type": "stream",
     "text": [
      "Error occured \"Goran Suton\" may refer to: \n",
      "Goran Suton (košarkaš)\n",
      "Goran Suton (rukometaš)\n"
     ]
    },
    {
     "name": "stderr",
     "output_type": "stream",
     "text": [
      "  4%|▎         | 364/10000 [03:48<1:32:12,  1.74it/s]"
     ]
    },
    {
     "name": "stdout",
     "output_type": "stream",
     "text": [
      "Error occured \"Herschel\" may refer to: \n",
      "William Herschel\n",
      "Udarni krateri\n",
      "Herschel (krater na Mjesecu)\n",
      "Herschel (krater na Marsu)\n",
      "Herschel (krater na Mimasu)\n",
      "2000 Herschel\n",
      "William Herschel Telescope\n",
      "Svemirski opservatorij Herschel\n"
     ]
    },
    {
     "name": "stderr",
     "output_type": "stream",
     "text": [
      "  4%|▍         | 385/10000 [04:02<1:34:30,  1.70it/s]"
     ]
    },
    {
     "name": "stdout",
     "output_type": "stream",
     "text": [
      "Error occured \"Casamance\" may refer to: \n",
      "Casamance (rijeka)\n",
      "Casamance (pokrajina)\n"
     ]
    },
    {
     "name": "stderr",
     "output_type": "stream",
     "text": [
      "  4%|▍         | 392/10000 [04:08<1:48:27,  1.48it/s]"
     ]
    },
    {
     "name": "stdout",
     "output_type": "stream",
     "text": [
      "Error occured \"Zaljev Akademije\" may refer to: \n",
      "Akademijski zaljev (Ohotsko more)\n",
      "Zaljev Akademije (Galápagos)\n"
     ]
    },
    {
     "name": "stderr",
     "output_type": "stream",
     "text": [
      "  4%|▍         | 412/10000 [04:21<1:33:30,  1.71it/s]"
     ]
    },
    {
     "name": "stdout",
     "output_type": "stream",
     "text": [
      "Error occured \"Popularna duhovna glazba\" may refer to: \n",
      "Suvremena kršćanska glazba\n",
      "Popularna duhovna glazba (album)\n"
     ]
    },
    {
     "name": "stderr",
     "output_type": "stream",
     "text": [
      "  4%|▍         | 429/10000 [04:33<1:32:27,  1.73it/s]"
     ]
    },
    {
     "name": "stdout",
     "output_type": "stream",
     "text": [
      "Error occured \"Gostovići\" may refer to: \n",
      "Gostovići (Konjic, BiH)\n",
      "Gostovići (Zavidovići, BiH)\n"
     ]
    },
    {
     "name": "stderr",
     "output_type": "stream",
     "text": [
      "  4%|▍         | 447/10000 [04:46<1:42:04,  1.56it/s]"
     ]
    },
    {
     "name": "stdout",
     "output_type": "stream",
     "text": [
      "Error occured \"Santa Maria Incoronata\" may refer to: \n",
      "Santa Maria Incoronata (Milano)\n",
      "Santa Maria Incoronata (Napulj)\n"
     ]
    },
    {
     "name": "stderr",
     "output_type": "stream",
     "text": [
      "  5%|▍         | 488/10000 [05:12<1:41:00,  1.57it/s]"
     ]
    },
    {
     "name": "stdout",
     "output_type": "stream",
     "text": [
      "Error occured \"Naftalan\" may refer to: \n",
      "Naftalan Ivanić-Grad\n",
      "Naftalan\n",
      "Naftalan (zemno mineralno ulje)\n"
     ]
    },
    {
     "name": "stderr",
     "output_type": "stream",
     "text": [
      "  6%|▌         | 570/10000 [06:01<1:32:36,  1.70it/s]"
     ]
    },
    {
     "name": "stdout",
     "output_type": "stream",
     "text": [
      "Error occured \"Giurgiu\" may refer to: \n",
      "Giurgiu (grad)\n",
      "Giurgiu (županija)\n"
     ]
    },
    {
     "name": "stderr",
     "output_type": "stream",
     "text": [
      "  6%|▋         | 637/10000 [06:44<1:33:31,  1.67it/s]"
     ]
    },
    {
     "name": "stdout",
     "output_type": "stream",
     "text": [
      "Error occured \"Reket (razdvojba)\" may refer to: \n",
      "Reketarenje\n",
      "Reket (šport)\n",
      "Teniski reket\n"
     ]
    },
    {
     "name": "stderr",
     "output_type": "stream",
     "text": [
      "  7%|▋         | 660/10000 [06:59<1:33:14,  1.67it/s]"
     ]
    },
    {
     "name": "stdout",
     "output_type": "stream",
     "text": [
      "Error occured \"Konopnica\" may refer to: \n",
      "remenica\n",
      "Konopnica (Vlasotince, Srbija)\n",
      "Konopnica (Kratovo, Makedonija)\n"
     ]
    },
    {
     "name": "stderr",
     "output_type": "stream",
     "text": [
      "  7%|▋         | 662/10000 [07:02<2:26:56,  1.06it/s]"
     ]
    },
    {
     "name": "stdout",
     "output_type": "stream",
     "text": [
      "Error occured \"Marković\" may refer to: \n",
      "Marković (prezime)\n",
      "Marković (plemstvo)\n"
     ]
    },
    {
     "name": "stderr",
     "output_type": "stream",
     "text": [
      "  7%|▋         | 663/10000 [07:04<3:25:13,  1.32s/it]"
     ]
    },
    {
     "name": "stdout",
     "output_type": "stream",
     "text": [
      "Error occured \"Konavoski rat\" may refer to: \n",
      "rat\n",
      "konavoski\n"
     ]
    },
    {
     "name": "stderr",
     "output_type": "stream",
     "text": [
      "  7%|▋         | 677/10000 [07:14<1:32:03,  1.69it/s]"
     ]
    },
    {
     "name": "stdout",
     "output_type": "stream",
     "text": [
      "Error occured \"Kneginec\" may refer to: \n",
      "Gornji Kneginec\n",
      "Donji Kneginec\n"
     ]
    },
    {
     "name": "stderr",
     "output_type": "stream",
     "text": [
      "  7%|▋         | 715/10000 [07:38<1:28:35,  1.75it/s]"
     ]
    },
    {
     "name": "stdout",
     "output_type": "stream",
     "text": [
      "Error occured \"GND\" may refer to: \n",
      "Gesta Normannorum Ducum\n",
      "Girl Next Door (razdvojba)\n",
      "God's Not Dead (film)\n",
      "graduated neutral density filter\n",
      "Green New Deal\n",
      "masu\n",
      "Gemeinsame Normdatei\n",
      "Maurice Bishop\n",
      "Zulgo-Gemzek\n",
      "Powiat Nowodworski (Pomeransko vojvodstvo)\n",
      "Naturdenkmal\n"
     ]
    },
    {
     "name": "stderr",
     "output_type": "stream",
     "text": [
      "  7%|▋         | 718/10000 [07:41<2:06:53,  1.22it/s]"
     ]
    },
    {
     "name": "stdout",
     "output_type": "stream",
     "text": [
      "Error occured \"Tortoise\" may refer to: \n",
      "Tortoise (tenk)\n",
      "Tortoise (glazbeni sastav)\n"
     ]
    },
    {
     "name": "stderr",
     "output_type": "stream",
     "text": [
      "  7%|▋         | 727/10000 [07:48<1:34:35,  1.63it/s]"
     ]
    },
    {
     "name": "stdout",
     "output_type": "stream",
     "text": [
      "Error occured \"Cerovica\" may refer to: \n",
      "Cerovica (Samobor)\n",
      "Cerovica (Bosanski Novi, BiH)\n",
      "Cerovica (Stanari, BiH)\n",
      "Cerovica (Neum, BiH)\n"
     ]
    },
    {
     "name": "stderr",
     "output_type": "stream",
     "text": [
      "  7%|▋         | 730/10000 [07:51<2:06:46,  1.22it/s]"
     ]
    },
    {
     "name": "stdout",
     "output_type": "stream",
     "text": [
      "Error occured \"Magdalena\" may refer to: \n",
      "Magdalena (departman)\n",
      "Magdalena (rijeka)\n",
      "Magdalena (Jalisco, Meksiko)\n",
      "Magdalena (Sonora, Meksiko)\n",
      "Magdalena (Veracruz, Meksiko)\n"
     ]
    },
    {
     "name": "stderr",
     "output_type": "stream",
     "text": [
      "  7%|▋         | 744/10000 [08:02<1:37:40,  1.58it/s]"
     ]
    },
    {
     "name": "stdout",
     "output_type": "stream",
     "text": [
      "Error occured \"Lozika\" may refer to: \n",
      "Parthenocissus\n",
      "Ampelopsis\n"
     ]
    },
    {
     "name": "stderr",
     "output_type": "stream",
     "text": [
      "  8%|▊         | 773/10000 [08:21<1:30:48,  1.69it/s]"
     ]
    },
    {
     "name": "stdout",
     "output_type": "stream",
     "text": [
      "Error occured \"Josip Antunović\" may refer to: \n",
      "Josip Antunović (književnik)\n",
      "Josip Antunović (političar)\n"
     ]
    },
    {
     "name": "stderr",
     "output_type": "stream",
     "text": [
      "  8%|▊         | 807/10000 [08:42<1:28:57,  1.72it/s]"
     ]
    },
    {
     "name": "stdout",
     "output_type": "stream",
     "text": [
      "Error occured \"Seljačka buna (razdvojba)\" may refer to: \n",
      "Seljačka buna\n",
      "Seljačka buna (Šenoa)\n",
      "Seljačka buna (1975.)\n",
      "Seljačke bune\n",
      "Seljačka buna (sastav)\n",
      "↑\n"
     ]
    },
    {
     "name": "stderr",
     "output_type": "stream",
     "text": [
      "  9%|▉         | 886/10000 [09:31<1:27:50,  1.73it/s]"
     ]
    },
    {
     "name": "stdout",
     "output_type": "stream",
     "text": [
      "Error occured \"Sathya Sai Baba\" may refer to: \n",
      "Ljubav\n",
      "iluzija\n",
      "Meditacija\n",
      "Pacifizam\n",
      "[35]\n",
      "↑\n",
      "a\n",
      "a\n",
      "a\n",
      "↑\n",
      "a\n",
      "↑\n",
      "↑\n",
      "↑\n",
      "↑\n",
      "a\n",
      "a\n",
      "a\n",
      "a\n",
      "a\n",
      "↑\n",
      "↑\n",
      "a\n",
      "↑\n",
      "a\n",
      "↑\n",
      "a\n",
      "↑\n",
      "↑\n",
      "↑\n",
      "↑\n",
      "↑\n",
      "a\n",
      "↑\n",
      "↑\n",
      "↑\n",
      "↑\n",
      "↑\n",
      "↑\n",
      "↑\n",
      "Međunarodna Sai Organizacija\n",
      "Eseji Sai Babe\n",
      "BBC-jev dokumentarac o Sai Babi\n"
     ]
    },
    {
     "name": "stderr",
     "output_type": "stream",
     "text": [
      "  9%|▉         | 898/10000 [09:40<1:36:31,  1.57it/s]"
     ]
    },
    {
     "name": "stdout",
     "output_type": "stream",
     "text": [
      "Error occured \"Galica\" may refer to: \n",
      "Šota Galica\n",
      "Azem Galica\n",
      "Modra galica\n",
      "Galice\n",
      "Galica (planina u BiH)\n"
     ]
    },
    {
     "name": "stderr",
     "output_type": "stream",
     "text": [
      "  9%|▉         | 922/10000 [09:56<1:26:40,  1.75it/s]"
     ]
    },
    {
     "name": "stdout",
     "output_type": "stream",
     "text": [
      "Error occured \"Chihuahua (razdvojba)\" may refer to: \n",
      "Chihuahua\n",
      "Chihuahua, Chihuahua\n",
      "Chihuahua (pustinja)\n",
      "Chihuahua (pas)\n",
      "Chihuahua (sir)\n"
     ]
    },
    {
     "name": "stderr",
     "output_type": "stream",
     "text": [
      " 10%|█         | 1017/10000 [10:54<1:28:08,  1.70it/s]"
     ]
    },
    {
     "name": "stdout",
     "output_type": "stream",
     "text": [
      "Error occured \"Poroštica\" may refer to: \n",
      "Poroštica (Lebane, Srbija)\n",
      "Poroštica (Medveđa, Srbija)\n"
     ]
    },
    {
     "name": "stderr",
     "output_type": "stream",
     "text": [
      " 10%|█         | 1032/10000 [11:04<1:27:35,  1.71it/s]"
     ]
    },
    {
     "name": "stdout",
     "output_type": "stream",
     "text": [
      "Error occured \"Markovište\" may refer to: \n",
      "Husina\n",
      "Markovište (brdo, Klobuk)\n",
      "Kosjerić\n"
     ]
    },
    {
     "name": "stderr",
     "output_type": "stream",
     "text": [
      " 10%|█         | 1039/10000 [11:10<1:34:00,  1.59it/s]"
     ]
    },
    {
     "name": "stdout",
     "output_type": "stream",
     "text": [
      "Error occured \"Primicač palca\" may refer to: \n",
      "Primicač palca ruke\n",
      "Primicač palca noge\n"
     ]
    },
    {
     "name": "stderr",
     "output_type": "stream",
     "text": [
      " 10%|█         | 1046/10000 [11:15<1:35:29,  1.56it/s]"
     ]
    },
    {
     "name": "stdout",
     "output_type": "stream",
     "text": [
      "Error occured \"Kuri-Gol (razdvojba)\" may refer to: \n",
      "Kuri-Gol\n",
      "Kuri-Gol (Sabalan)\n",
      "Istahr-e Kuri-Gol\n",
      "Kuri-Gol (planina)\n",
      "Kuri-Gol (naselje)\n",
      "Kuri-Gol Darehsi\n"
     ]
    },
    {
     "name": "stderr",
     "output_type": "stream",
     "text": [
      " 11%|█         | 1055/10000 [11:22<1:34:08,  1.58it/s]"
     ]
    },
    {
     "name": "stdout",
     "output_type": "stream",
     "text": [
      "Error occured \"Širvan\" may refer to: \n",
      "Širvan (regija)\n",
      "Širvan (Azerbajdžan)\n",
      "Nacionalni park Širvan\n",
      "Širvanska stepa\n",
      "Širvan (Iran)\n",
      "Lernakert (Širak)\n"
     ]
    },
    {
     "name": "stderr",
     "output_type": "stream",
     "text": [
      " 11%|█         | 1088/10000 [11:44<1:27:15,  1.70it/s]"
     ]
    },
    {
     "name": "stdout",
     "output_type": "stream",
     "text": [
      "Error occured \"Vitanovac\" may refer to: \n",
      "Vitanovac (Kruševac, Srbija)\n",
      "Vitanovac (Kraljevo, Srbija)\n",
      "Vitanovac (Bela Palanka, Srbija)\n"
     ]
    },
    {
     "name": "stderr",
     "output_type": "stream",
     "text": [
      " 11%|█▏        | 1128/10000 [12:09<1:28:01,  1.68it/s]"
     ]
    },
    {
     "name": "stdout",
     "output_type": "stream",
     "text": [
      "Error occured \"Yaracuy\" may refer to: \n",
      "Yaracuy (država u Venezueli)\n",
      "Yaracuy (rijeka)\n"
     ]
    },
    {
     "name": "stderr",
     "output_type": "stream",
     "text": [
      " 12%|█▏        | 1166/10000 [12:33<1:27:51,  1.68it/s]"
     ]
    },
    {
     "name": "stdout",
     "output_type": "stream",
     "text": [
      "Error occured \"Zavojnica\" may refer to: \n",
      "matematici\n",
      "elektrotehnici\n",
      "biologiji\n",
      "↑\n"
     ]
    },
    {
     "name": "stderr",
     "output_type": "stream",
     "text": [
      " 12%|█▏        | 1214/10000 [13:03<1:24:21,  1.74it/s]"
     ]
    },
    {
     "name": "stdout",
     "output_type": "stream",
     "text": [
      "Error occured \"Baba\" may refer to: \n",
      "Baba (planina u BiH)\n",
      "Baba (planina u Sjevernoj Makedoniji)\n",
      "Baba (planina u Srbiji)\n",
      "Baba (jezik)\n",
      "Baba (rijeka)\n",
      "Baba (Paklinski otoci)\n",
      "Baba (Palagruško otočje)\n",
      "Baba (Žut)\n",
      "Baba Sač\n",
      "Baba Jaga\n",
      "Baba Vanga\n"
     ]
    },
    {
     "name": "stderr",
     "output_type": "stream",
     "text": [
      " 13%|█▎        | 1251/10000 [13:27<1:35:07,  1.53it/s]"
     ]
    },
    {
     "name": "stdout",
     "output_type": "stream",
     "text": [
      "Error occured \"Primorje\" may refer to: \n",
      "obala\n",
      "Dubrovačko primorje\n",
      "Hrvatsko primorje\n",
      "Primorje (županija)\n",
      "ŽVK Primorje\n",
      "Primorje (Ekvatorska Gvineja)\n"
     ]
    },
    {
     "name": "stderr",
     "output_type": "stream",
     "text": [
      " 13%|█▎        | 1262/10000 [13:35<1:31:02,  1.60it/s]"
     ]
    },
    {
     "name": "stdout",
     "output_type": "stream",
     "text": [
      "Error occured \"Ivan Alduk\" may refer to: \n",
      "Ivan Alduk (arheolog)\n",
      "Ivan Alduk (modni dizajner)\n"
     ]
    },
    {
     "name": "stderr",
     "output_type": "stream",
     "text": [
      " 13%|█▎        | 1336/10000 [14:20<1:26:03,  1.68it/s]"
     ]
    },
    {
     "name": "stdout",
     "output_type": "stream",
     "text": [
      "Error occured \"Fram (razdvojba)\" may refer to: \n",
      "Fram\n",
      "Fram (Rače - Fram, Slovenija)\n",
      "Općina Rače – Fram\n",
      "Knattspyrnufélagið Fram\n"
     ]
    },
    {
     "name": "stderr",
     "output_type": "stream",
     "text": [
      " 14%|█▎        | 1356/10000 [14:34<1:23:25,  1.73it/s]"
     ]
    },
    {
     "name": "stdout",
     "output_type": "stream",
     "text": [
      "Error occured \"Robert Holmes\" may refer to: \n",
      "Robert D. Holmes\n",
      "Robert A. \"Bob\" Holmes\n",
      "Robert E. Holmes\n",
      "Robert Holmes (admiral)\n",
      "Robert Holmes (astronom)\n",
      "Robert Holmes (skladatelj)\n",
      "Robert Holmes (glazbenik)\n",
      "Robert Holmes (scenarist)\n",
      "Robert Holmes (kipar)\n",
      "Robert Holmes (igrač američkog nogometa)\n",
      "Robert Holmes (nogometaš)\n",
      "Robert Holmes à Court\n"
     ]
    },
    {
     "name": "stderr",
     "output_type": "stream",
     "text": [
      " 14%|█▍        | 1389/10000 [14:55<1:25:06,  1.69it/s]"
     ]
    },
    {
     "name": "stdout",
     "output_type": "stream",
     "text": [
      "Error occured \"Potkrajci\" may refer to: \n",
      "Potkrajci (Bijelo Polje, Crna Gora)\n",
      "Potkrajci (Pljevlja, Crna Gora)\n"
     ]
    },
    {
     "name": "stderr",
     "output_type": "stream",
     "text": [
      " 14%|█▍        | 1405/10000 [15:06<1:25:51,  1.67it/s]"
     ]
    },
    {
     "name": "stdout",
     "output_type": "stream",
     "text": [
      "Error occured \"A10\" may refer to: \n",
      "A10 (papir)\n",
      "Autocesta A10\n"
     ]
    },
    {
     "name": "stderr",
     "output_type": "stream",
     "text": [
      " 14%|█▍        | 1437/10000 [15:26<1:25:29,  1.67it/s]"
     ]
    },
    {
     "name": "stdout",
     "output_type": "stream",
     "text": [
      "Error occured \"Crkva sv. Duha u Lovreću\" may refer to: \n",
      "crkva sv. Duha u Lovreću (stara)\n",
      "crkva sv. Duha u Lovreću (nova)\n"
     ]
    },
    {
     "name": "stderr",
     "output_type": "stream",
     "text": [
      " 14%|█▍        | 1449/10000 [15:35<1:24:12,  1.69it/s]"
     ]
    },
    {
     "name": "stdout",
     "output_type": "stream",
     "text": [
      "Error occured \"C (razdvojba)\" may refer to: \n",
      "C\n",
      "C (programski jezik)\n",
      "C (registracijska oznaka)\n",
      "Caldwellov katalog\n"
     ]
    },
    {
     "name": "stderr",
     "output_type": "stream",
     "text": [
      " 15%|█▍        | 1466/10000 [15:47<1:20:44,  1.76it/s]"
     ]
    },
    {
     "name": "stdout",
     "output_type": "stream",
     "text": [
      "Error occured \"Río Chico\" may refer to: \n",
      "Río Chico, Río Negro\n",
      "Río Chico (departman, Tucumán)\n",
      "Río Chico (departman, Santa Cruz)\n",
      "Chico (rijeka u Argentini)\n",
      "Río Chico (rijeka u Čileu)\n",
      "Río Chico (Venezuela)\n"
     ]
    },
    {
     "name": "stderr",
     "output_type": "stream",
     "text": [
      " 15%|█▍        | 1495/10000 [16:06<1:21:12,  1.75it/s]"
     ]
    },
    {
     "name": "stdout",
     "output_type": "stream",
     "text": [
      "Error occured \"Donje Polje (razdvojba)\" may refer to: \n",
      "Donje Polje\n",
      "Donje Polje (Busovača, BiH)\n"
     ]
    },
    {
     "name": "stderr",
     "output_type": "stream",
     "text": [
      " 15%|█▌        | 1508/10000 [16:15<1:25:18,  1.66it/s]"
     ]
    },
    {
     "name": "stdout",
     "output_type": "stream",
     "text": [
      "Error occured \"Monarda\" may refer to: \n",
      "Monarda (Plantae)\n",
      "Monarda (Animalia)\n"
     ]
    },
    {
     "name": "stderr",
     "output_type": "stream",
     "text": [
      " 16%|█▌        | 1553/10000 [16:44<1:25:47,  1.64it/s]"
     ]
    },
    {
     "name": "stdout",
     "output_type": "stream",
     "text": [
      "Error occured \"Josip (razdvojba)\" may refer to: \n",
      "Josip\n",
      "Sveti Josip\n",
      "Josip (praotac)\n",
      "Josip (pleme)\n",
      "Josip, portugalski kralj\n"
     ]
    },
    {
     "name": "stderr",
     "output_type": "stream",
     "text": [
      " 16%|█▌        | 1557/10000 [16:48<1:48:40,  1.29it/s]"
     ]
    },
    {
     "name": "stdout",
     "output_type": "stream",
     "text": [
      "Error occured \"Crvena zvezda\" may refer to: \n",
      "SD Crvena zvezda\n",
      "FK Crvena zvezda Beograd\n",
      "KK Crvena zvezda Beograd\n"
     ]
    },
    {
     "name": "stderr",
     "output_type": "stream",
     "text": [
      " 16%|█▌        | 1562/10000 [16:53<1:42:04,  1.38it/s]"
     ]
    },
    {
     "name": "stdout",
     "output_type": "stream",
     "text": [
      "Error occured \"Erdelj (razdvojba)\" may refer to: \n",
      "Transilvanija\n",
      "Erdelj (Generalski Stol)\n"
     ]
    },
    {
     "name": "stderr",
     "output_type": "stream",
     "text": [
      " 16%|█▌        | 1564/10000 [16:55<2:20:39,  1.00s/it]"
     ]
    },
    {
     "name": "stdout",
     "output_type": "stream",
     "text": [
      "Error occured \"Vlaška\" may refer to: \n",
      "Zagora\n",
      "Vlaška nizina\n",
      "Vlaška (kneževina)\n",
      "Vlaška (pokrajina)\n",
      "Vlaška (Trebinje, BiH)\n",
      "Vlaška (sorta vina)\n",
      "Vlaška (jezero)\n",
      "Error occured \"Vrilo\" may refer to: \n",
      "Vrilo (Tomislavgrad, BiH)\n",
      "Vrilo (Sturba)\n"
     ]
    },
    {
     "name": "stderr",
     "output_type": "stream",
     "text": [
      " 16%|█▌        | 1588/10000 [17:12<1:19:34,  1.76it/s]"
     ]
    },
    {
     "name": "stdout",
     "output_type": "stream",
     "text": [
      "Error occured \"DAC\" may refer to: \n",
      "digitalno-analogni pretvarač\n",
      "FK DAC 1904 Dunajská Streda \n",
      "dambi\n",
      "Dac Lac\n",
      "Dunaújvárosi Acélbikák\n",
      "DAC (proizvođač vozila)\n",
      "DAC (automobil)\n"
     ]
    },
    {
     "name": "stderr",
     "output_type": "stream",
     "text": [
      " 16%|█▌        | 1592/10000 [17:16<1:42:56,  1.36it/s]"
     ]
    },
    {
     "name": "stdout",
     "output_type": "stream",
     "text": [
      "Error occured \"Freeport\" may refer to: \n",
      "Freeport (Illinois)\n",
      "Freeport (Kalifornija)\n",
      "Freeport (Teksas)\n"
     ]
    },
    {
     "name": "stderr",
     "output_type": "stream",
     "text": [
      " 16%|█▌        | 1601/10000 [17:23<1:27:44,  1.60it/s]"
     ]
    },
    {
     "name": "stdout",
     "output_type": "stream",
     "text": [
      "Error occured \"Freiburg (razdvojba)\" may refer to: \n",
      "Freiburg im Breisgau\n",
      "Freiburg an der Elbe \n",
      "Fribourg\n",
      "Freiburg (kanton)\n",
      "Świebodzice\n"
     ]
    },
    {
     "name": "stderr",
     "output_type": "stream",
     "text": [
      " 16%|█▌        | 1602/10000 [17:25<2:35:44,  1.11s/it]"
     ]
    },
    {
     "name": "stdout",
     "output_type": "stream",
     "text": [
      "Error occured \"Múgica\" may refer to: \n",
      "Muxika (grad)\n",
      "Mujica (prezime)\n",
      "Múgica (Meksiko)\n"
     ]
    },
    {
     "name": "stderr",
     "output_type": "stream",
     "text": [
      " 16%|█▋        | 1630/10000 [17:44<1:22:12,  1.70it/s]"
     ]
    },
    {
     "name": "stdout",
     "output_type": "stream",
     "text": [
      "Error occured \"Tomislav Rukavina\" may refer to: \n",
      "Tomislav Rukavina (nogometaš)\n",
      "Tomislav Rukavina (redatelj)\n",
      "Tomislav Rukavina (arhitekt)\n"
     ]
    },
    {
     "name": "stderr",
     "output_type": "stream",
     "text": [
      " 16%|█▋        | 1637/10000 [17:49<1:28:26,  1.58it/s]"
     ]
    },
    {
     "name": "stdout",
     "output_type": "stream",
     "text": [
      "Error occured \"Penza\" may refer to: \n",
      "Penza (grad)\n",
      "Penza (rijeka)\n",
      "Penzenska oblast\n"
     ]
    },
    {
     "name": "stderr",
     "output_type": "stream",
     "text": [
      " 16%|█▋        | 1641/10000 [17:53<1:51:23,  1.25it/s]"
     ]
    },
    {
     "name": "stdout",
     "output_type": "stream",
     "text": [
      "Error occured \"Priboj (razdvojba)\" may refer to: \n",
      "Prijeboj (Plitvička Jezera)\n",
      "Priboj\n",
      "Priboj (Leskovac, Srbija)\n",
      "Priboj Vranjski\n",
      "Priboj (općina)\n",
      "Priboj (Lopare, BiH)\n",
      "Príboj (Dolný Kubín, Slovačka)\n",
      "↑\n"
     ]
    },
    {
     "name": "stderr",
     "output_type": "stream",
     "text": [
      " 16%|█▋        | 1649/10000 [18:00<1:27:01,  1.60it/s]"
     ]
    },
    {
     "name": "stdout",
     "output_type": "stream",
     "text": [
      "Error occured \"Noć vještica 2\" may refer to: \n",
      "Noć vještica 2 (1981.)\n",
      "Noć vještica 2 (2009.)\n"
     ]
    },
    {
     "name": "stderr",
     "output_type": "stream",
     "text": [
      " 17%|█▋        | 1663/10000 [18:10<1:22:24,  1.69it/s]"
     ]
    },
    {
     "name": "stdout",
     "output_type": "stream",
     "text": [
      "Error occured \"Police\" may refer to: \n",
      "The Police\n",
      "Police (Klanjec)\n",
      "Police Pirišće\n",
      "Police (Zapadnopomeransko vojvodstvo, Poljska)\n",
      "Police (Cerkno, Slovenija)\n",
      "Police (Gornja Radgona, Slovenija)\n"
     ]
    },
    {
     "name": "stderr",
     "output_type": "stream",
     "text": [
      " 17%|█▋        | 1670/10000 [18:15<1:29:23,  1.55it/s]"
     ]
    },
    {
     "name": "stdout",
     "output_type": "stream",
     "text": [
      "Error occured \"Kostanjevac\" may refer to: \n",
      "Kostanjevac (Berek)\n",
      "Kostanjevac (Žumberak)\n"
     ]
    },
    {
     "name": "stderr",
     "output_type": "stream",
     "text": [
      " 17%|█▋        | 1691/10000 [18:29<1:19:52,  1.73it/s]"
     ]
    },
    {
     "name": "stdout",
     "output_type": "stream",
     "text": [
      "Error occured \"La Miel\" may refer to: \n",
      "La Miel (rijeka)\n",
      "La Miel (podokrug)\n"
     ]
    },
    {
     "name": "stderr",
     "output_type": "stream",
     "text": [
      " 17%|█▋        | 1693/10000 [18:32<2:07:36,  1.09it/s]"
     ]
    },
    {
     "name": "stdout",
     "output_type": "stream",
     "text": [
      "Error occured \"Komornik\" may refer to: \n",
      "Komornik (otok)\n",
      "komornik (činovnik)\n",
      "Error occured \"Laurus\" may refer to: \n",
      "Laurus (biljni rod)\n",
      "Union Dalmacija\n"
     ]
    },
    {
     "name": "stderr",
     "output_type": "stream",
     "text": [
      " 18%|█▊        | 1752/10000 [19:10<1:24:31,  1.63it/s]"
     ]
    },
    {
     "name": "stdout",
     "output_type": "stream",
     "text": [
      "Error occured \"Strijelac\" may refer to: \n",
      "Strijelac (vojnik)\n",
      "Strijelac (zviježđe)\n",
      "Strijelac (znak)\n",
      "Strijelac (1976.)\n"
     ]
    },
    {
     "name": "stderr",
     "output_type": "stream",
     "text": [
      " 18%|█▊        | 1765/10000 [19:20<1:21:29,  1.68it/s]"
     ]
    },
    {
     "name": "stdout",
     "output_type": "stream",
     "text": [
      "Error occured \"Draga (razdvojba)\" may refer to: \n",
      "Draga (ime)\n",
      "Hrvatska\n",
      "Draga\n",
      "Draga\n",
      "Draga\n",
      "Draga Bašćanska\n",
      "Draga Lukovdolska\n",
      "Draga Svetojanska\n",
      "Barić Draga\n",
      "Brcković Draga\n",
      "Careva Draga\n",
      "Crna Draga\n",
      "Čunkova Draga\n",
      "Dolića Draga\n",
      "Galezova Draga\n",
      "Lukunić Draga\n",
      "Medven Draga\n",
      "Mošćenička Draga\n",
      "Senjska Draga\n",
      "Supetarska Draga\n",
      "Vodena Draga\n",
      "Vrbanska Draga\n",
      "Draga (Zrmanja)\n",
      "Limska draga\n",
      "Puntarska draga\n",
      "Vranjska draga\n",
      "Bosna i Hercegovina\n",
      "Grabova Draga\n",
      "Mađarska\n",
      "Draga (Kalački kotar)\n",
      "Slovenija\n",
      "Draga (Loški Potok, Slovenija)\n",
      "Draga (Nova Gorica, Slovenija)\n",
      "Draga (Šmarješke Toplice, Slovenija)\n",
      "Draga (Škofja Loka, Slovenija)\n",
      "Draga (Štore, Slovenija)\n",
      "Draga pri Sinjem Vrhu\n",
      "Draga pri Šentrupertu\n",
      "Draga, rapska pastirica\n",
      "Draga\n",
      "Error occured \"Mokro\" may refer to: \n",
      "Mokro (starohrvatska županija)\n",
      "Mokro (Konjic, BiH)\n",
      "Mokro (Pale, BiH)\n",
      "Mokro (Široki Brijeg, BiH)\n",
      "Duboko Mokro\n",
      "Mokro (Šavnik, Crna Gora)\n"
     ]
    },
    {
     "name": "stderr",
     "output_type": "stream",
     "text": [
      " 18%|█▊        | 1785/10000 [19:34<1:19:16,  1.73it/s]"
     ]
    },
    {
     "name": "stdout",
     "output_type": "stream",
     "text": [
      "Error occured \"Ezana\" may refer to: \n",
      "Ezana (stela)\n",
      "Ezana Aksumski\n"
     ]
    },
    {
     "name": "stderr",
     "output_type": "stream",
     "text": [
      " 18%|█▊        | 1818/10000 [19:56<1:20:44,  1.69it/s]"
     ]
    },
    {
     "name": "stdout",
     "output_type": "stream",
     "text": [
      "Error occured \"Conop\" may refer to: \n",
      "Conop (indijansko selo)\n",
      "Conop (Arad, Rumunjska)\n",
      "Conop (rijeka)\n"
     ]
    },
    {
     "name": "stderr",
     "output_type": "stream",
     "text": [
      " 18%|█▊        | 1838/10000 [20:10<1:19:14,  1.72it/s]"
     ]
    },
    {
     "name": "stdout",
     "output_type": "stream",
     "text": [
      "Error occured \"Loko\" may refer to: \n",
      "Port Loko\n",
      "Loko (narod)\n",
      "Loko jezik\n",
      "Loko (Šošoni)\n",
      "Loco (loa)\n",
      "Loko (Põlva, Estonija)\n",
      "Loko (Nasarawa, Nigerija)\n",
      "David Loko\n",
      "Jacob Loko\n",
      "Patrice Loko\n"
     ]
    },
    {
     "name": "stderr",
     "output_type": "stream",
     "text": [
      " 19%|█▊        | 1864/10000 [20:27<1:19:27,  1.71it/s]"
     ]
    },
    {
     "name": "stdout",
     "output_type": "stream",
     "text": [
      "Error occured \"Ceyhan (razdvojba)\" may refer to: \n",
      "Ceyhan (rijeka)\n",
      "Ceyhan (grad)\n",
      "Ceyhan (okrug)\n"
     ]
    },
    {
     "name": "stderr",
     "output_type": "stream",
     "text": [
      " 19%|█▊        | 1871/10000 [20:32<1:27:00,  1.56it/s]"
     ]
    },
    {
     "name": "stdout",
     "output_type": "stream",
     "text": [
      "Error occured \"Štir\" may refer to: \n",
      "Amarant\n",
      "Štir (rijeka)\n"
     ]
    },
    {
     "name": "stderr",
     "output_type": "stream",
     "text": [
      " 19%|█▉        | 1892/10000 [20:47<1:21:15,  1.66it/s]"
     ]
    },
    {
     "name": "stdout",
     "output_type": "stream",
     "text": [
      "Error occured \"Korčula (razdvojba)\" may refer to: \n",
      "Korčula\n",
      "Korčula (grad)\n",
      "M/T Korčula\n"
     ]
    },
    {
     "name": "stderr",
     "output_type": "stream",
     "text": [
      " 19%|█▉        | 1925/10000 [21:08<1:25:34,  1.57it/s]"
     ]
    },
    {
     "name": "stdout",
     "output_type": "stream",
     "text": [
      "Error occured \"Mirje\" may refer to: \n",
      "Mirje (Vrboska)\n",
      "Mirje (Kaštel Stari)\n",
      "Mirje (Potirna)\n",
      "Mirje (Vela Luka)\n",
      "Sutulija-Mirje\n",
      "Benediktinski samostan sv. Stjepana na Mirju\n"
     ]
    },
    {
     "name": "stderr",
     "output_type": "stream",
     "text": [
      " 19%|█▉        | 1928/10000 [21:12<2:04:03,  1.08it/s]"
     ]
    },
    {
     "name": "stdout",
     "output_type": "stream",
     "text": [
      "Error occured \"Rat u Čečeniji\" may refer to: \n",
      "Prvi čečenski rat\n",
      "Drugi čečenski rat\n"
     ]
    },
    {
     "name": "stderr",
     "output_type": "stream",
     "text": [
      " 20%|█▉        | 1976/10000 [21:42<1:16:20,  1.75it/s]"
     ]
    },
    {
     "name": "stdout",
     "output_type": "stream",
     "text": [
      "Error occured \"Vinča\" may refer to: \n",
      "Vinča (Grocka, Srbija)\n",
      "Vinča (Topola, Srbija)\n",
      "Gornja Vinča\n",
      "Donja Vinča\n"
     ]
    },
    {
     "name": "stderr",
     "output_type": "stream",
     "text": [
      " 20%|█▉        | 1984/10000 [21:48<1:24:53,  1.57it/s]"
     ]
    },
    {
     "name": "stdout",
     "output_type": "stream",
     "text": [
      "Error occured \"Kora\" may refer to: \n",
      "kora (biljke)\n",
      "Zemljina kora\n",
      "Kora (pleme)\n",
      "Kora (mjesec)\n",
      "Perzefona\n"
     ]
    },
    {
     "name": "stderr",
     "output_type": "stream",
     "text": [
      " 21%|██        | 2068/10000 [22:40<1:16:52,  1.72it/s]"
     ]
    },
    {
     "name": "stdout",
     "output_type": "stream",
     "text": [
      "Error occured \"Zaton\" may refer to: \n",
      "Zaton (Šibenik)\n",
      "Zaton (Dubrovnik)\n",
      "Zaton (Vodice)\n",
      "Zaton (Nin)\n",
      "Zaton Doli\n",
      "Zaton Obrovački\n",
      "Zaton (Bijelo Polje, Crna Gora)\n"
     ]
    },
    {
     "name": "stderr",
     "output_type": "stream",
     "text": [
      " 21%|██        | 2073/10000 [22:44<1:32:29,  1.43it/s]"
     ]
    },
    {
     "name": "stdout",
     "output_type": "stream",
     "text": [
      "Error occured \"Sjeverna regija\" may refer to: \n",
      "Sjeverna regija (Gana)\n",
      "Sjeverna regija (Eastern Cape)\n",
      "Sjeverna regija (Malavi)\n",
      "Sjeverna regija (Malta)\n",
      "Sjeverna regija (Manitoba)\n",
      "Sjeverna regija (Nigerija)\n",
      "Sjeverna regija (Sydney))\n",
      "Sjeverna regija (Uganda)\n",
      "Uttar Pradesh\n",
      "Sjeverna regija (Burkina Faso)\n",
      "Sjeverna regija (Kamerun)\n",
      "Sjeverna regija (Singapur)\n",
      "Središnja regija\n",
      "Istočna regija\n",
      "Južna regija\n",
      "Zapadna regija\n"
     ]
    },
    {
     "name": "stderr",
     "output_type": "stream",
     "text": [
      " 21%|██        | 2111/10000 [23:09<1:17:23,  1.70it/s]"
     ]
    },
    {
     "name": "stdout",
     "output_type": "stream",
     "text": [
      "Error occured \"Horst\" may refer to: \n",
      "Horst (ime)\n",
      "stršenjak\n",
      "Adlerhorst\n",
      "Horst (Gelsenkirchen, Njemačka)\n",
      "Horst na Maasu\n",
      "Horst (Gelderland, Nizozemska)\n",
      "Horst (Limburg, Nizozemska)\n",
      "Horst (Sjeverni Brabant, Nizozemska))\n",
      "Horst (Mecklenburg-Vorpommern, Njemačka)\n",
      "Horst (Steinburg, Njemačka)\n",
      "Horst (Lauenburg, Njemačka)\n",
      "Horst (Seevetal, Njemačka)\n",
      "Holsbeeku\n",
      "Achterbergu\n"
     ]
    },
    {
     "name": "stderr",
     "output_type": "stream",
     "text": [
      " 21%|██        | 2112/10000 [23:11<2:22:25,  1.08s/it]"
     ]
    },
    {
     "name": "stdout",
     "output_type": "stream",
     "text": [
      "Error occured \"Mérida\" may refer to: \n",
      "Mérida (Španjolska)\n",
      "Mérida (Meksiko)\n",
      "Merida, Leyte\n",
      "Mérida (Mérida, Venezuela)\n",
      "Mérida (država u Venezueli)\n",
      "Merida hrabra\n"
     ]
    },
    {
     "name": "stderr",
     "output_type": "stream",
     "text": [
      " 21%|██        | 2118/10000 [23:16<1:37:34,  1.35it/s]"
     ]
    },
    {
     "name": "stdout",
     "output_type": "stream",
     "text": [
      "Error occured \"Vize\" may refer to: \n",
      "viza\n",
      "Vize (geološko razdoblje)\n",
      "Vize (grad)\n",
      "Vize (otok)\n"
     ]
    },
    {
     "name": "stderr",
     "output_type": "stream",
     "text": [
      " 21%|██▏       | 2146/10000 [23:34<1:15:00,  1.75it/s]"
     ]
    },
    {
     "name": "stdout",
     "output_type": "stream",
     "text": [
      "Error occured \"Milan Tomić\" may refer to: \n",
      "Milan Tomić Šerif\n",
      "Milan Tomić (glumac)\n",
      "Milan Tomić (košarkaš)\n",
      "Milan Tomić (nogometaš)\n"
     ]
    },
    {
     "name": "stderr",
     "output_type": "stream",
     "text": [
      " 21%|██▏       | 2149/10000 [23:38<1:49:51,  1.19it/s]"
     ]
    },
    {
     "name": "stdout",
     "output_type": "stream",
     "text": [
      "Error occured \"Petar Babić\" may refer to: \n",
      "Petar Babić (general)\n",
      "Petar Babić (književnik)\n",
      "Petar Babić (košarkaš)\n"
     ]
    },
    {
     "name": "stderr",
     "output_type": "stream",
     "text": [
      " 22%|██▏       | 2169/10000 [23:52<1:23:10,  1.57it/s]"
     ]
    },
    {
     "name": "stdout",
     "output_type": "stream",
     "text": [
      "Error occured \"Byram\" may refer to: \n",
      "Byram, Connecticut\n",
      "Byram, Mississippi\n"
     ]
    },
    {
     "name": "stderr",
     "output_type": "stream",
     "text": [
      " 22%|██▏       | 2180/10000 [24:00<1:18:02,  1.67it/s]"
     ]
    },
    {
     "name": "stdout",
     "output_type": "stream",
     "text": [
      "Error occured \"Hrvatska misao\" may refer to: \n",
      "Hrvatska misao (časopis, Sarajevo)\n",
      "Hrvatska misao (časopis, Prag)\n",
      "Hrvatska misao (dnevnik, Zagreb)\n",
      "Hrvatska misao (list, Zagreb)\n",
      "Hrvatska misao (tjednik, Sušak)\n",
      "Hrvatska misao (mjesečnik, Zagreb)\n",
      "Hrvatska misao (dnevnik, Šibenik)\n",
      "Hrvatska misao (mjesečnik, Nova Bila)\n",
      "Hrvatska misao (1869.)\n"
     ]
    },
    {
     "name": "stderr",
     "output_type": "stream",
     "text": [
      " 22%|██▏       | 2186/10000 [24:05<1:17:42,  1.68it/s]"
     ]
    },
    {
     "name": "stdout",
     "output_type": "stream",
     "text": [
      "Error occured \"Naftalan\" may refer to: \n",
      "Naftalan Ivanić-Grad\n",
      "Naftalan\n",
      "Naftalan (zemno mineralno ulje)\n"
     ]
    },
    {
     "name": "stderr",
     "output_type": "stream",
     "text": [
      " 22%|██▏       | 2235/10000 [24:30<1:14:22,  1.74it/s]"
     ]
    },
    {
     "name": "stdout",
     "output_type": "stream",
     "text": [
      "Error occured \"Berkeley\" may refer to: \n",
      "Berkeley, Kalifornija\n",
      "Sveučilište u Berkeleyu\n",
      "Berkeley, Illinois\n",
      "Berkeley, Missouri\n",
      "Berkeley, okrug Albemarle, Virginia\n",
      "Berkeley, okrug Charles City, Virginia\n",
      "Berkeley, Ontario\n",
      "Berkeley, Novi Južni Wales\n",
      "Berkeley Vale, New South Wales\n",
      "Berkeley (astronomski katalog)\n"
     ]
    },
    {
     "name": "stderr",
     "output_type": "stream",
     "text": [
      " 22%|██▏       | 2236/10000 [24:32<2:18:26,  1.07s/it]"
     ]
    },
    {
     "name": "stdout",
     "output_type": "stream",
     "text": [
      "Error occured \"Pripjat (razdvojba)\" may refer to: \n",
      "Pripjat\n",
      "Pripjat (rijeka)\n"
     ]
    },
    {
     "name": "stderr",
     "output_type": "stream",
     "text": [
      " 22%|██▏       | 2237/10000 [24:34<3:03:29,  1.42s/it]"
     ]
    },
    {
     "name": "stdout",
     "output_type": "stream",
     "text": [
      "Error occured \"FK Lokomotiva\" may refer to: \n",
      "FK Lokomotiva Brčko\n",
      "FK Lokomotiva Beograd\n",
      "FK Lokomotiva Mostar\n",
      "FK Lokomotiva Skopje\n"
     ]
    },
    {
     "name": "stderr",
     "output_type": "stream",
     "text": [
      " 23%|██▎       | 2266/10000 [24:53<1:17:08,  1.67it/s]"
     ]
    },
    {
     "name": "stdout",
     "output_type": "stream",
     "text": [
      "Error occured \"Kuka\" may refer to: \n",
      "Kuka (indijansko selo)\n",
      "Kuka (1991.)\n",
      "Kuka (Višegrad, BiH)\n",
      "Kuka (pleme)\n",
      "Bljušt\n"
     ]
    },
    {
     "name": "stderr",
     "output_type": "stream",
     "text": [
      " 23%|██▎       | 2268/10000 [24:56<2:01:06,  1.06it/s]"
     ]
    },
    {
     "name": "stdout",
     "output_type": "stream",
     "text": [
      "Error occured \"Vuge (razdvojba)\" may refer to: \n",
      "Vuge\n",
      "Euroazijska zlatna vuga\n",
      "Folklorna družina Vuga\n",
      "Etno udruga Vuge\n",
      "Zlatna vuga\n"
     ]
    },
    {
     "name": "stderr",
     "output_type": "stream",
     "text": [
      " 23%|██▎       | 2271/10000 [24:59<2:00:44,  1.07it/s]"
     ]
    },
    {
     "name": "stdout",
     "output_type": "stream",
     "text": [
      "Error occured \"Podolci\" may refer to: \n",
      "Podolec\n",
      "Podolci (hrid)\n",
      "Cresu\n",
      "Podolja\n",
      "Podolci (Rusini)\n",
      "Podolja\n",
      "podolsko govedo\n",
      "slavonsko-srijemski podolac\n",
      "Podolica\n",
      "↑\n"
     ]
    },
    {
     "name": "stderr",
     "output_type": "stream",
     "text": [
      " 23%|██▎       | 2286/10000 [25:10<1:26:08,  1.49it/s]"
     ]
    },
    {
     "name": "stdout",
     "output_type": "stream",
     "text": [
      "Error occured \"Luka Perković\" may refer to: \n",
      "Luka Perković (književnik)\n",
      "Luka \"Perkz\" Perković\n"
     ]
    },
    {
     "name": "stderr",
     "output_type": "stream",
     "text": [
      " 23%|██▎       | 2295/10000 [25:17<1:19:04,  1.62it/s]"
     ]
    },
    {
     "name": "stdout",
     "output_type": "stream",
     "text": [
      "Error occured \"Mali Otok\" may refer to: \n",
      "Mali Otok (Legrad)\n",
      "Mali otok (otok)\n"
     ]
    },
    {
     "name": "stderr",
     "output_type": "stream",
     "text": [
      " 24%|██▍       | 2382/10000 [26:11<1:13:39,  1.72it/s]"
     ]
    },
    {
     "name": "stdout",
     "output_type": "stream",
     "text": [
      "Error occured \"Crnići\" may refer to: \n",
      "Crnići (Čapljina, BiH)\n",
      "Crnići (Stolac, BiH)\n",
      "Crnići (Kreševo, BiH)\n"
     ]
    },
    {
     "name": "stderr",
     "output_type": "stream",
     "text": [
      " 24%|██▍       | 2397/10000 [26:21<1:14:41,  1.70it/s]"
     ]
    },
    {
     "name": "stdout",
     "output_type": "stream",
     "text": [
      "Error occured \"Timor (razdvojba)\" may refer to: \n",
      "Timor\n",
      "Istočni Timor\n",
      "Timor (pjesma)\n",
      "Timor (Victoria, Australija)\n",
      "Timor (mitologija)\n",
      "stršenjak\n"
     ]
    },
    {
     "name": "stderr",
     "output_type": "stream",
     "text": [
      " 24%|██▍       | 2408/10000 [26:30<1:14:14,  1.70it/s]"
     ]
    },
    {
     "name": "stdout",
     "output_type": "stream",
     "text": [
      "Error occured \"Arthur Law\" may refer to: \n",
      "Arthur Law (dramski pisac)\n",
      "Arthur Law (hokej na travi)\n",
      "Arthur Law (političar)\n"
     ]
    },
    {
     "name": "stderr",
     "output_type": "stream",
     "text": [
      " 24%|██▍       | 2421/10000 [26:39<1:15:01,  1.68it/s]"
     ]
    },
    {
     "name": "stdout",
     "output_type": "stream",
     "text": [
      "Error occured \"Milan Pavlović\" may refer to: \n",
      "Milan Pavlović (glumac)\n",
      "Milan Pavlović (nogometaš)\n",
      "Milan Pavlović (političar)\n",
      "Milan Pavlović (slikar)\n"
     ]
    },
    {
     "name": "stderr",
     "output_type": "stream",
     "text": [
      " 25%|██▌       | 2507/10000 [27:35<1:13:43,  1.69it/s]"
     ]
    },
    {
     "name": "stdout",
     "output_type": "stream",
     "text": [
      "Error occured \"INK\" may refer to: \n",
      "Istarsko narodno kazalište\n",
      "Indijski nacionalni kongres\n"
     ]
    },
    {
     "name": "stderr",
     "output_type": "stream",
     "text": [
      " 26%|██▌       | 2587/10000 [28:24<1:18:40,  1.57it/s]"
     ]
    },
    {
     "name": "stdout",
     "output_type": "stream",
     "text": [
      "Error occured \"Dok\" may refer to: \n",
      "građevinski\n",
      "lučki dok\n",
      "↑\n"
     ]
    },
    {
     "name": "stderr",
     "output_type": "stream",
     "text": [
      " 26%|██▌       | 2598/10000 [28:32<1:17:56,  1.58it/s]"
     ]
    },
    {
     "name": "stdout",
     "output_type": "stream",
     "text": [
      "Error occured \"Glamočani\" may refer to: \n",
      "Glamočani (Laktaši, BiH)\n",
      "Glamočani (Srbac, BiH)\n"
     ]
    },
    {
     "name": "stderr",
     "output_type": "stream",
     "text": [
      " 26%|██▋       | 2642/10000 [29:00<1:13:00,  1.68it/s]"
     ]
    },
    {
     "name": "stdout",
     "output_type": "stream",
     "text": [
      "Error occured \"Robert S. McMillan\" may refer to: \n",
      "Robert S. McMillan (astronom)\n",
      "Robert S. McMillan (arhitekt)\n",
      "Robert McMillan\n"
     ]
    },
    {
     "name": "stderr",
     "output_type": "stream",
     "text": [
      " 27%|██▋       | 2652/10000 [29:07<1:12:39,  1.69it/s]"
     ]
    },
    {
     "name": "stdout",
     "output_type": "stream",
     "text": [
      "Error occured \"Leća\" may refer to: \n",
      "predmet\n",
      "gravitacijske leće\n",
      "uređaj\n",
      "elektroda\n",
      "leća (biljka)\n",
      "leća (optika)\n",
      "kontaktne leće\n",
      "leća (oko)\n",
      "↑\n"
     ]
    },
    {
     "name": "stderr",
     "output_type": "stream",
     "text": [
      " 27%|██▋       | 2658/10000 [29:13<1:26:43,  1.41it/s]"
     ]
    },
    {
     "name": "stdout",
     "output_type": "stream",
     "text": [
      "Error occured \"Silkeborg (razdvojba)\" may refer to: \n",
      "Silkeborg\n",
      "Silkeborg (općina)\n"
     ]
    },
    {
     "name": "stderr",
     "output_type": "stream",
     "text": [
      " 27%|██▋       | 2675/10000 [29:24<1:11:22,  1.71it/s]"
     ]
    },
    {
     "name": "stdout",
     "output_type": "stream",
     "text": [
      "Error occured \"M10\" may refer to: \n",
      "Messier 10\n",
      "BMW M10\n",
      "M10 Wolverine\n",
      "152mm M1938 (M-10)\n"
     ]
    },
    {
     "name": "stderr",
     "output_type": "stream",
     "text": [
      " 28%|██▊       | 2762/10000 [30:17<1:10:05,  1.72it/s]"
     ]
    },
    {
     "name": "stdout",
     "output_type": "stream",
     "text": [
      "Error occured \"Mississippi (razdvojba)\" may refer to: \n",
      "Mississippi\n",
      "Mississippi (rijeka)\n"
     ]
    },
    {
     "name": "stderr",
     "output_type": "stream",
     "text": [
      " 28%|██▊       | 2764/10000 [30:20<1:49:52,  1.10it/s]"
     ]
    },
    {
     "name": "stdout",
     "output_type": "stream",
     "text": [
      "Error occured \"Mol\" may refer to: \n",
      "Mol (mjerna jedinica)\n",
      "Mol (glazba)\n",
      "Mol (građevina)\n",
      "Mol (Ada, Srbija)\n",
      "Mol (Belgija)\n",
      "mobilni obalni lanser\n"
     ]
    },
    {
     "name": "stderr",
     "output_type": "stream",
     "text": [
      " 28%|██▊       | 2769/10000 [30:25<1:33:52,  1.28it/s]"
     ]
    },
    {
     "name": "stdout",
     "output_type": "stream",
     "text": [
      "Error occured \"Banovci\" may refer to: \n",
      "Banovac\n",
      "Banovci (Banovina)\n",
      "Banovci (Bebrina)\n",
      "Banovci (Nijemci)\n",
      "Vinkovački Banovci\n",
      "Banovci (Veržej, Slovenija)\n",
      "Stari Banovci\n",
      "Novi Banovci\n"
     ]
    },
    {
     "name": "stderr",
     "output_type": "stream",
     "text": [
      " 28%|██▊       | 2779/10000 [30:32<1:12:42,  1.66it/s]"
     ]
    },
    {
     "name": "stdout",
     "output_type": "stream",
     "text": [
      "Error occured \"Plešivica (razdvojba)\" may refer to: \n",
      "Plešivica\n",
      "Plešivica (Jastrebarsko)\n",
      "Plešivica (Jastrebarsko)\n",
      "Plešivica (Selnica)\n",
      "Plešivica (Vrbovsko)\n"
     ]
    },
    {
     "name": "stderr",
     "output_type": "stream",
     "text": [
      " 28%|██▊       | 2795/10000 [30:43<1:11:57,  1.67it/s]"
     ]
    },
    {
     "name": "stdout",
     "output_type": "stream",
     "text": [
      "Error occured \"Suhača\" may refer to: \n",
      "Suhača (Bosanski Novi, BiH)\n",
      "Suhača (Livno, BiH)\n",
      "Suhača (Sanski Most, BiH)\n"
     ]
    },
    {
     "name": "stderr",
     "output_type": "stream",
     "text": [
      " 28%|██▊       | 2835/10000 [31:08<1:09:06,  1.73it/s]"
     ]
    },
    {
     "name": "stdout",
     "output_type": "stream",
     "text": [
      "Error occured \"Dubočani\" may refer to: \n",
      "Dubočani (Ključ, BiH)\n",
      "Dubočani (Ribnik, BiH)\n",
      "Dubočani (Konjic, BiH)\n",
      "Dubočani (Trebinje, BiH)\n"
     ]
    },
    {
     "name": "stderr",
     "output_type": "stream",
     "text": [
      " 29%|██▊       | 2853/10000 [31:21<1:09:19,  1.72it/s]"
     ]
    },
    {
     "name": "stdout",
     "output_type": "stream",
     "text": [
      "Error occured \"Odisej (razdvojba)\" may refer to: \n",
      "Odisej\n",
      "Odisej (krater na Tetiji)\n",
      "Odisej (svemirska letjelica)\n"
     ]
    },
    {
     "name": "stderr",
     "output_type": "stream",
     "text": [
      " 29%|██▊       | 2866/10000 [31:30<1:10:38,  1.68it/s]"
     ]
    },
    {
     "name": "stdout",
     "output_type": "stream",
     "text": [
      "Error occured \"Sutvara\" may refer to: \n",
      "Sutvara (otok)\n",
      "Sutvara (Kotor, Crna Gora)\n"
     ]
    },
    {
     "name": "stderr",
     "output_type": "stream",
     "text": [
      " 29%|██▉       | 2885/10000 [31:43<1:12:40,  1.63it/s]"
     ]
    },
    {
     "name": "stdout",
     "output_type": "stream",
     "text": [
      "Error occured \"Perzej\" may refer to: \n",
      "Perzej (zviježđe)\n",
      "Perzej (mitologija)\n",
      "Perzej Makedonski\n"
     ]
    },
    {
     "name": "stderr",
     "output_type": "stream",
     "text": [
      " 30%|██▉       | 2956/10000 [32:26<1:08:43,  1.71it/s]"
     ]
    },
    {
     "name": "stdout",
     "output_type": "stream",
     "text": [
      "Error occured \"Rajkovac\" may refer to: \n",
      "Rajkovac (Mladenovac, Srbija)\n",
      "Rajkovac (Topola, Srbija)\n",
      "Error occured \"Šokalski\" may refer to: \n",
      "Juli Šokalski\n",
      "Šokalski (otok)\n",
      "Šokalski (tjesnac)\n",
      "Akademik Šokalski\n"
     ]
    },
    {
     "name": "stderr",
     "output_type": "stream",
     "text": [
      " 30%|██▉       | 2997/10000 [32:54<1:07:34,  1.73it/s]"
     ]
    },
    {
     "name": "stdout",
     "output_type": "stream",
     "text": [
      "Error occured \"Fontana (razdvojba)\" may refer to: \n",
      "Giovanni Fontana\n",
      "Domenico Fontana\n",
      "Lavinia Fontana\n",
      "Rosa Fontana\n",
      "Arianna Fontana\n",
      "Fontana (Kalifornija)\n"
     ]
    },
    {
     "name": "stderr",
     "output_type": "stream",
     "text": [
      " 30%|███       | 3012/10000 [33:04<1:08:56,  1.69it/s]"
     ]
    },
    {
     "name": "stdout",
     "output_type": "stream",
     "text": [
      "Error occured \"Esbjerg (razdvojba)\" may refer to: \n",
      "Esbjerg\n",
      "Esbjerg (općina)\n"
     ]
    },
    {
     "name": "stderr",
     "output_type": "stream",
     "text": [
      " 30%|███       | 3023/10000 [33:13<1:12:42,  1.60it/s]"
     ]
    },
    {
     "name": "stdout",
     "output_type": "stream",
     "text": [
      "Error occured \"Miltijad\" may refer to: \n",
      "Miltijad, papa\n",
      "Miltijad Stariji\n",
      "Miltijad Mlađi\n"
     ]
    },
    {
     "name": "stderr",
     "output_type": "stream",
     "text": [
      " 30%|███       | 3035/10000 [33:21<1:08:27,  1.70it/s]"
     ]
    },
    {
     "name": "stdout",
     "output_type": "stream",
     "text": [
      "Error occured \"Gornje Ratkovo\" may refer to: \n",
      "Gornje Ratkovo (Ključ, BiH)\n",
      "Gornje Ratkovo (Ribnik, BiH)\n"
     ]
    },
    {
     "name": "stderr",
     "output_type": "stream",
     "text": [
      " 31%|███       | 3085/10000 [33:53<1:07:51,  1.70it/s]"
     ]
    },
    {
     "name": "stdout",
     "output_type": "stream",
     "text": [
      "Error occured \"Charles Power\" may refer to: \n",
      "Charles Power (hokej na travi)\n",
      "Charles Gavan Power\n"
     ]
    },
    {
     "name": "stderr",
     "output_type": "stream",
     "text": [
      " 31%|███       | 3123/10000 [34:16<1:07:05,  1.71it/s]"
     ]
    },
    {
     "name": "stdout",
     "output_type": "stream",
     "text": [
      "Error occured \"Najduži dan\" may refer to: \n",
      "suncostaj\n",
      "Najduži dan (1962.)\n",
      "Najduži dan (dokumentarni serijal)\n",
      "Najduži dan (knjiga)\n"
     ]
    },
    {
     "name": "stderr",
     "output_type": "stream",
     "text": [
      " 31%|███▏      | 3141/10000 [34:29<1:07:02,  1.71it/s]"
     ]
    },
    {
     "name": "stdout",
     "output_type": "stream",
     "text": [
      "Error occured \"Brnica\" may refer to: \n",
      "Brnica (Hrastnik, Slovenija)\n",
      "Brnica (Žalec, Slovenija)\n"
     ]
    },
    {
     "name": "stderr",
     "output_type": "stream",
     "text": [
      " 31%|███▏      | 3147/10000 [34:34<1:16:25,  1.49it/s]"
     ]
    },
    {
     "name": "stdout",
     "output_type": "stream",
     "text": [
      "Error occured \"Demo\" may refer to: \n",
      "demo (glazba)\n",
      "demo (računarstvo)\n",
      "Demo 2000\n"
     ]
    },
    {
     "name": "stderr",
     "output_type": "stream",
     "text": [
      " 32%|███▏      | 3170/10000 [34:50<1:10:51,  1.61it/s]"
     ]
    },
    {
     "name": "stdout",
     "output_type": "stream",
     "text": [
      "Error occured \"Quảng Ninh\" may refer to: \n",
      "Quảng Ninh (okrug)\n",
      "Quảng Ninh (pokrajina)\n"
     ]
    },
    {
     "name": "stderr",
     "output_type": "stream",
     "text": [
      " 32%|███▏      | 3175/10000 [34:54<1:23:02,  1.37it/s]"
     ]
    },
    {
     "name": "stdout",
     "output_type": "stream",
     "text": [
      "Error occured \"Ávila (razdvojba)\" may refer to: \n",
      "Ávila (grad)\n",
      "Ávila (pokrajina)\n",
      "Ciego de Ávila\n",
      "Ciego de Ávila (pokrajina)\n"
     ]
    },
    {
     "name": "stderr",
     "output_type": "stream",
     "text": [
      " 33%|███▎      | 3263/10000 [35:49<1:06:42,  1.68it/s]"
     ]
    },
    {
     "name": "stdout",
     "output_type": "stream",
     "text": [
      "Error occured \"Injigo\" may refer to: \n",
      "Injigo (program)\n",
      "Injigo (časopis)\n"
     ]
    },
    {
     "name": "stderr",
     "output_type": "stream",
     "text": [
      " 33%|███▎      | 3290/10000 [36:07<1:05:06,  1.72it/s]"
     ]
    },
    {
     "name": "stdout",
     "output_type": "stream",
     "text": [
      "Error occured \"Obrežje\" may refer to: \n",
      "Obrežje (Brežice, Slovenija)\n",
      "Obrežje (Radeče, Slovenija)\n",
      "Obrežje pri Zidanem Mostu\n"
     ]
    },
    {
     "name": "stderr",
     "output_type": "stream",
     "text": [
      " 33%|███▎      | 3294/10000 [36:11<1:24:10,  1.33it/s]"
     ]
    },
    {
     "name": "stdout",
     "output_type": "stream",
     "text": [
      "Error occured \"Nikefor\" may refer to: \n",
      "Nikefor I.\n",
      "Nikefor II. Foka\n",
      "Nikefor III. Botanijat\n"
     ]
    },
    {
     "name": "stderr",
     "output_type": "stream",
     "text": [
      " 33%|███▎      | 3296/10000 [36:13<1:51:40,  1.00it/s]"
     ]
    },
    {
     "name": "stdout",
     "output_type": "stream",
     "text": [
      "Error occured \"Liga prvaka\" may refer to: \n",
      "UEFA Liga prvaka\n",
      "UEFA Liga prvaka\n",
      "CONCACAF Liga prvaka\n",
      "OFC Liga prvaka\n",
      "AFC Liga prvaka\n",
      "CAF Liga prvaka\n",
      "Liga prvaka u rukometu\n",
      "Liga prvaka u rukometu\n",
      "Liga prvaka u rukometu za žene\n",
      "Liga prvaka u odbojci za muškarce\n",
      "Liga prvaka u odbojci za žene\n",
      "Liga prvaka (hokej na ledu)\n"
     ]
    },
    {
     "name": "stderr",
     "output_type": "stream",
     "text": [
      " 33%|███▎      | 3311/10000 [36:24<1:14:15,  1.50it/s]"
     ]
    },
    {
     "name": "stdout",
     "output_type": "stream",
     "text": [
      "Error occured \"Križevac\" may refer to: \n",
      "Križevac (Međugorje)\n",
      "Križevac (Stolac)\n"
     ]
    },
    {
     "name": "stderr",
     "output_type": "stream",
     "text": [
      " 33%|███▎      | 3336/10000 [36:41<1:07:00,  1.66it/s]"
     ]
    },
    {
     "name": "stdout",
     "output_type": "stream",
     "text": [
      "Error occured \"Stanovi\" may refer to: \n",
      "Stanovi (Zadar)\n",
      "Stanovi (distrikt Brčko)\n",
      "Stanovi (Doboj, BiH)\n"
     ]
    },
    {
     "name": "stderr",
     "output_type": "stream",
     "text": [
      " 34%|███▍      | 3424/10000 [37:35<1:08:15,  1.61it/s]"
     ]
    },
    {
     "name": "stdout",
     "output_type": "stream",
     "text": [
      "Error occured \"Antun Bačić\" may refer to: \n",
      "Antun Bačić (slikar)\n",
      "Antun Bačić (provincijal)\n"
     ]
    },
    {
     "name": "stderr",
     "output_type": "stream",
     "text": [
      " 34%|███▍      | 3441/10000 [37:47<1:02:33,  1.75it/s]"
     ]
    },
    {
     "name": "stdout",
     "output_type": "stream",
     "text": [
      "Error occured \"Ederson\" may refer to: \n",
      "Ederson Honorato Campos\n",
      "Ederson Moraes\n"
     ]
    },
    {
     "name": "stderr",
     "output_type": "stream",
     "text": [
      " 35%|███▌      | 3523/10000 [38:37<1:03:02,  1.71it/s]"
     ]
    },
    {
     "name": "stdout",
     "output_type": "stream",
     "text": [
      "Error occured \"HZHB\" may refer to: \n",
      "Hrvatska zajednica Herceg-Bosna (udruženje)\n",
      "Hrvatska Republika Herceg-Bosna\n",
      "Hrvatsko zajedništvo Herceg-Bosne\n"
     ]
    },
    {
     "name": "stderr",
     "output_type": "stream",
     "text": [
      " 35%|███▌      | 3528/10000 [38:42<1:17:17,  1.40it/s]"
     ]
    },
    {
     "name": "stdout",
     "output_type": "stream",
     "text": [
      "Error occured \"Cabarita\" may refer to: \n",
      "Cabarita (Novi Južni Wales)\n",
      "Cabarita (Victoria)\n",
      "Cabarita (rijeka)\n"
     ]
    },
    {
     "name": "stderr",
     "output_type": "stream",
     "text": [
      " 36%|███▌      | 3561/10000 [39:03<1:09:43,  1.54it/s]"
     ]
    },
    {
     "name": "stdout",
     "output_type": "stream",
     "text": [
      "Error occured \"Need for Speed: Most Wanted\" may refer to: \n",
      "Need for Speed: Most Wanted\n",
      "Need for Speed: Most Wanted\n"
     ]
    },
    {
     "name": "stderr",
     "output_type": "stream",
     "text": [
      " 36%|███▋      | 3645/10000 [39:55<1:10:33,  1.50it/s]"
     ]
    },
    {
     "name": "stdout",
     "output_type": "stream",
     "text": [
      "Error occured \"Kosjerić (razdvojba)\" may refer to: \n",
      "Kosjerić\n",
      "Kosjerić (općina)\n"
     ]
    },
    {
     "name": "stderr",
     "output_type": "stream",
     "text": [
      " 37%|███▋      | 3692/10000 [40:25<1:07:10,  1.57it/s]"
     ]
    },
    {
     "name": "stdout",
     "output_type": "stream",
     "text": [
      "Error occured \"Dobro Selo\" may refer to: \n",
      "Dobro Selo (Bužim, BiH)\n",
      "Dobro Selo (Bosanski Petrovac, BiH)\n",
      "Dobro Selo (Čitluk, BiH)\n",
      "Dobro Selo (Visoko, BiH)\n",
      "Dobro (Livno, BiH)\n"
     ]
    },
    {
     "name": "stderr",
     "output_type": "stream",
     "text": [
      " 37%|███▋      | 3718/10000 [40:42<1:01:57,  1.69it/s]"
     ]
    },
    {
     "name": "stdout",
     "output_type": "stream",
     "text": [
      "Error occured \"Maraton (razdvojba)\" may refer to: \n",
      "Maraton\n",
      "Maraton, Grčka\n",
      "Maraton (jezero)\n",
      "Maraton lađa\n"
     ]
    },
    {
     "name": "stderr",
     "output_type": "stream",
     "text": [
      " 37%|███▋      | 3746/10000 [41:01<59:17,  1.76it/s]"
     ]
    },
    {
     "name": "stdout",
     "output_type": "stream",
     "text": [
      "Error occured \"Afambo\" may refer to: \n",
      "Afambo (woreda)\n",
      "Afambo (jezero)\n"
     ]
    },
    {
     "name": "stderr",
     "output_type": "stream",
     "text": [
      " 38%|███▊      | 3758/10000 [41:10<1:03:41,  1.63it/s]"
     ]
    },
    {
     "name": "stdout",
     "output_type": "stream",
     "text": [
      "Error occured \"Duda\" may refer to: \n",
      "Duda (rijeka)\n",
      "Duda (nogometaš, rođen 1980.)\n"
     ]
    },
    {
     "name": "stderr",
     "output_type": "stream",
     "text": [
      " 38%|███▊      | 3769/10000 [41:18<1:01:39,  1.68it/s]"
     ]
    },
    {
     "name": "stdout",
     "output_type": "stream",
     "text": [
      "Error occured \"Ravne\" may refer to: \n",
      "Ravne (Kladanj, BiH)\n",
      "Ravne (Kotor Varoš, BiH)\n",
      "Ravne (Vareš, BiH)\n",
      "Ravne Donje\n",
      "Ravne Gornje\n",
      "Ravne (Cerklje na Gorenjskem, Slovenija)\n",
      "Ravne (Cerknica, Slovenija)\n",
      "Ravne (Šoštanj, Slovenija)\n",
      "Ravne (Železniki, Slovenija)\n",
      "Ravne (Mirna, Slovenija)\n",
      "Ravne (Črniče, Slovenija)\n",
      "Ravna\n",
      "Ravni\n",
      "Ravno\n"
     ]
    },
    {
     "name": "stderr",
     "output_type": "stream",
     "text": [
      " 38%|███▊      | 3816/10000 [41:47<58:53,  1.75it/s]"
     ]
    },
    {
     "name": "stdout",
     "output_type": "stream",
     "text": [
      "Error occured \"Borje\" may refer to: \n",
      "Borje (Kalnik)\n",
      "Borje (Orebić)\n",
      "Borje (Foča, BiH)\n",
      "Borje (Žabljak, Crna Gora)\n"
     ]
    },
    {
     "name": "stderr",
     "output_type": "stream",
     "text": [
      " 39%|███▊      | 3855/10000 [42:11<1:03:29,  1.61it/s]"
     ]
    },
    {
     "name": "stdout",
     "output_type": "stream",
     "text": [
      "Error occured \"Kašmir (razdvojba)\" may refer to: \n",
      "Kašmir\n",
      "Azad Kašmir\n",
      "Kašmir (tkanina)\n"
     ]
    },
    {
     "name": "stderr",
     "output_type": "stream",
     "text": [
      " 39%|███▊      | 3874/10000 [42:24<58:20,  1.75it/s]"
     ]
    },
    {
     "name": "stdout",
     "output_type": "stream",
     "text": [
      "Error occured \"Roland Garros (razdvojba)\" may refer to: \n",
      "Roland Garros\n",
      "Roland Garros (osoba)\n"
     ]
    },
    {
     "name": "stderr",
     "output_type": "stream",
     "text": [
      " 39%|███▉      | 3899/10000 [42:40<58:11,  1.75it/s]"
     ]
    },
    {
     "name": "stdout",
     "output_type": "stream",
     "text": [
      "Error occured \"Drinić\" may refer to: \n",
      "Drinić (Bosanski Petrovac, BiH)\n",
      "Drinić (Petrovac, BiH)\n"
     ]
    },
    {
     "name": "stderr",
     "output_type": "stream",
     "text": [
      " 39%|███▉      | 3917/10000 [42:52<59:40,  1.70it/s]  "
     ]
    },
    {
     "name": "stdout",
     "output_type": "stream",
     "text": [
      "Error occured \"Mana (razdvojba)\" may refer to: \n",
      "Mana\n",
      "Mana (indijanci)\n",
      "Mana (otok)\n",
      "Mana (svojstvo)\n",
      "Mana Pools\n",
      "Mana (otok, Novi Zeland)\n",
      "Mana, Francuska Gijana\n",
      "Mana (Oman)\n"
     ]
    },
    {
     "name": "stderr",
     "output_type": "stream",
     "text": [
      " 39%|███▉      | 3925/10000 [42:59<1:04:38,  1.57it/s]"
     ]
    },
    {
     "name": "stdout",
     "output_type": "stream",
     "text": [
      "Error occured \"Vinište\" may refer to: \n",
      "Vinište (Konjic, BiH)\n",
      "Vinište (Žepče, BiH)\n"
     ]
    },
    {
     "name": "stderr",
     "output_type": "stream",
     "text": [
      " 40%|███▉      | 3963/10000 [43:22<58:48,  1.71it/s]"
     ]
    },
    {
     "name": "stdout",
     "output_type": "stream",
     "text": [
      "Error occured \"Orlovi nokti\" may refer to: \n",
      "Etruščanska kozokrvina\n",
      "prava kozokrvina\n"
     ]
    },
    {
     "name": "stderr",
     "output_type": "stream",
     "text": [
      " 40%|███▉      | 3980/10000 [43:34<59:11,  1.69it/s]"
     ]
    },
    {
     "name": "stdout",
     "output_type": "stream",
     "text": [
      "Error occured \"El Limon\" may refer to: \n",
      "El Limón (rijeka)\n",
      "El Limón (grad)\n"
     ]
    },
    {
     "name": "stderr",
     "output_type": "stream",
     "text": [
      " 40%|███▉      | 3989/10000 [43:41<1:00:41,  1.65it/s]"
     ]
    },
    {
     "name": "stdout",
     "output_type": "stream",
     "text": [
      "Error occured \"Azra (razdvojba)\" may refer to: \n",
      "Azra\n",
      "Azra (album)\n",
      "Agencija za razvoj Varaždinske županije (AZRA)\n",
      "Azra (časopis)\n"
     ]
    },
    {
     "name": "stderr",
     "output_type": "stream",
     "text": [
      " 40%|████      | 4003/10000 [43:51<59:31,  1.68it/s]"
     ]
    },
    {
     "name": "stdout",
     "output_type": "stream",
     "text": [
      "Error occured \"Ptice umiru pjevajući (razdvojba)\" may refer to: \n",
      "Ptice umiru pjevajući\n",
      "Ptice umiru pjevajući (miniserija)\n",
      "Ptice umiru pjevajući: Godine koje nedostaju\n",
      "Ptice umiru pjevajući (mjuzikl)\n"
     ]
    },
    {
     "name": "stderr",
     "output_type": "stream",
     "text": [
      " 40%|████      | 4024/10000 [44:04<56:53,  1.75it/s]"
     ]
    },
    {
     "name": "stdout",
     "output_type": "stream",
     "text": [
      "Error occured \"NGC 6623\" may refer to: \n",
      "NGC 6623-1\n",
      "NGC 6623-2\n"
     ]
    },
    {
     "name": "stderr",
     "output_type": "stream",
     "text": [
      " 41%|████      | 4061/10000 [44:28<58:19,  1.70it/s]"
     ]
    },
    {
     "name": "stdout",
     "output_type": "stream",
     "text": [
      "Error occured \"Ab urbe condita\" may refer to: \n",
      "Ab Urbe condita\n",
      "ab urbe condita (kalendar)\n",
      "Error occured \"Palazzo delle Poste\" may refer to: \n",
      "Palazzo delle Poste (Catania)\n",
      "Palazzo delle Poste (Napulj)\n",
      "Palazzo delle Poste (Palermo)\n",
      "Palazzo di Riserva\n"
     ]
    },
    {
     "name": "stderr",
     "output_type": "stream",
     "text": [
      " 41%|████      | 4100/10000 [44:54<56:16,  1.75it/s]"
     ]
    },
    {
     "name": "stdout",
     "output_type": "stream",
     "text": [
      "Error occured \"Zasavica\" may refer to: \n",
      "Zasavica (Bosanski Šamac, BiH)\n",
      "Zasavica (Dobretići, BiH)\n",
      "Zasavica I\n",
      "Zasavica II\n",
      "Posebni rezervat prirode Zasavica\n",
      "Zasavica (rijeka)\n"
     ]
    },
    {
     "name": "stderr",
     "output_type": "stream",
     "text": [
      " 41%|████▏     | 4139/10000 [45:19<1:01:07,  1.60it/s]"
     ]
    },
    {
     "name": "stdout",
     "output_type": "stream",
     "text": [
      "Error occured \"Bernard Williams\" may refer to: \n",
      "Bernard Williams (filozof)\n",
      "Bernard Williams (atletičar)\n"
     ]
    },
    {
     "name": "stderr",
     "output_type": "stream",
     "text": [
      " 42%|████▏     | 4178/10000 [45:44<59:36,  1.63it/s]  "
     ]
    },
    {
     "name": "stdout",
     "output_type": "stream",
     "text": [
      "Error occured \"Šušanj (razdvojba)\" may refer to: \n",
      "Šušanj\n",
      "Šušanj (Bar, Crna Gora)\n"
     ]
    },
    {
     "name": "stderr",
     "output_type": "stream",
     "text": [
      " 42%|████▏     | 4235/10000 [46:19<56:15,  1.71it/s]"
     ]
    },
    {
     "name": "stdout",
     "output_type": "stream",
     "text": [
      "Error occured \"Padež (razdvojba)\" may refer to: \n",
      "Padež\n",
      "Padež (Laško, Slovenija)\n",
      "Padež (Vrhnika, Slovenija)\n",
      "Padež (Zagorje ob Savi, Slovenija)\n",
      "Padež (Kolašin, Crna Gora)\n"
     ]
    },
    {
     "name": "stderr",
     "output_type": "stream",
     "text": [
      " 42%|████▏     | 4236/10000 [46:21<1:47:21,  1.12s/it]"
     ]
    },
    {
     "name": "stdout",
     "output_type": "stream",
     "text": [
      "Error occured \"M5\" may refer to: \n",
      "M5 (raketa)\n",
      "Messier 5\n",
      "BMW M5\n",
      "CALM M5\n",
      "Sord M5\n",
      "Panasonic M5\n",
      "M5 (vlakno)\n",
      "M3 (polugusjenicar)\n",
      "Grigorović M5\n",
      "M5 (Zvjezdane staze)\n",
      "M5 (TV kanal)\n",
      "Magistralna cesta M5 (Bosna i Hercegovina)\n"
     ]
    },
    {
     "name": "stderr",
     "output_type": "stream",
     "text": [
      " 42%|████▏     | 4237/10000 [46:23<2:19:05,  1.45s/it]"
     ]
    },
    {
     "name": "stdout",
     "output_type": "stream",
     "text": [
      "Error occured \"Skarabej\" may refer to: \n",
      "skarabej (artefakt)\n",
      "kotrljan\n"
     ]
    },
    {
     "name": "stderr",
     "output_type": "stream",
     "text": [
      " 43%|████▎     | 4288/10000 [46:55<54:44,  1.74it/s]"
     ]
    },
    {
     "name": "stdout",
     "output_type": "stream",
     "text": [
      "Error occured \"George Abell\" may refer to: \n",
      "George Ogden Abell\n",
      "George Abel\n",
      "George Edmond Brackenbury Abell\n"
     ]
    },
    {
     "name": "stderr",
     "output_type": "stream",
     "text": [
      " 43%|████▎     | 4311/10000 [47:11<55:28,  1.71it/s]"
     ]
    },
    {
     "name": "stdout",
     "output_type": "stream",
     "text": [
      "Error occured \"Sporazum u Saint-Germain-en-Layeu\" may refer to: \n",
      "Sporazum u Saint-Germain-en-Layeu (1570.)\n",
      "Sporazum u Saint-Germain-en-Layeu (1632.)\n",
      "Sporazum u Saint-Germain-en-Layeu (1679.)\n",
      "Sporazum u Saint-Germain-en-Layeu (1919.)\n"
     ]
    },
    {
     "name": "stderr",
     "output_type": "stream",
     "text": [
      " 43%|████▎     | 4319/10000 [47:17<1:00:13,  1.57it/s]"
     ]
    },
    {
     "name": "stdout",
     "output_type": "stream",
     "text": [
      "Error occured \"Henryk Górecki\" may refer to: \n",
      "Henryk Górecki\n",
      "Henryk Jan Górecki\n",
      "Henryk Mikołaj Górecki\n"
     ]
    },
    {
     "name": "stderr",
     "output_type": "stream",
     "text": [
      " 43%|████▎     | 4330/10000 [47:25<58:20,  1.62it/s]"
     ]
    },
    {
     "name": "stdout",
     "output_type": "stream",
     "text": [
      "Error occured \"Odžaci\" may refer to: \n",
      "Odžaci (općina)\n",
      "Odžaci (Odžaci, Srbija)\n",
      "Odžaci (Konjic, BiH)\n"
     ]
    },
    {
     "name": "stderr",
     "output_type": "stream",
     "text": [
      " 43%|████▎     | 4339/10000 [47:32<58:36,  1.61it/s]  "
     ]
    },
    {
     "name": "stdout",
     "output_type": "stream",
     "text": [
      "Error occured \"PP\" may refer to: \n",
      "polipropilen\n",
      "Partido Popular\n"
     ]
    },
    {
     "name": "stderr",
     "output_type": "stream",
     "text": [
      " 43%|████▎     | 4341/10000 [47:35<1:33:42,  1.01it/s]"
     ]
    },
    {
     "name": "stdout",
     "output_type": "stream",
     "text": [
      "Error occured \"Berek (razdvojba)\" may refer to: \n",
      "Berek\n",
      "Berek (Bosanska Gradiška, BiH)\n",
      "Berek (rijeka)\n"
     ]
    },
    {
     "name": "stderr",
     "output_type": "stream",
     "text": [
      " 43%|████▎     | 4348/10000 [47:41<1:02:55,  1.50it/s]"
     ]
    },
    {
     "name": "stdout",
     "output_type": "stream",
     "text": [
      "Error occured \"Veliki Kal\" may refer to: \n",
      "Veliki Kal (Ivančna Gorica, Slovenija)\n",
      "Veliki Kal (Mirna Peč, Slovenija)\n"
     ]
    },
    {
     "name": "stderr",
     "output_type": "stream",
     "text": [
      " 44%|████▎     | 4355/10000 [47:47<1:01:21,  1.53it/s]"
     ]
    },
    {
     "name": "stdout",
     "output_type": "stream",
     "text": [
      "Error occured \"Preobrazba\" may refer to: \n",
      "preobrazba (botanika)\n",
      "preobrazba (zoologija)\n",
      "preobrazba (genetika)\n",
      "Metamorfoze\n",
      "metamorfne stijene\n"
     ]
    },
    {
     "name": "stderr",
     "output_type": "stream",
     "text": [
      " 44%|████▍     | 4439/10000 [48:38<53:00,  1.75it/s]"
     ]
    },
    {
     "name": "stdout",
     "output_type": "stream",
     "text": [
      "Error occured \"Patuljak\" may refer to: \n",
      "Patuljasti rast\n",
      "Patuljak (elektromagnetizam)\n",
      "Patuljak (mitološko biće)\n",
      "Patuljak (roman)\n"
     ]
    },
    {
     "name": "stderr",
     "output_type": "stream",
     "text": [
      " 44%|████▍     | 4445/10000 [48:43<1:00:43,  1.52it/s]"
     ]
    },
    {
     "name": "stdout",
     "output_type": "stream",
     "text": [
      "Error occured \"Dubrovnik (razdvojba)\" may refer to: \n",
      "Dubrovnik\n",
      "Dubrovnik (časopis Matice hrvatske)\n",
      "Dubrovnik (turistička ilustrirana revija)\n",
      "Dubrovnik (tjednik)\n",
      "Dubrovnik\n",
      "parobrod Dubrovnik\n",
      "ophodni brod-minopolagač Dubrovnik\n",
      "raketna topovnjača Dubrovnik\n",
      "trajekt Dubrovnik\n"
     ]
    },
    {
     "name": "stderr",
     "output_type": "stream",
     "text": [
      " 45%|████▌     | 4543/10000 [49:42<52:11,  1.74it/s]"
     ]
    },
    {
     "name": "stdout",
     "output_type": "stream",
     "text": [
      "Error occured \"Uronema\" may refer to: \n",
      "Uronema (Plantae)\n",
      "Uronema (Chromista)\n"
     ]
    },
    {
     "name": "stderr",
     "output_type": "stream",
     "text": [
      " 46%|████▌     | 4557/10000 [49:52<53:46,  1.69it/s]"
     ]
    },
    {
     "name": "stdout",
     "output_type": "stream",
     "text": [
      "Error occured \"Moselle\" may refer to: \n",
      "Moselle (rijeka)\n",
      "Moselle (departman)\n"
     ]
    },
    {
     "name": "stderr",
     "output_type": "stream",
     "text": [
      " 46%|████▋     | 4633/10000 [50:39<50:48,  1.76it/s]"
     ]
    },
    {
     "name": "stdout",
     "output_type": "stream",
     "text": [
      "Error occured \"Kritična točka\" may refer to: \n",
      "Kritična točka (TV emisija)\n",
      "Kritična točka (1964.)\n",
      "fazni dijagram\n"
     ]
    },
    {
     "name": "stderr",
     "output_type": "stream",
     "text": [
      " 46%|████▋     | 4650/10000 [50:51<51:54,  1.72it/s]"
     ]
    },
    {
     "name": "stdout",
     "output_type": "stream",
     "text": [
      "Error occured \"Seferovići\" may refer to: \n",
      "Seferovići (Bugojno, BiH)\n",
      "Seferovići (Uskoplje, BiH)\n"
     ]
    },
    {
     "name": "stderr",
     "output_type": "stream",
     "text": [
      " 47%|████▋     | 4668/10000 [51:03<51:38,  1.72it/s]"
     ]
    },
    {
     "name": "stdout",
     "output_type": "stream",
     "text": [
      "Error occured \"Marko Tadić\" may refer to: \n",
      "Marko Tadić (akademik)\n",
      "Marko Tadić (jezikoslovac)\n",
      "Marko Tadić (veterinar)\n",
      "Marko Tadić (hokejaš)\n",
      "Marko Tadić (slikar)\n",
      "Marko Tadić (političar)\n"
     ]
    },
    {
     "name": "stderr",
     "output_type": "stream",
     "text": [
      " 47%|████▋     | 4669/10000 [51:05<1:36:24,  1.09s/it]"
     ]
    },
    {
     "name": "stdout",
     "output_type": "stream",
     "text": [
      "Error occured \"Čin\" may refer to: \n",
      "Vojni čin\n",
      "Čin (kazalište)\n",
      "Čin (filozofija)\n",
      "Čin (narodi)\n",
      "Čin (jezici)\n",
      "Chin (država u Mjanmaru)\n",
      "Chin (planina)\n"
     ]
    },
    {
     "name": "stderr",
     "output_type": "stream",
     "text": [
      " 47%|████▋     | 4685/10000 [51:16<52:52,  1.68it/s]"
     ]
    },
    {
     "name": "stdout",
     "output_type": "stream",
     "text": [
      "Error occured \"Marko Tomić\" may refer to: \n",
      "Marko Tomić (nogometaš)\n",
      "Marko Tomić (teolog)\n"
     ]
    },
    {
     "name": "stderr",
     "output_type": "stream",
     "text": [
      " 47%|████▋     | 4704/10000 [51:29<52:06,  1.69it/s]"
     ]
    },
    {
     "name": "stdout",
     "output_type": "stream",
     "text": [
      "Error occured \"Gater\" may refer to: \n",
      "jarmača\n",
      "Gátér\n"
     ]
    },
    {
     "name": "stderr",
     "output_type": "stream",
     "text": [
      " 47%|████▋     | 4714/10000 [51:36<52:58,  1.66it/s]"
     ]
    },
    {
     "name": "stdout",
     "output_type": "stream",
     "text": [
      "Error occured \"Dubravice\" may refer to: \n",
      "Dubravice (Skradin)\n",
      "Dubravice (Bratunac, BiH)\n",
      "Dubravice (Konjic, BiH)\n",
      "Dubrava\n",
      "Dubrave\n",
      "Dubravica (razdvojba)\n"
     ]
    },
    {
     "name": "stderr",
     "output_type": "stream",
     "text": [
      " 48%|████▊     | 4782/10000 [52:19<58:09,  1.50it/s]  "
     ]
    },
    {
     "name": "stdout",
     "output_type": "stream",
     "text": [
      "Error occured \"Podrebar\" may refer to: \n",
      "Podrebar (Bosiljevo)\n",
      "Podrebar (Buzet)\n"
     ]
    },
    {
     "name": "stderr",
     "output_type": "stream",
     "text": [
      " 48%|████▊     | 4794/10000 [52:28<51:30,  1.68it/s]"
     ]
    },
    {
     "name": "stdout",
     "output_type": "stream",
     "text": [
      "Error occured \"Šaš (razdvojba)\" may refer to: \n",
      "Šaš\n",
      "Šaš (Sunja)\n",
      "Šaš (Mađarska)\n"
     ]
    },
    {
     "name": "stderr",
     "output_type": "stream",
     "text": [
      " 48%|████▊     | 4818/10000 [52:43<32:22,  2.67it/s]"
     ]
    },
    {
     "name": "stdout",
     "output_type": "stream",
     "text": [
      "Error occured \"Reket (razdvojba)\" may refer to: \n",
      "Reketarenje\n",
      "Reket (šport)\n",
      "Teniski reket\n"
     ]
    },
    {
     "name": "stderr",
     "output_type": "stream",
     "text": [
      " 48%|████▊     | 4841/10000 [52:52<29:28,  2.92it/s]"
     ]
    },
    {
     "name": "stdout",
     "output_type": "stream",
     "text": [
      "Error occured \"Konopnica\" may refer to: \n",
      "remenica\n",
      "Konopnica (Vlasotince, Srbija)\n",
      "Konopnica (Kratovo, Makedonija)\n"
     ]
    },
    {
     "name": "stderr",
     "output_type": "stream",
     "text": [
      " 48%|████▊     | 4843/10000 [52:54<55:25,  1.55it/s]  "
     ]
    },
    {
     "name": "stdout",
     "output_type": "stream",
     "text": [
      "Error occured \"Marković\" may refer to: \n",
      "Marković (prezime)\n",
      "Marković (plemstvo)\n"
     ]
    },
    {
     "name": "stderr",
     "output_type": "stream",
     "text": [
      " 48%|████▊     | 4844/10000 [52:56<1:23:15,  1.03it/s]"
     ]
    },
    {
     "name": "stdout",
     "output_type": "stream",
     "text": [
      "Error occured \"Konavoski rat\" may refer to: \n",
      "rat\n",
      "konavoski\n"
     ]
    },
    {
     "name": "stderr",
     "output_type": "stream",
     "text": [
      " 49%|████▊     | 4858/10000 [53:02<29:52,  2.87it/s]"
     ]
    },
    {
     "name": "stdout",
     "output_type": "stream",
     "text": [
      "Error occured \"Kneginec\" may refer to: \n",
      "Gornji Kneginec\n",
      "Donji Kneginec\n"
     ]
    },
    {
     "name": "stderr",
     "output_type": "stream",
     "text": [
      " 49%|████▊     | 4861/10000 [53:05<46:54,  1.83it/s]"
     ]
    },
    {
     "name": "stdout",
     "output_type": "stream",
     "text": [
      "Error occured \"Jolo\" may refer to: \n",
      "Jolo (otok)\n",
      "Jolo, Sulu\n",
      "Jolo, Zapadna Virginia\n"
     ]
    },
    {
     "name": "stderr",
     "output_type": "stream",
     "text": [
      " 49%|████▉     | 4900/10000 [53:30<52:15,  1.63it/s]"
     ]
    },
    {
     "name": "stdout",
     "output_type": "stream",
     "text": [
      "Error occured \"Talamanca (razdvojba)\" may refer to: \n",
      "Talamanca\n",
      "Talamanca (gorje)\n"
     ]
    },
    {
     "name": "stderr",
     "output_type": "stream",
     "text": [
      " 49%|████▉     | 4920/10000 [53:43<49:06,  1.72it/s]"
     ]
    },
    {
     "name": "stdout",
     "output_type": "stream",
     "text": [
      "Error occured \"NGC 6052\" may refer to: \n",
      "NGC 6052-1\n",
      "NGC 6052-2\n"
     ]
    },
    {
     "name": "stderr",
     "output_type": "stream",
     "text": [
      " 49%|████▉     | 4929/10000 [53:50<50:32,  1.67it/s]"
     ]
    },
    {
     "name": "stdout",
     "output_type": "stream",
     "text": [
      "Error occured \"Krndija (razdvojba)\" may refer to: \n",
      "Krndija (Punitovci)\n",
      "Krndija\n"
     ]
    },
    {
     "name": "stderr",
     "output_type": "stream",
     "text": [
      " 50%|████▉     | 4958/10000 [54:09<47:43,  1.76it/s]"
     ]
    },
    {
     "name": "stdout",
     "output_type": "stream",
     "text": [
      "Error occured \"E=mc²\" may refer to: \n",
      "ekvivalencija mase i energije\n",
      "E=mc² (album)\n"
     ]
    },
    {
     "name": "stderr",
     "output_type": "stream",
     "text": [
      " 50%|████▉     | 4964/10000 [54:14<57:46,  1.45it/s]  "
     ]
    },
    {
     "name": "stdout",
     "output_type": "stream",
     "text": [
      "Error occured \"Drina (razdvojba)\" may refer to: \n",
      "Drina\n",
      "Drina (Duvanjsko polje)\n",
      "Drina (Višegrad, BiH)\n",
      "Drina (Madrid)\n",
      "NK Drina Podrinje\n",
      "FK Drina HE Višegrad\n",
      "FK Drina Zvornik\n",
      "FK Drina Ljubovija\n",
      "Podrinje\n"
     ]
    },
    {
     "name": "stderr",
     "output_type": "stream",
     "text": [
      " 50%|████▉     | 4972/10000 [54:20<51:48,  1.62it/s]"
     ]
    },
    {
     "name": "stdout",
     "output_type": "stream",
     "text": [
      "Error occured \"Spremnost\" may refer to: \n",
      "Spremnost (Zagreb)\n",
      "Spremnost (Sydney)\n"
     ]
    },
    {
     "name": "stderr",
     "output_type": "stream",
     "text": [
      " 50%|████▉     | 4987/10000 [54:31<49:21,  1.69it/s]"
     ]
    },
    {
     "name": "stdout",
     "output_type": "stream",
     "text": [
      "Error occured \"Cusco (razdvojba)\" may refer to: \n",
      "Cusco\n",
      "Kraljevstvo Cusco\n",
      "Cusco (regija)\n",
      "Cusco (pokrajina)\n",
      "Cusco (okrug)\n",
      "Cusco (sastav)\n",
      "Cuzco, Indiana\n",
      "Error occured \"Guvna\" may refer to: \n",
      "Guvna (Donji Vakuf, BiH)\n",
      "Guvna (Travnik, BiH)\n"
     ]
    },
    {
     "name": "stderr",
     "output_type": "stream",
     "text": [
      " 50%|█████     | 5020/10000 [54:54<53:51,  1.54it/s]"
     ]
    },
    {
     "name": "stdout",
     "output_type": "stream",
     "text": [
      "Error occured \"Madariaga\" may refer to: \n",
      "Julen Madariaga\n",
      "José María Arizmendiarrieta Madariaga\n",
      "Francisco Javier Solana de Madariaga\n"
     ]
    },
    {
     "name": "stderr",
     "output_type": "stream",
     "text": [
      " 50%|█████     | 5033/10000 [55:04<52:32,  1.58it/s]"
     ]
    },
    {
     "name": "stdout",
     "output_type": "stream",
     "text": [
      "Error occured \"Ljubina\" may refer to: \n",
      "Ljubina (Dvor)\n",
      "Ljubina (Bosna)\n",
      "Ljubina (Jablanica)\n",
      "Ljubina (Foča, BiH)\n",
      "Ljubina (Ilijaš, BiH)\n",
      "Ljubina - Poturovići\n"
     ]
    },
    {
     "name": "stderr",
     "output_type": "stream",
     "text": [
      " 50%|█████     | 5034/10000 [55:06<1:38:19,  1.19s/it]"
     ]
    },
    {
     "name": "stdout",
     "output_type": "stream",
     "text": [
      "Error occured \"Inkontinencija\" may refer to: \n",
      "Inkontinencija mokraće\n",
      "Inkontinencija stolice\n",
      "Inkontinencija mlijeka\n",
      "Inkontinentnost\n"
     ]
    },
    {
     "name": "stderr",
     "output_type": "stream",
     "text": [
      " 50%|█████     | 5045/10000 [55:14<51:01,  1.62it/s]"
     ]
    },
    {
     "name": "stdout",
     "output_type": "stream",
     "text": [
      "Error occured \"Sveta Klara (razdvojba)\" may refer to: \n",
      "Klara Asiška\n",
      "Klara iz Montefalca\n",
      "Sveta Klara (Zagreb)\n",
      "Sveta Klara (otok u Čileu)\n",
      "Sveta Klara (otok, Donostia)\n"
     ]
    },
    {
     "name": "stderr",
     "output_type": "stream",
     "text": [
      " 51%|█████     | 5112/10000 [55:56<47:43,  1.71it/s]"
     ]
    },
    {
     "name": "stdout",
     "output_type": "stream",
     "text": [
      "Error occured \"Miloševići\" may refer to: \n",
      "Miloševići (Višegrad, BiH)\n",
      "Miloševići (Plužine, Crna Gora)\n",
      "Miloševići (Šavnik, Crna Gora)\n"
     ]
    },
    {
     "name": "stderr",
     "output_type": "stream",
     "text": [
      " 52%|█████▏    | 5202/10000 [56:51<46:44,  1.71it/s]"
     ]
    },
    {
     "name": "stdout",
     "output_type": "stream",
     "text": [
      "Error occured \"Moržovec\" may refer to: \n",
      "Moržovec (otok)\n",
      "Moržovec (jezero)\n"
     ]
    },
    {
     "name": "stderr",
     "output_type": "stream",
     "text": [
      " 52%|█████▏    | 5214/10000 [57:00<48:15,  1.65it/s]"
     ]
    },
    {
     "name": "stdout",
     "output_type": "stream",
     "text": [
      "Error occured \"Crkva sv. Jurja u Gdinju\" may refer to: \n",
      "crkva sv. Jurja u Gdinju (stara)\n",
      "crkva sv. Jurja u Gdinju (nova)\n"
     ]
    },
    {
     "name": "stderr",
     "output_type": "stream",
     "text": [
      " 52%|█████▏    | 5234/10000 [57:13<46:04,  1.72it/s]"
     ]
    },
    {
     "name": "stdout",
     "output_type": "stream",
     "text": [
      "Error occured \"Constanța\" may refer to: \n",
      "Constanța (grad)\n",
      "Constanța (županija)\n"
     ]
    },
    {
     "name": "stderr",
     "output_type": "stream",
     "text": [
      " 53%|█████▎    | 5305/10000 [57:57<44:12,  1.77it/s]"
     ]
    },
    {
     "name": "stdout",
     "output_type": "stream",
     "text": [
      "Error occured \"Aerodrom (razdvojba)\" may refer to: \n",
      "Zračna luka\n",
      "Aerodrom (sastav)\n",
      "Aerodrom (1970)\n",
      "Aerodrom (općina)\n",
      "Općina Aerodrom\n"
     ]
    },
    {
     "name": "stderr",
     "output_type": "stream",
     "text": [
      " 53%|█████▎    | 5310/10000 [58:01<54:41,  1.43it/s]"
     ]
    },
    {
     "name": "stdout",
     "output_type": "stream",
     "text": [
      "Error occured \"Mataruge\" may refer to: \n",
      "Mataruge (pleme)\n",
      "Mataruge (Pljevlja, Crna Gora)\n"
     ]
    },
    {
     "name": "stderr",
     "output_type": "stream",
     "text": [
      " 54%|█████▎    | 5356/10000 [58:30<45:41,  1.69it/s]"
     ]
    },
    {
     "name": "stdout",
     "output_type": "stream",
     "text": [
      "Error occured \"Salamanca (razdvojba)\" may refer to: \n",
      "Salamanca\n",
      "Salamanca (pokrajina)\n",
      "Salamanca (Guanajuato)\n"
     ]
    },
    {
     "name": "stderr",
     "output_type": "stream",
     "text": [
      " 54%|█████▍    | 5389/10000 [58:51<48:47,  1.58it/s]"
     ]
    },
    {
     "name": "stdout",
     "output_type": "stream",
     "text": [
      "Error occured \"Kneževići\" may refer to: \n",
      "Kneževići (plemstvo)\n",
      "Lici\n",
      "Kneževići (Šipovo, BiH)\n",
      "Kneževići (Plužine, Crna Gora)\n"
     ]
    },
    {
     "name": "stderr",
     "output_type": "stream",
     "text": [
      " 54%|█████▍    | 5403/10000 [59:01<44:28,  1.72it/s]"
     ]
    },
    {
     "name": "stdout",
     "output_type": "stream",
     "text": [
      "Error occured \"Pješak (razdvojba)\" may refer to: \n",
      "Pješak\n",
      "Pješak (šah)\n",
      "Pješak (vojnik)\n"
     ]
    },
    {
     "name": "stderr",
     "output_type": "stream",
     "text": [
      " 54%|█████▍    | 5449/10000 [59:29<41:55,  1.81it/s]"
     ]
    },
    {
     "name": "stdout",
     "output_type": "stream",
     "text": [
      "Error occured \"Šemenovci\" may refer to: \n",
      "Šemenovci (Kupres, BiH)\n",
      "Šemenovci (Kupres RS, BiH)\n"
     ]
    },
    {
     "name": "stderr",
     "output_type": "stream",
     "text": [
      " 55%|█████▍    | 5450/10000 [59:32<1:19:22,  1.05s/it]"
     ]
    },
    {
     "name": "stdout",
     "output_type": "stream",
     "text": [
      "Error occured \"Agent\" may refer to: \n",
      "Posrednik\n",
      "Agent tajne službe\n",
      "Trgovački putnik\n",
      "Mešetar\n",
      "Software-Agent\n"
     ]
    },
    {
     "name": "stderr",
     "output_type": "stream",
     "text": [
      " 55%|█████▍    | 5461/10000 [59:40<51:01,  1.48it/s]"
     ]
    },
    {
     "name": "stdout",
     "output_type": "stream",
     "text": [
      "Error occured \"Aphelia\" may refer to: \n",
      "Aphelia (Plantae)\n",
      "Aphelia (Animalia)\n"
     ]
    },
    {
     "name": "stderr",
     "output_type": "stream",
     "text": [
      " 56%|█████▌    | 5614/10000 [1:01:13<43:25,  1.68it/s]"
     ]
    },
    {
     "name": "stdout",
     "output_type": "stream",
     "text": [
      "Error occured \"Wiesnerella\" may refer to: \n",
      "Wiesnerella (Plantae)\n",
      "Wiesnerella (Chromista)\n"
     ]
    },
    {
     "name": "stderr",
     "output_type": "stream",
     "text": [
      " 56%|█████▌    | 5618/10000 [1:01:17<53:28,  1.37it/s]"
     ]
    },
    {
     "name": "stdout",
     "output_type": "stream",
     "text": [
      "Error occured \"Orašje (razdvojba)\" may refer to: \n",
      "Orašje\n",
      "Orašje (Prnjavor, BiH)\n",
      "Orašje (Tuzla, BiH)\n",
      "Orašje Planje\n",
      "Orašje Popovo (Ravno, BiH)\n",
      "Orašje Popovo (Trebinje, BiH)\n",
      "Orašje Površ\n",
      "Orašje Zupci\n",
      "Orašje (Vlasotince, Srbija)\n"
     ]
    },
    {
     "name": "stderr",
     "output_type": "stream",
     "text": [
      " 56%|█████▋    | 5644/10000 [1:01:34<42:00,  1.73it/s]"
     ]
    },
    {
     "name": "stdout",
     "output_type": "stream",
     "text": [
      "Error occured \"Marko Popović (razdvojba)\" may refer to: \n",
      "Marko Popović\n",
      "Marko Popović (automobilist)\n",
      "Marko Popović\n",
      "Marko Popović\n"
     ]
    },
    {
     "name": "stderr",
     "output_type": "stream",
     "text": [
      " 56%|█████▋    | 5649/10000 [1:01:38<51:14,  1.42it/s]"
     ]
    },
    {
     "name": "stdout",
     "output_type": "stream",
     "text": [
      "Error occured \"Josip Francišković\" may refer to: \n",
      "Josip Frančišković\n",
      "Josip Francišković (vokalni solist)\n"
     ]
    },
    {
     "name": "stderr",
     "output_type": "stream",
     "text": [
      " 57%|█████▋    | 5663/10000 [1:01:48<42:27,  1.70it/s]"
     ]
    },
    {
     "name": "stdout",
     "output_type": "stream",
     "text": [
      "Error occured \"Islam (razdvojba)\" may refer to: \n",
      "Islam\n",
      "Islam (Pariz)\n",
      "Islam Grčki\n",
      "Islam Latinski\n",
      "Islam Karimov\n",
      "Islam Jachjajewitsch Timursijew\n",
      "Afrika Islam\n",
      "Kazi Nazrul Islam\n",
      "Yusuf Islam\n",
      "Islam El-Shater\n",
      "Umar Islam\n"
     ]
    },
    {
     "name": "stderr",
     "output_type": "stream",
     "text": [
      " 57%|█████▋    | 5697/10000 [1:02:10<41:30,  1.73it/s]"
     ]
    },
    {
     "name": "stdout",
     "output_type": "stream",
     "text": [
      "Error occured \"HGS\" may refer to: \n",
      "Hrvatska građanska stranka\n",
      "Hrvatski građanski savez\n"
     ]
    },
    {
     "name": "stderr",
     "output_type": "stream",
     "text": [
      " 57%|█████▋    | 5727/10000 [1:02:29<41:49,  1.70it/s]"
     ]
    },
    {
     "name": "stdout",
     "output_type": "stream",
     "text": [
      "Error occured Page id \"sound of the season the taylor swift holiday collection\" does not match any pages. Try another id!\n"
     ]
    },
    {
     "name": "stderr",
     "output_type": "stream",
     "text": [
      " 57%|█████▋    | 5739/10000 [1:02:38<42:01,  1.69it/s]"
     ]
    },
    {
     "name": "stdout",
     "output_type": "stream",
     "text": [
      "Error occured \"Sarah Connor\" may refer to: \n",
      "Sarah Connor (pjevačica)\n",
      "Sarah Connor (album)\n",
      "Sarah Connor (Terminator)\n",
      "Terminator: The Sarah Connor Chronicles\n"
     ]
    },
    {
     "name": "stderr",
     "output_type": "stream",
     "text": [
      " 58%|█████▊    | 5752/10000 [1:02:47<41:45,  1.70it/s]"
     ]
    },
    {
     "name": "stdout",
     "output_type": "stream",
     "text": [
      "Error occured \"Nova Vas\" may refer to: \n",
      "Nova Vas (Brtonigla)\n",
      "Nova Vas (Kršan)\n",
      "Nova Vas (Poreč)\n",
      "Nova Vas (Maribor, Slovenija)\n"
     ]
    },
    {
     "name": "stderr",
     "output_type": "stream",
     "text": [
      " 58%|█████▊    | 5767/10000 [1:02:58<40:58,  1.72it/s]"
     ]
    },
    {
     "name": "stdout",
     "output_type": "stream",
     "text": [
      "Error occured \"Šljuke (razdvojba)\" may refer to: \n",
      "Šljuke\n",
      "Šljuke (Pljevlja, Crna Gora)\n"
     ]
    },
    {
     "name": "stderr",
     "output_type": "stream",
     "text": [
      " 58%|█████▊    | 5772/10000 [1:03:02<49:22,  1.43it/s]"
     ]
    },
    {
     "name": "stdout",
     "output_type": "stream",
     "text": [
      "Error occured \"Mala Grabovnica\" may refer to: \n",
      "Mala Grabovnica (Leskovac, Srbija)\n",
      "Mala Grabovnica (Brus, Srbija)\n"
     ]
    },
    {
     "name": "stderr",
     "output_type": "stream",
     "text": [
      " 58%|█████▊    | 5808/10000 [1:03:25<41:03,  1.70it/s]"
     ]
    },
    {
     "name": "stdout",
     "output_type": "stream",
     "text": [
      "Error occured \"Kajak i kanu\" may refer to: \n",
      "Kajak\n",
      "Kanu\n",
      "Kajak i kanu na divljim vodama\n",
      "Kajak i kanu na mirnim vodama\n"
     ]
    },
    {
     "name": "stderr",
     "output_type": "stream",
     "text": [
      " 58%|█████▊    | 5811/10000 [1:03:29<57:28,  1.21it/s]  "
     ]
    },
    {
     "name": "stdout",
     "output_type": "stream",
     "text": [
      "Error occured \"Crveni zmaj\" may refer to: \n",
      "Crveni zmaj (roman)\n",
      "Crveni zmaj (2002.)\n",
      "Error occured \"Opačac\" may refer to: \n",
      "Vrljike\n",
      "Opačac (arheološko nalazište)\n"
     ]
    },
    {
     "name": "stderr",
     "output_type": "stream",
     "text": [
      " 59%|█████▊    | 5860/10000 [1:04:00<39:31,  1.75it/s]"
     ]
    },
    {
     "name": "stdout",
     "output_type": "stream",
     "text": [
      "Error occured \"Kale\" may refer to: \n",
      "Kale (mjesec)\n",
      "Kale (mitologija)\n",
      "Kale (kupus)\n",
      "Kale (Konjic, BiH)\n",
      "Kale (Skoplje)\n",
      "Kale\n",
      "Tvrtko Kale\n"
     ]
    },
    {
     "name": "stderr",
     "output_type": "stream",
     "text": [
      " 60%|█████▉    | 5961/10000 [1:05:01<39:05,  1.72it/s]"
     ]
    },
    {
     "name": "stdout",
     "output_type": "stream",
     "text": [
      "Error occured \"Luj III.\" may refer to: \n",
      "Luj III., car Svetog Rimskog Carstva\n",
      "Luj III., kralj Njemačke\n",
      "Luj III., kralj Francuske\n",
      "Luj III., kralj Bavarske\n",
      "Luj III., kralj Napulja\n",
      "Error occured \"Ločki Vrh\" may refer to: \n",
      "Ločki Vrh (Benedikt, Slovenija)\n",
      "Ločki Vrh (Majšperk, Slovenija)\n"
     ]
    },
    {
     "name": "stderr",
     "output_type": "stream",
     "text": [
      " 60%|█████▉    | 5968/10000 [1:05:09<48:30,  1.39it/s]"
     ]
    },
    {
     "name": "stdout",
     "output_type": "stream",
     "text": [
      "Error occured \"Prorva\" may refer to: \n",
      "Dalğalı (Neftečalinski rajon, Azerbajdžan)\n",
      "Prorva (Atyrau, Kazahstan)\n",
      "Kanal Prorva\n",
      "Prorva (1992.)\n",
      "Prorva (Drysvyata)\n",
      "Prorva (Kaspijsko jezero)\n"
     ]
    },
    {
     "name": "stderr",
     "output_type": "stream",
     "text": [
      " 60%|██████    | 6024/10000 [1:05:43<39:19,  1.68it/s]"
     ]
    },
    {
     "name": "stdout",
     "output_type": "stream",
     "text": [
      "Error occured \"Romeo i Julija (razdvojba)\" may refer to: \n",
      "Romeo i Julija\n",
      "Romeo i Julija (Prokofjev)\n",
      "Roméo et Juliette (Berlioz)\n",
      "Romeo i Julia (Čajkovski)\n",
      "Romeo and Juliet (pjesma)\n",
      "Romeo and Juliet (1936.)\n"
     ]
    },
    {
     "name": "stderr",
     "output_type": "stream",
     "text": [
      " 60%|██████    | 6033/10000 [1:05:50<41:25,  1.60it/s]"
     ]
    },
    {
     "name": "stdout",
     "output_type": "stream",
     "text": [
      "Error occured \"Tuber\" may refer to: \n",
      "Tuber (Fungi)\n",
      "Tuber (Chromista)\n"
     ]
    },
    {
     "name": "stderr",
     "output_type": "stream",
     "text": [
      " 60%|██████    | 6043/10000 [1:05:58<41:15,  1.60it/s]"
     ]
    },
    {
     "name": "stdout",
     "output_type": "stream",
     "text": [
      "Error occured \"Croatoan\" may refer to: \n",
      "Croatoan (otok)\n",
      "Croatoan (SF priča)\n"
     ]
    },
    {
     "name": "stderr",
     "output_type": "stream",
     "text": [
      " 61%|██████    | 6077/10000 [1:06:20<39:01,  1.68it/s]"
     ]
    },
    {
     "name": "stdout",
     "output_type": "stream",
     "text": [
      "Error occured \"Hrvatska domovina\" may refer to: \n",
      "Lijepa naša domovino\n",
      "Hrvatska domovina (Zagreb)\n",
      "Hrvatska domovina (Padova)\n",
      "Hrvatska domovina (Hamburg)\n"
     ]
    },
    {
     "name": "stderr",
     "output_type": "stream",
     "text": [
      " 61%|██████    | 6092/10000 [1:06:30<41:40,  1.56it/s]"
     ]
    },
    {
     "name": "stdout",
     "output_type": "stream",
     "text": [
      "Error occured \"Ohrid (razdvojba)\" may refer to: \n",
      "Ohrid\n",
      "Samuilova tvrđava\n"
     ]
    },
    {
     "name": "stderr",
     "output_type": "stream",
     "text": [
      " 61%|██████    | 6096/10000 [1:06:34<50:34,  1.29it/s]"
     ]
    },
    {
     "name": "stdout",
     "output_type": "stream",
     "text": [
      "Error occured \"Podolje\" may refer to: \n",
      "Podolje (pokrajina)\n",
      "Podolje (Draž)\n"
     ]
    },
    {
     "name": "stderr",
     "output_type": "stream",
     "text": [
      " 61%|██████▏   | 6125/10000 [1:06:53<38:44,  1.67it/s]"
     ]
    },
    {
     "name": "stdout",
     "output_type": "stream",
     "text": [
      "Error occured \"Siglan\" may refer to: \n",
      "Siglan (rijeka)\n",
      "Zaljev Siglan\n"
     ]
    },
    {
     "name": "stderr",
     "output_type": "stream",
     "text": [
      " 61%|██████▏   | 6134/10000 [1:07:00<39:43,  1.62it/s]"
     ]
    },
    {
     "name": "stdout",
     "output_type": "stream",
     "text": [
      "Error occured \"Herbert Müller\" may refer to: \n",
      "Herbert Müller (hokej na travi)\n",
      "Herbert Müller (automobilizam)\n"
     ]
    },
    {
     "name": "stderr",
     "output_type": "stream",
     "text": [
      " 62%|██████▏   | 6169/10000 [1:07:23<40:19,  1.58it/s]"
     ]
    },
    {
     "name": "stdout",
     "output_type": "stream",
     "text": [
      "Error occured \"Ladislav\" may refer to: \n",
      "Ladislav (ime)\n",
      "Ladislav ili Vladislav\n",
      "Ladislav I. Sveti, kralj Mađarske\n",
      "Ladislav II.\n",
      "Ladislav III., hrvatsko-ugarski kralj\n",
      "Ladislav IV. Kumanac\n",
      "Ladislav V. Postum\n",
      "Ladislav Napuljski\n",
      "Ladislav Pejačević\n",
      "Ladislav (Hercegovac)\n",
      "Ladislav Sokolovački\n",
      "Ladislavec\n",
      "Error occured \"Dan (razdvojba)\" may refer to: \n",
      "Dan\n",
      "Dan (praotac)\n",
      "Dan (pleme)\n",
      "Dan (rijeka u SAD-u)\n",
      "Dan (rijeka u Izraelu)\n",
      "Dan (Naruto)\n",
      "Dan (geologija)\n"
     ]
    },
    {
     "name": "stderr",
     "output_type": "stream",
     "text": [
      " 62%|██████▏   | 6249/10000 [1:08:13<35:57,  1.74it/s]"
     ]
    },
    {
     "name": "stdout",
     "output_type": "stream",
     "text": [
      "Error occured \"LDP\" may refer to: \n",
      "Liberalno demokratska stranka\n",
      "Laban ng Demokratikong Pilipino\n"
     ]
    },
    {
     "name": "stderr",
     "output_type": "stream",
     "text": [
      " 63%|██████▎   | 6257/10000 [1:08:20<39:50,  1.57it/s]"
     ]
    },
    {
     "name": "stdout",
     "output_type": "stream",
     "text": [
      "Error occured \"Karo\" may refer to: \n",
      "karo\n",
      "Arára do Jiparaná\n",
      "Karo (Etiopija)\n",
      "Karo (omotski jezik)\n",
      "Karo (ramarama jezik)\n"
     ]
    },
    {
     "name": "stderr",
     "output_type": "stream",
     "text": [
      " 63%|██████▎   | 6259/10000 [1:08:22<59:33,  1.05it/s]  "
     ]
    },
    {
     "name": "stdout",
     "output_type": "stream",
     "text": [
      "Error occured \"Tarra\" may refer to: \n",
      "Tarra (rijeka u Kolumbiji)\n",
      "Tarra (rijeka u Australiji)\n",
      "Tarrha\n",
      "El Tarra\n"
     ]
    },
    {
     "name": "stderr",
     "output_type": "stream",
     "text": [
      " 63%|██████▎   | 6260/10000 [1:08:25<1:24:37,  1.36s/it]"
     ]
    },
    {
     "name": "stdout",
     "output_type": "stream",
     "text": [
      "Error occured \"Poluotok Schmidt\" may refer to: \n",
      "Poluotok Schmidt (Antarktika)\n",
      "Poluotok Schmidt (Sahalin)\n"
     ]
    },
    {
     "name": "stderr",
     "output_type": "stream",
     "text": [
      " 63%|██████▎   | 6269/10000 [1:08:32<40:31,  1.53it/s]"
     ]
    },
    {
     "name": "stdout",
     "output_type": "stream",
     "text": [
      "Error occured \"EVS\" may refer to: \n",
      "Europsko istraživanje vrednota\n",
      "Evs\n"
     ]
    },
    {
     "name": "stderr",
     "output_type": "stream",
     "text": [
      " 63%|██████▎   | 6290/10000 [1:08:46<36:33,  1.69it/s]"
     ]
    },
    {
     "name": "stdout",
     "output_type": "stream",
     "text": [
      "Error occured \"Bogaraš\" may refer to: \n",
      "Bogaraš (Bačka Topola, Srbija)\n",
      "Bogaraš (Senta, Srbija)\n"
     ]
    },
    {
     "name": "stderr",
     "output_type": "stream",
     "text": [
      " 63%|██████▎   | 6336/10000 [1:09:15<36:33,  1.67it/s]"
     ]
    },
    {
     "name": "stdout",
     "output_type": "stream",
     "text": [
      "Error occured \"Gubavac\" may refer to: \n",
      "Gubavac Veli\n",
      "Gubavac Mali\n",
      "Gubavac (Korčula)\n",
      "Gubavac (Pelješac)\n"
     ]
    },
    {
     "name": "stderr",
     "output_type": "stream",
     "text": [
      " 64%|██████▍   | 6385/10000 [1:09:46<35:05,  1.72it/s]"
     ]
    },
    {
     "name": "stdout",
     "output_type": "stream",
     "text": [
      "Error occured \"Pissa\" may refer to: \n",
      "Pissa (rijeka)\n",
      "Pissa, Srednjoafrička Republika\n",
      "Bisinus\n"
     ]
    },
    {
     "name": "stderr",
     "output_type": "stream",
     "text": [
      " 64%|██████▍   | 6404/10000 [1:09:58<35:07,  1.71it/s]"
     ]
    },
    {
     "name": "stdout",
     "output_type": "stream",
     "text": [
      "Error occured \"Kostur (razdvojba)\" may refer to: \n",
      "kostur\n",
      "kostur (tehnika)\n",
      "Kostur (Kriva Palanka, Makedonija)\n"
     ]
    },
    {
     "name": "stderr",
     "output_type": "stream",
     "text": [
      " 64%|██████▍   | 6409/10000 [1:10:03<41:56,  1.43it/s]"
     ]
    },
    {
     "name": "stdout",
     "output_type": "stream",
     "text": [
      "Error occured \"Kodori\" may refer to: \n",
      "Kodori (rijeka)\n",
      "Klanac Kodori\n",
      "Kriza u klancu Kodori 2001.\n",
      "Bitka u klancu Kodori\n",
      "Kodori (selo)\n"
     ]
    },
    {
     "name": "stderr",
     "output_type": "stream",
     "text": [
      " 65%|██████▍   | 6451/10000 [1:10:30<36:53,  1.60it/s]"
     ]
    },
    {
     "name": "stdout",
     "output_type": "stream",
     "text": [
      "Error occured \"Amonije\" may refer to: \n",
      "Amonije Sakas\n",
      "Amonije iz Aleksandrije\n",
      "Amonije iz Atene\n",
      "Amonije Hermijin\n"
     ]
    },
    {
     "name": "stderr",
     "output_type": "stream",
     "text": [
      " 65%|██████▍   | 6453/10000 [1:10:33<55:54,  1.06it/s]  "
     ]
    },
    {
     "name": "stdout",
     "output_type": "stream",
     "text": [
      "Error occured \"Gomila\" may refer to: \n",
      "Gomila (Destrnik, Slovenija)\n",
      "Gomila (Mirna, Slovenija)\n",
      "Gomila pri Kogu\n"
     ]
    },
    {
     "name": "stderr",
     "output_type": "stream",
     "text": [
      " 65%|██████▍   | 6459/10000 [1:10:38<41:23,  1.43it/s]"
     ]
    },
    {
     "name": "stdout",
     "output_type": "stream",
     "text": [
      "Error occured \"Međuriječje\" may refer to: \n",
      "Međuriječje (reljef)\n",
      "Mezopotamiju\n",
      "Međuriječje (Kolašin)\n",
      "Međurječje\n"
     ]
    },
    {
     "name": "stderr",
     "output_type": "stream",
     "text": [
      " 65%|██████▍   | 6465/10000 [1:10:43<40:45,  1.45it/s]"
     ]
    },
    {
     "name": "stdout",
     "output_type": "stream",
     "text": [
      "Error occured \"Bjeloševina\" may refer to: \n",
      "Bjeloševina (Nikšić, Crna Gora)\n",
      "Bjeloševina (Pljevlja, Crna Gora)\n"
     ]
    },
    {
     "name": "stderr",
     "output_type": "stream",
     "text": [
      " 65%|██████▌   | 6501/10000 [1:11:06<32:58,  1.77it/s]"
     ]
    },
    {
     "name": "stdout",
     "output_type": "stream",
     "text": [
      "Error occured \"Podmoskovlje\" may refer to: \n",
      "Moskovska oblast\n",
      "Blisko Podmoskovlje\n",
      "Podmoskovje (televizijski kanal)\n",
      "Podmoskovje (zimski dvorac)\n",
      "Podmoskovske večeri\n"
     ]
    },
    {
     "name": "stderr",
     "output_type": "stream",
     "text": [
      " 65%|██████▌   | 6512/10000 [1:11:14<34:13,  1.70it/s]"
     ]
    },
    {
     "name": "stdout",
     "output_type": "stream",
     "text": [
      "Error occured \"Domobranstvo\" may refer to: \n",
      "Hrvatsko domobranstvo\n",
      "Slovensko domobranstvo\n",
      "Carsko i kraljevsko domobranstvo\n",
      "Kraljevsko ugarsko domobranstvo\n"
     ]
    },
    {
     "name": "stderr",
     "output_type": "stream",
     "text": [
      " 65%|██████▌   | 6513/10000 [1:11:16<1:02:47,  1.08s/it]"
     ]
    },
    {
     "name": "stdout",
     "output_type": "stream",
     "text": [
      "Error occured \"Virginia (razdvojba)\" may refer to: \n",
      "Virginia\n",
      "Virginia, Illinois\n",
      "Virginia, Minnesota\n",
      "Virginia (poluotok)\n",
      "Virginia (rod)\n"
     ]
    },
    {
     "name": "stderr",
     "output_type": "stream",
     "text": [
      " 65%|██████▌   | 6530/10000 [1:11:28<34:02,  1.70it/s]"
     ]
    },
    {
     "name": "stdout",
     "output_type": "stream",
     "text": [
      "Error occured \"Borovnik\" may refer to: \n",
      "Borovnik (Murter)\n",
      "Borovnik (Kornat)\n",
      "Borovnik (Sit)\n"
     ]
    },
    {
     "name": "stderr",
     "output_type": "stream",
     "text": [
      " 66%|██████▌   | 6560/10000 [1:11:47<32:52,  1.74it/s]"
     ]
    },
    {
     "name": "stdout",
     "output_type": "stream",
     "text": [
      "Error occured \"Viš\" may refer to: \n",
      "Viš (Bilogora)\n",
      "Viš (Danilovgrad, Crna Gora)\n"
     ]
    },
    {
     "name": "stderr",
     "output_type": "stream",
     "text": [
      " 66%|██████▌   | 6578/10000 [1:11:59<33:55,  1.68it/s]"
     ]
    },
    {
     "name": "stdout",
     "output_type": "stream",
     "text": [
      "Error occured \"Donji Dolac (razdvojba)\" may refer to: \n",
      "Donji Dolac\n",
      "Primorski Dolac\n",
      "Donji Dolac (Sarajevo Novo, BiH)\n"
     ]
    },
    {
     "name": "stderr",
     "output_type": "stream",
     "text": [
      " 66%|██████▌   | 6622/10000 [1:12:27<33:18,  1.69it/s]"
     ]
    },
    {
     "name": "stdout",
     "output_type": "stream",
     "text": [
      "Error occured \"Mokrine\" may refer to: \n",
      "Mokrine (Hadžići, BiH)\n",
      "Mokrine (Herceg Novi, Crna Gora)\n"
     ]
    },
    {
     "name": "stderr",
     "output_type": "stream",
     "text": [
      " 67%|██████▋   | 6652/10000 [1:12:46<31:53,  1.75it/s]"
     ]
    },
    {
     "name": "stdout",
     "output_type": "stream",
     "text": [
      "Error occured \"Gabrnik\" may refer to: \n",
      "Gabrnik (Juršinci, Slovenija)\n",
      "Gabrnik (Škocjan, Slovenija)\n"
     ]
    },
    {
     "name": "stderr",
     "output_type": "stream",
     "text": [
      " 67%|██████▋   | 6655/10000 [1:12:50<45:14,  1.23it/s]"
     ]
    },
    {
     "name": "stdout",
     "output_type": "stream",
     "text": [
      "Error occured \"Chelan\" may refer to: \n",
      "Chelan (jezero)\n",
      "Chelan (pleme)\n"
     ]
    },
    {
     "name": "stderr",
     "output_type": "stream",
     "text": [
      " 67%|██████▋   | 6695/10000 [1:13:15<31:04,  1.77it/s]"
     ]
    },
    {
     "name": "stdout",
     "output_type": "stream",
     "text": [
      "Error occured \"Modifikacija\" may refer to: \n",
      "modifikacija (biologija)\n",
      "alotropska modifikacija\n",
      "↑\n"
     ]
    },
    {
     "name": "stderr",
     "output_type": "stream",
     "text": [
      " 67%|██████▋   | 6697/10000 [1:13:18<51:14,  1.07it/s]"
     ]
    },
    {
     "name": "stdout",
     "output_type": "stream",
     "text": [
      "Error occured \"Bobija\" may refer to: \n",
      "Bobija (planina)\n",
      "Bobija (Cetinje, Crna Gora)\n"
     ]
    },
    {
     "name": "stderr",
     "output_type": "stream",
     "text": [
      " 67%|██████▋   | 6749/10000 [1:13:50<31:24,  1.73it/s]"
     ]
    },
    {
     "name": "stdout",
     "output_type": "stream",
     "text": [
      "Error occured \"Suceava\" may refer to: \n",
      "Suceava (grad)\n",
      "Suceava (županija)\n",
      "Suceava (rijeka)\n"
     ]
    },
    {
     "name": "stderr",
     "output_type": "stream",
     "text": [
      " 68%|██████▊   | 6754/10000 [1:13:55<38:05,  1.42it/s]"
     ]
    },
    {
     "name": "stdout",
     "output_type": "stream",
     "text": [
      "Error occured \"HSK\" may refer to: \n",
      "Hrvatski svjetski kongres\n",
      "Hrvatski sabor kulture\n",
      "Hrvatsko-srpska koalicija\n",
      "Hochsauerlandkreis\n"
     ]
    },
    {
     "name": "stderr",
     "output_type": "stream",
     "text": [
      " 68%|██████▊   | 6760/10000 [1:14:00<36:55,  1.46it/s]"
     ]
    },
    {
     "name": "stdout",
     "output_type": "stream",
     "text": [
      "Error occured \"Namur (razdvojba)\" may refer to: \n",
      "Belgija\n",
      "Namur\n",
      "Namur (pokrajina)\n",
      "Grofovija Namur\n",
      "Kanada\n",
      "Namur (Québec)\n",
      "SAD\n",
      "Namur, Wisconsin\n",
      "3374 Namur\n"
     ]
    },
    {
     "name": "stderr",
     "output_type": "stream",
     "text": [
      " 68%|██████▊   | 6771/10000 [1:14:08<32:19,  1.66it/s]"
     ]
    },
    {
     "name": "stdout",
     "output_type": "stream",
     "text": [
      "Error occured \"Modra špilja (razdvojba)\" may refer to: \n",
      "Modra špilja\n",
      "Modra špilja (Capri)\n",
      "Modra špilja (Kastellorizo)\n",
      "Modra špilja (Malta)\n",
      "Grotta dello Smeraldo\n"
     ]
    },
    {
     "name": "stderr",
     "output_type": "stream",
     "text": [
      " 68%|██████▊   | 6783/10000 [1:14:17<32:18,  1.66it/s]"
     ]
    },
    {
     "name": "stdout",
     "output_type": "stream",
     "text": [
      "Error occured \"Crvenka (razdvojba)\" may refer to: \n",
      "Crvenka (Kula, Srbija)\n",
      "Crvenka (Palilula, Srbija)\n"
     ]
    },
    {
     "name": "stderr",
     "output_type": "stream",
     "text": [
      " 68%|██████▊   | 6833/10000 [1:14:47<30:04,  1.75it/s]"
     ]
    },
    {
     "name": "stdout",
     "output_type": "stream",
     "text": [
      "Error occured \"Koros\" may refer to: \n",
      "Korša\n",
      "Körös\n"
     ]
    },
    {
     "name": "stderr",
     "output_type": "stream",
     "text": [
      " 68%|██████▊   | 6840/10000 [1:14:53<34:11,  1.54it/s]"
     ]
    },
    {
     "name": "stdout",
     "output_type": "stream",
     "text": [
      "Error occured \"Klenovac (razdvojba)\" may refer to: \n",
      "Klenovac\n",
      "Klenovac (Bosanski Petrovac, BiH)\n",
      "Klenovac (Petrovac, BiH)\n"
     ]
    },
    {
     "name": "stderr",
     "output_type": "stream",
     "text": [
      " 69%|██████▊   | 6851/10000 [1:15:02<33:45,  1.55it/s]"
     ]
    },
    {
     "name": "stdout",
     "output_type": "stream",
     "text": [
      "Error occured \"Pržine\" may refer to: \n",
      "Pržine (Bosansko Grahovo, BiH)\n",
      "Pržine (Gacko, BiH)\n"
     ]
    },
    {
     "name": "stderr",
     "output_type": "stream",
     "text": [
      " 69%|██████▊   | 6861/10000 [1:15:09<31:37,  1.65it/s]"
     ]
    },
    {
     "name": "stdout",
     "output_type": "stream",
     "text": [
      "Error occured \"Hannonia\" may refer to: \n",
      "Hannonia (Plantae)\n",
      "Hannonia (Animalia)\n"
     ]
    },
    {
     "name": "stderr",
     "output_type": "stream",
     "text": [
      " 69%|██████▊   | 6872/10000 [1:15:17<33:45,  1.54it/s]"
     ]
    },
    {
     "name": "stdout",
     "output_type": "stream",
     "text": [
      "Error occured \"M16\" may refer to: \n",
      "Messier 16\n",
      "M16 (puška)\n",
      "M-16 (album)\n",
      "metrički navoj\n",
      "M16\n"
     ]
    },
    {
     "name": "stderr",
     "output_type": "stream",
     "text": [
      " 69%|██████▉   | 6907/10000 [1:15:39<29:34,  1.74it/s]"
     ]
    },
    {
     "name": "stdout",
     "output_type": "stream",
     "text": [
      "Error occured \"Vipava (razdvojba)\" may refer to: \n",
      "Vipava (rijeka)\n",
      "Vipava\n",
      "Vipavska dolina\n"
     ]
    },
    {
     "name": "stderr",
     "output_type": "stream",
     "text": [
      " 69%|██████▉   | 6922/10000 [1:15:50<32:32,  1.58it/s]"
     ]
    },
    {
     "name": "stdout",
     "output_type": "stream",
     "text": [
      "Error occured \"Marva\" may refer to: \n",
      "stoka\n",
      "Marva (Baranjska županija, Mađarska)\n"
     ]
    },
    {
     "name": "stderr",
     "output_type": "stream",
     "text": [
      " 69%|██████▉   | 6925/10000 [1:15:54<43:21,  1.18it/s]"
     ]
    },
    {
     "name": "stdout",
     "output_type": "stream",
     "text": [
      "Error occured \"Porgy and Bess\" may refer to: \n",
      "Porgy i Bess\n",
      "Porgy i Bess (1959.)\n",
      "Porgy and Bess (album Harryja Belafontea i Lene Horne)\n",
      "Porgy and Bess (album Elle Fitzgerald i Louisa Armstronga)\n",
      "Porgy and Bess (album Hanka Jonesa)\n",
      "Porgy and Bess (album Milesa Davisa)\n",
      "Porgy & Bess (album Mundella Lowea)\n"
     ]
    },
    {
     "name": "stderr",
     "output_type": "stream",
     "text": [
      " 69%|██████▉   | 6931/10000 [1:15:59<35:44,  1.43it/s]"
     ]
    },
    {
     "name": "stdout",
     "output_type": "stream",
     "text": [
      "Error occured \"Dol\" may refer to: \n",
      "Dol (Stari Grad)\n",
      "Dol (Postira)\n",
      "Dol (Krašić)\n",
      "Dol Klanječki\n",
      "Mali Dol (Kraljevica)\n",
      "Dugi Dol (Krnjak)\n",
      "Dol (Visoko, BiH)\n",
      "Dol (Kočevje, Slovenija)\n",
      "Dol pri Borovnici\n",
      "Dol pri Hrastniku\n",
      "Dol pri Hrastovljah\n",
      "Dol pri Laškem\n",
      "Dol pri Ljubljani\n",
      "Dol pri Stopercah\n",
      "Dol pri Vogljah\n"
     ]
    },
    {
     "name": "stderr",
     "output_type": "stream",
     "text": [
      " 69%|██████▉   | 6933/10000 [1:16:02<50:07,  1.02it/s]"
     ]
    },
    {
     "name": "stdout",
     "output_type": "stream",
     "text": [
      "Error occured \"Geografija (razdvojba)\" may refer to: \n",
      "Geographia\n",
      "Geographica\n"
     ]
    },
    {
     "name": "stderr",
     "output_type": "stream",
     "text": [
      " 70%|███████   | 7012/10000 [1:16:49<28:49,  1.73it/s]"
     ]
    },
    {
     "name": "stdout",
     "output_type": "stream",
     "text": [
      "Error occured \"NGC 3314\" may refer to: \n",
      "NGC 3314A\n",
      "NGC 3314B\n"
     ]
    },
    {
     "name": "stderr",
     "output_type": "stream",
     "text": [
      " 70%|███████   | 7038/10000 [1:17:06<28:46,  1.72it/s]"
     ]
    },
    {
     "name": "stdout",
     "output_type": "stream",
     "text": [
      "Error occured \"RAF (razdvojba)\" may refer to: \n",
      "Royal Air Force\n",
      "Revija amaterskog filma\n",
      "Rote Armee Fraktion\n"
     ]
    },
    {
     "name": "stderr",
     "output_type": "stream",
     "text": [
      " 70%|███████   | 7047/10000 [1:17:13<29:28,  1.67it/s]"
     ]
    },
    {
     "name": "stdout",
     "output_type": "stream",
     "text": [
      "Error occured \"Dziecinów\" may refer to: \n",
      "Dziecinów (povjat otwocki)\n",
      "Dziecinów (powiat kozienicki)\n"
     ]
    },
    {
     "name": "stderr",
     "output_type": "stream",
     "text": [
      " 70%|███████   | 7049/10000 [1:17:16<45:46,  1.07it/s]"
     ]
    },
    {
     "name": "stdout",
     "output_type": "stream",
     "text": [
      "Error occured \"Wind\" may refer to: \n",
      "Wind (prezime)\n",
      "Wind (letjelica)\n"
     ]
    },
    {
     "name": "stderr",
     "output_type": "stream",
     "text": [
      " 71%|███████   | 7065/10000 [1:17:27<29:36,  1.65it/s]"
     ]
    },
    {
     "name": "stdout",
     "output_type": "stream",
     "text": [
      "Error occured \"Lawa\" may refer to: \n",
      "Lawa (narod)\n",
      "Lawa (jezik)\n",
      "Lawa (Afrika)\n",
      "Lawa (Indonezija)\n",
      "Lawa (Maroni)\n",
      "Lawa (Pakistan)\n"
     ]
    },
    {
     "name": "stderr",
     "output_type": "stream",
     "text": [
      " 71%|███████   | 7121/10000 [1:18:02<28:58,  1.66it/s]"
     ]
    },
    {
     "name": "stdout",
     "output_type": "stream",
     "text": [
      "Error occured \"Falanga\" may refer to: \n",
      "Falanga (bojni poredak)\n",
      "Falanga (stranka)\n"
     ]
    },
    {
     "name": "stderr",
     "output_type": "stream",
     "text": [
      " 71%|███████   | 7122/10000 [1:18:04<51:29,  1.07s/it]"
     ]
    },
    {
     "name": "stdout",
     "output_type": "stream",
     "text": [
      "Error occured \"Guvernerova palača\" may refer to: \n",
      "Guvernerova palača u Rijeci\n"
     ]
    },
    {
     "name": "stderr",
     "output_type": "stream",
     "text": [
      " 71%|███████▏  | 7128/10000 [1:18:09<34:43,  1.38it/s]"
     ]
    },
    {
     "name": "stdout",
     "output_type": "stream",
     "text": [
      "Error occured \"Orahovljani\" may refer to: \n",
      "Orahovljani (Donji Vakuf, BiH)\n",
      "Orahovljani (Mrkonjić Grad, BiH)\n"
     ]
    },
    {
     "name": "stderr",
     "output_type": "stream",
     "text": [
      " 72%|███████▏  | 7167/10000 [1:18:34<28:09,  1.68it/s]"
     ]
    },
    {
     "name": "stdout",
     "output_type": "stream",
     "text": [
      "Error occured \"Zemlja (razdvojba)\" may refer to: \n",
      "Zemlja\n",
      "tlo\n",
      "država\n",
      "zemlja (geografski pojam)\n",
      "Grupa Zemlja\n",
      "Zemlja (1930.)\n",
      "zemlji\n"
     ]
    },
    {
     "name": "stderr",
     "output_type": "stream",
     "text": [
      " 72%|███████▏  | 7178/10000 [1:18:42<28:09,  1.67it/s]"
     ]
    },
    {
     "name": "stdout",
     "output_type": "stream",
     "text": [
      "Error occured \"Polana\" may refer to: \n",
      "Polana (Hoče-Slivnica, Slovenija)\n",
      "Polana (Laško, Slovenija)\n",
      "Polana (Murska Sobota, Slovenija)\n",
      "Poľana\n"
     ]
    },
    {
     "name": "stderr",
     "output_type": "stream",
     "text": [
      " 72%|███████▏  | 7193/10000 [1:18:52<27:45,  1.69it/s]"
     ]
    },
    {
     "name": "stdout",
     "output_type": "stream",
     "text": [
      "Error occured \"Hrvatska smotra\" may refer to: \n",
      "Hrvatska smotra (1906. – 1910.)\n",
      "Hrvatska smotra (1933. – 1945.)\n"
     ]
    },
    {
     "name": "stderr",
     "output_type": "stream",
     "text": [
      " 72%|███████▏  | 7233/10000 [1:19:17<27:20,  1.69it/s]"
     ]
    },
    {
     "name": "stdout",
     "output_type": "stream",
     "text": [
      "Error occured \"Donja Dubrava (razdvojba)\" may refer to: \n",
      "Donja Dubrava\n",
      "Donja Dubrava (zagrebačka gradska četvrt)\n"
     ]
    },
    {
     "name": "stderr",
     "output_type": "stream",
     "text": [
      " 73%|███████▎  | 7254/10000 [1:19:31<26:38,  1.72it/s]"
     ]
    },
    {
     "name": "stdout",
     "output_type": "stream",
     "text": [
      "Error occured \"Bratia\" may refer to: \n",
      "Bratia (općina Berevoești, Argeș, Rumunjska)\n",
      "Bratia (općina Ciomăgești, Argeș, Rumunjska)\n",
      "Bratia (rijeka)\n"
     ]
    },
    {
     "name": "stderr",
     "output_type": "stream",
     "text": [
      " 73%|███████▎  | 7317/10000 [1:20:10<27:34,  1.62it/s]"
     ]
    },
    {
     "name": "stdout",
     "output_type": "stream",
     "text": [
      "Error occured \"Gorenja Dobrava\" may refer to: \n",
      "Gorenja Dobrava (Brezovica, Slovenija)\n",
      "Gorenja Dobrava (Trebnje, Slovenija)\n",
      "Error occured \"Dúbravka\" may refer to: \n",
      "Dúbravka (Bratislava)\n",
      "Dúbravka (Michalovce)\n",
      "Dubravka\n"
     ]
    },
    {
     "name": "stderr",
     "output_type": "stream",
     "text": [
      " 74%|███████▍  | 7392/10000 [1:20:57<25:07,  1.73it/s]"
     ]
    },
    {
     "name": "stdout",
     "output_type": "stream",
     "text": [
      "Error occured \"Licitarsko srce\" may refer to: \n",
      "hrvatski\n",
      "Licitarsko srce (balet)\n"
     ]
    },
    {
     "name": "stderr",
     "output_type": "stream",
     "text": [
      " 74%|███████▍  | 7424/10000 [1:21:18<25:21,  1.69it/s]"
     ]
    },
    {
     "name": "stdout",
     "output_type": "stream",
     "text": [
      "Error occured \"Arsenal\" may refer to: \n",
      "Arsenal F.C.\n",
      "Arsenal Kijev\n",
      "Arsenal (ustanova)\n",
      "Arsenal (Zadar)\n",
      "Arsenal (Pula)\n",
      "Error occured \"Batu\" may refer to: \n",
      "Batu-kan\n",
      "Batu (planina)\n",
      "Batu (narod)\n",
      "Batu (otok)\n"
     ]
    },
    {
     "name": "stderr",
     "output_type": "stream",
     "text": [
      " 75%|███████▌  | 7503/10000 [1:22:07<24:48,  1.68it/s]"
     ]
    },
    {
     "name": "stdout",
     "output_type": "stream",
     "text": [
      "Error occured \"Zelenika\" may refer to: \n",
      "zelenika (sorta vina)\n",
      "zelenika (biljni rod)\n",
      "zelenika (rod maslinovki)\n",
      "širokolisna zelenika\n",
      "uskolisna zelenika\n",
      "poljska krivičica\n",
      "vazdazeleni šimšir\n",
      "obična božikovina\n",
      "Zelenika (Živinice, BiH)\n",
      "Zelenike\n",
      "Zelenika (Herceg Novi, Crna Gora)\n",
      "Zelenika (Bugarska)\n",
      "Zelenika\n",
      "↑\n"
     ]
    },
    {
     "name": "stderr",
     "output_type": "stream",
     "text": [
      " 75%|███████▌  | 7520/10000 [1:22:19<24:12,  1.71it/s]"
     ]
    },
    {
     "name": "stdout",
     "output_type": "stream",
     "text": [
      "Error occured \"Nesvrta\" may refer to: \n",
      "Nesvrta (Leskovac, Srbija)\n",
      "Nesvrta (Vranje, Srbija)\n"
     ]
    },
    {
     "name": "stderr",
     "output_type": "stream",
     "text": [
      " 75%|███████▌  | 7540/10000 [1:22:32<25:50,  1.59it/s]"
     ]
    },
    {
     "name": "stdout",
     "output_type": "stream",
     "text": [
      "Error occured \"Donje Ratkovo\" may refer to: \n",
      "Donje Ratkovo (Ključ, BiH)\n",
      "Donje Ratkovo (Ribnik, BiH)\n",
      "Error occured \"Pterygota\" may refer to: \n",
      "Pterygota (Animalia)\n",
      "Pterygota (Plantae)\n"
     ]
    },
    {
     "name": "stderr",
     "output_type": "stream",
     "text": [
      " 75%|███████▌  | 7542/10000 [1:22:37<54:04,  1.32s/it]  "
     ]
    },
    {
     "name": "stdout",
     "output_type": "stream",
     "text": [
      "Error occured \"Portland\" may refer to: \n",
      "Portland, Arkansas\n",
      "Portland, Connecticut\n",
      "Portland, Indiana\n",
      "Portland, Maine\n",
      "Portland, Michigan\n",
      "Portland, New York\n",
      "Portland, Sjeverna Dakota\n",
      "Portland, Oregon\n",
      "Portland, Pennsylvania\n",
      "Portland, Tennessee\n",
      "Portland, Teksas\n",
      "Portland, Wisconsin (okrug Dodge)\n",
      "Portland, Wisconsin (okrug Monroe)\n",
      "Portland Trail Blazers\n",
      "Portland (2010)\n"
     ]
    },
    {
     "name": "stderr",
     "output_type": "stream",
     "text": [
      " 76%|███████▌  | 7564/10000 [1:22:52<23:52,  1.70it/s]"
     ]
    },
    {
     "name": "stdout",
     "output_type": "stream",
     "text": [
      "Error occured \"Klasifikacija\" may refer to: \n",
      "medicinske klasifikacije\n",
      "međunarodna klasifikacija bolesti\n",
      "ATK klasifikacija\n",
      "knjižnična klasifikacija\n",
      "klasifikacija tla\n",
      "klasificiranje galaktika\n",
      "Köppenova klasifikacija klime\n",
      "sistematika\n",
      "↑\n"
     ]
    },
    {
     "name": "stderr",
     "output_type": "stream",
     "text": [
      " 76%|███████▌  | 7615/10000 [1:23:23<23:21,  1.70it/s]"
     ]
    },
    {
     "name": "stdout",
     "output_type": "stream",
     "text": [
      "Error occured \"Fred Jones\" may refer to: \n",
      "Fred Jones (Scooby Doo)\n",
      "Fred Jones (košarkaš)\n"
     ]
    },
    {
     "name": "stderr",
     "output_type": "stream",
     "text": [
      " 77%|███████▋  | 7668/10000 [1:23:47<13:05,  2.97it/s]"
     ]
    },
    {
     "name": "stdout",
     "output_type": "stream",
     "text": [
      "Error occured \"Pissa\" may refer to: \n",
      "Pissa (rijeka)\n",
      "Pissa, Srednjoafrička Republika\n",
      "Bisinus\n"
     ]
    },
    {
     "name": "stderr",
     "output_type": "stream",
     "text": [
      " 77%|███████▋  | 7687/10000 [1:23:55<13:05,  2.94it/s]"
     ]
    },
    {
     "name": "stdout",
     "output_type": "stream",
     "text": [
      "Error occured \"Kostur (razdvojba)\" may refer to: \n",
      "kostur\n",
      "kostur (tehnika)\n",
      "Kostur (Kriva Palanka, Makedonija)\n"
     ]
    },
    {
     "name": "stderr",
     "output_type": "stream",
     "text": [
      " 77%|███████▋  | 7714/10000 [1:24:05<12:52,  2.96it/s]"
     ]
    },
    {
     "name": "stdout",
     "output_type": "stream",
     "text": [
      "Error occured \"Josip Antunović\" may refer to: \n",
      "Josip Antunović (književnik)\n",
      "Josip Antunović (političar)\n"
     ]
    },
    {
     "name": "stderr",
     "output_type": "stream",
     "text": [
      " 77%|███████▋  | 7716/10000 [1:24:08<26:30,  1.44it/s]"
     ]
    },
    {
     "name": "stdout",
     "output_type": "stream",
     "text": [
      "Error occured \"Brazii\" may refer to: \n",
      "Brazii (Arad, Rumunjska)\n",
      "Brazii (Ialomiţa, Rumunjska)\n"
     ]
    },
    {
     "name": "stderr",
     "output_type": "stream",
     "text": [
      " 77%|███████▋  | 7745/10000 [1:24:27<21:43,  1.73it/s]"
     ]
    },
    {
     "name": "stdout",
     "output_type": "stream",
     "text": [
      "Error occured \"Skull and Bones (razdvojba)\" may refer to: \n",
      "Skull and Bones\n",
      "Skull & Bones\n",
      "Jolly Roger\n"
     ]
    },
    {
     "name": "stderr",
     "output_type": "stream",
     "text": [
      " 77%|███████▋  | 7748/10000 [1:24:30<31:00,  1.21it/s]"
     ]
    },
    {
     "name": "stdout",
     "output_type": "stream",
     "text": [
      "Error occured \"Male\" may refer to: \n",
      "Malé\n",
      "Maale\n",
      "Male (omotski jezik)\n",
      "Male (Papua Nova Gvineja)\n",
      "Male (mindjim jezik)\n"
     ]
    },
    {
     "name": "stderr",
     "output_type": "stream",
     "text": [
      " 78%|███████▊  | 7750/10000 [1:24:33<39:43,  1.06s/it]"
     ]
    },
    {
     "name": "stdout",
     "output_type": "stream",
     "text": [
      "Error occured \"Atacama (razdvojba)\" may refer to: \n",
      "Atacama\n",
      "Atacama (provincija)\n",
      "Regija Atacama\n"
     ]
    },
    {
     "name": "stderr",
     "output_type": "stream",
     "text": [
      " 78%|███████▊  | 7842/10000 [1:25:30<20:41,  1.74it/s]"
     ]
    },
    {
     "name": "stdout",
     "output_type": "stream",
     "text": [
      "Error occured \"Polja\" may refer to: \n",
      "Polja u kršu\n",
      "Polja (časopis)\n",
      "Polja (Mojkovac, Crna Gora)\n",
      "polje\n"
     ]
    },
    {
     "name": "stderr",
     "output_type": "stream",
     "text": [
      " 79%|███████▉  | 7876/10000 [1:25:51<20:53,  1.69it/s]"
     ]
    },
    {
     "name": "stdout",
     "output_type": "stream",
     "text": [
      "Error occured \"Rušani\" may refer to: \n",
      "Rušani (Gradina)\n",
      "Rušani (etnička grupa)\n"
     ]
    },
    {
     "name": "stderr",
     "output_type": "stream",
     "text": [
      " 79%|███████▉  | 7889/10000 [1:26:01<21:25,  1.64it/s]"
     ]
    },
    {
     "name": "stdout",
     "output_type": "stream",
     "text": [
      "Error occured \"Redni broj\" may refer to: \n",
      "atomski broj\n",
      "brojevi (vrsta riječi)\n",
      "redni brojevi (jezikoslovlje)\n"
     ]
    },
    {
     "name": "stderr",
     "output_type": "stream",
     "text": [
      " 79%|███████▉  | 7906/10000 [1:26:12<20:06,  1.74it/s]"
     ]
    },
    {
     "name": "stdout",
     "output_type": "stream",
     "text": [
      "Error occured \"Radojčići\" may refer to: \n",
      "Radojčići (Maglaj, BiH)\n",
      "Radojčići (Travnik, BiH)\n"
     ]
    },
    {
     "name": "stderr",
     "output_type": "stream",
     "text": [
      " 79%|███████▉  | 7910/10000 [1:26:16<26:00,  1.34it/s]"
     ]
    },
    {
     "name": "stdout",
     "output_type": "stream",
     "text": [
      "Error occured \"More (razdvojba)\" may refer to: \n",
      "more\n",
      "Mjesečeva mora\n",
      "more\n",
      "Diracovo more\n",
      "More (glazbeni sastav)\n",
      "More (televizijska emisija)\n",
      "Error occured \"Duh (razdvojba)\" may refer to: \n",
      "Duh Sveti\n",
      "duh\n",
      "duh (prikaza)\n",
      "Duh (1990.)\n",
      "Duh (zagrebački biskup)\n",
      "Duhovi (svetkovina)\n",
      "Duhovi (Garešnica)\n"
     ]
    },
    {
     "name": "stderr",
     "output_type": "stream",
     "text": [
      " 80%|███████▉  | 7996/10000 [1:27:11<19:59,  1.67it/s]"
     ]
    },
    {
     "name": "stdout",
     "output_type": "stream",
     "text": [
      "Error occured \"NGC 94\" may refer to: \n",
      "NGC 94-1\n",
      "NGC 94-2\n"
     ]
    },
    {
     "name": "stderr",
     "output_type": "stream",
     "text": [
      " 80%|████████  | 8022/10000 [1:27:27<20:12,  1.63it/s]"
     ]
    },
    {
     "name": "stdout",
     "output_type": "stream",
     "text": [
      "Error occured \"Bobovac (razdvojba)\" may refer to: \n",
      "Bobovac\n",
      "Bobovac (Sunja)\n",
      "Bobovac (časopis)\n"
     ]
    },
    {
     "name": "stderr",
     "output_type": "stream",
     "text": [
      " 81%|████████  | 8056/10000 [1:27:49<18:24,  1.76it/s]"
     ]
    },
    {
     "name": "stdout",
     "output_type": "stream",
     "text": [
      "Error occured \"Struga (razdvojba)\" may refer to: \n",
      "Struga\n",
      "Struga (Sveti Đurđ)\n",
      "Struga Banska\n",
      "Struga Nartska\n"
     ]
    },
    {
     "name": "stderr",
     "output_type": "stream",
     "text": [
      " 81%|████████  | 8092/10000 [1:28:12<18:55,  1.68it/s]"
     ]
    },
    {
     "name": "stdout",
     "output_type": "stream",
     "text": [
      "Error occured \"Guantánamo\" may refer to: \n",
      "Guantánamo (pokrajina)\n",
      "Guantánamo (grad)\n",
      "Guantánamo (zaljev)\n",
      "Mornarička baza Guantánamo\n",
      "Logor Guantánamo\n"
     ]
    },
    {
     "name": "stderr",
     "output_type": "stream",
     "text": [
      " 81%|████████  | 8114/10000 [1:28:26<18:58,  1.66it/s]"
     ]
    },
    {
     "name": "stdout",
     "output_type": "stream",
     "text": [
      "Error occured \"Zamora\" may refer to: \n",
      "Zamora, Ekvador\n",
      "Zamora-Chinchipe\n",
      "Zamora, Michoacán\n",
      "Gutiérrez Zamora\n",
      "Zamora (grad)\n",
      "Zamora (pokrajina)\n",
      "Zamora, California\n",
      "Općina Zamora (Aragua)\n",
      "Općina Zamora (Miranda)\n",
      "Bobby Zamora\n",
      "Diane Zamora\n",
      "Ezequiel Zamora\n",
      "Jesús Jiménez Zamora\n",
      "Jesús María Zamora\n",
      "José Rubén Zamora\n",
      "Lonnie Zamora\n",
      "Pedro Zamora\n",
      "Pedro Zamora Álvarez\n",
      "Ricardo Zamora\n",
      "Ronald Zamora\n",
      "Rubén Zamora\n",
      "Tye Zamora\n",
      "Zamora the Torture King\n",
      "Mission Zamora\n",
      "Zamora CF\n",
      "Zamora Fútbol Club\n",
      "Club Deportivo Zamora\n",
      "Zamora TV\n",
      "↑\n"
     ]
    },
    {
     "name": "stderr",
     "output_type": "stream",
     "text": [
      " 82%|████████▏ | 8218/10000 [1:29:29<17:03,  1.74it/s]"
     ]
    },
    {
     "name": "stdout",
     "output_type": "stream",
     "text": [
      "Error occured \"Spiridon Gopčević\" may refer to: \n",
      "Spiridon Gopčević (astronom)\n",
      "Spiridon Gopčević (brodovlasnik)\n"
     ]
    },
    {
     "name": "stderr",
     "output_type": "stream",
     "text": [
      " 82%|████████▏ | 8241/10000 [1:29:44<16:58,  1.73it/s]"
     ]
    },
    {
     "name": "stdout",
     "output_type": "stream",
     "text": [
      "Error occured \"Efor\" may refer to: \n",
      "Efor (državnik)\n",
      "Efor iz Kime\n"
     ]
    },
    {
     "name": "stderr",
     "output_type": "stream",
     "text": [
      " 83%|████████▎ | 8277/10000 [1:30:07<16:38,  1.73it/s]"
     ]
    },
    {
     "name": "stdout",
     "output_type": "stream",
     "text": [
      "Error occured \"Fahad Al-Farhan\" may refer to: \n",
      "Fahad Al-Farhan (džudaš)\n",
      "Fahad Al-Farhan (rukometaš)\n"
     ]
    },
    {
     "name": "stderr",
     "output_type": "stream",
     "text": [
      " 83%|████████▎ | 8296/10000 [1:30:20<16:33,  1.72it/s]"
     ]
    },
    {
     "name": "stdout",
     "output_type": "stream",
     "text": [
      "Error occured \"Anglo-nizozemski pomorski ratovi\" may refer to: \n",
      "Prvi anglo-nizozemski pomorski rat\n",
      "Drugi anglo-nizozemski pomorski rat\n",
      "Treći anglo-nizozemski pomorski rat\n"
     ]
    },
    {
     "name": "stderr",
     "output_type": "stream",
     "text": [
      " 83%|████████▎ | 8305/10000 [1:30:27<16:55,  1.67it/s]"
     ]
    },
    {
     "name": "stdout",
     "output_type": "stream",
     "text": [
      "Error occured \"Meljine\" may refer to: \n",
      "Meljine (Sokolac)\n",
      "Meljine (Herceg Novi)\n"
     ]
    },
    {
     "name": "stderr",
     "output_type": "stream",
     "text": [
      " 83%|████████▎ | 8313/10000 [1:30:33<17:47,  1.58it/s]"
     ]
    },
    {
     "name": "stdout",
     "output_type": "stream",
     "text": [
      "Error occured \"Baćin\" may refer to: \n",
      "Baćin (Hrvatska Dubica)\n",
      "Baćin Dol\n",
      "Baćina\n",
      "Baćino\n"
     ]
    },
    {
     "name": "stderr",
     "output_type": "stream",
     "text": [
      " 84%|████████▍ | 8389/10000 [1:31:21<15:41,  1.71it/s]"
     ]
    },
    {
     "name": "stdout",
     "output_type": "stream",
     "text": [
      "Error occured \"Krilo (razdvojba)\" may refer to: \n",
      "krilo\n",
      "krila kukaca\n",
      "krilo zrakoplova\n",
      "Krilo-Jasenice\n",
      "Krila (1927.)\n",
      "Krilo (košarka)\n"
     ]
    },
    {
     "name": "stderr",
     "output_type": "stream",
     "text": [
      " 84%|████████▍ | 8399/10000 [1:31:29<16:14,  1.64it/s]"
     ]
    },
    {
     "name": "stdout",
     "output_type": "stream",
     "text": [
      "Error occured \"Šljivansko\" may refer to: \n",
      "Šljivansko (Pljevlja, Crna Gora)\n",
      "Šljivansko (Žabljak, Crna Gora)\n"
     ]
    },
    {
     "name": "stderr",
     "output_type": "stream",
     "text": [
      " 84%|████████▍ | 8434/10000 [1:31:51<15:13,  1.71it/s]"
     ]
    },
    {
     "name": "stdout",
     "output_type": "stream",
     "text": [
      "Error occured \"Brezno (razdvojba)\" may refer to: \n",
      "Gornje Brezno\n",
      "Brezno Gora\n",
      "Donje Brezno\n",
      "Brezno (Laško, Slovenija)\n",
      "Brezno (Podvelka, Slovenija)\n",
      "Brezno\n"
     ]
    },
    {
     "name": "stderr",
     "output_type": "stream",
     "text": [
      " 84%|████████▍ | 8439/10000 [1:31:56<19:10,  1.36it/s]"
     ]
    },
    {
     "name": "stdout",
     "output_type": "stream",
     "text": [
      "Error occured \"Bijelo Bučje\" may refer to: \n",
      "Bijelo Bučje (Travnik, BiH)\n",
      "Bijelo Bučje (Teslić, BiH)\n"
     ]
    },
    {
     "name": "stderr",
     "output_type": "stream",
     "text": [
      " 85%|████████▌ | 8526/10000 [1:32:49<14:07,  1.74it/s]"
     ]
    },
    {
     "name": "stdout",
     "output_type": "stream",
     "text": [
      "Error occured \"Volta\" may refer to: \n",
      "Volta (jezero)\n",
      "Volta (regija)\n",
      "Volta (rijeka)\n",
      "Crna Volta\n",
      "Crvena Volta\n",
      "Bijela Volta\n",
      "Gornja Volta\n",
      "Francuska Gornja Volta\n",
      "Volta Redonda\n",
      "Alessandro Volta\n",
      "Volta (krater)\n",
      "Volta (album)\n",
      "The Mars Volta\n",
      "Toyota Alessandro Volta\n",
      "Voltin elektostatički stup\n"
     ]
    },
    {
     "name": "stderr",
     "output_type": "stream",
     "text": [
      " 85%|████████▌ | 8538/10000 [1:32:57<14:18,  1.70it/s]"
     ]
    },
    {
     "name": "stdout",
     "output_type": "stream",
     "text": [
      "Error occured \"Vafel\" may refer to: \n",
      "vafel-list\n",
      "vafel proizvod\n"
     ]
    },
    {
     "name": "stderr",
     "output_type": "stream",
     "text": [
      " 86%|████████▌ | 8561/10000 [1:33:12<14:38,  1.64it/s]"
     ]
    },
    {
     "name": "stdout",
     "output_type": "stream",
     "text": [
      "Error occured \"Peć (razdvojba)\" may refer to: \n",
      "peć\n",
      "Peć (grad)\n",
      "Peći\n"
     ]
    },
    {
     "name": "stderr",
     "output_type": "stream",
     "text": [
      " 86%|████████▌ | 8588/10000 [1:33:30<14:26,  1.63it/s]"
     ]
    },
    {
     "name": "stdout",
     "output_type": "stream",
     "text": [
      "Error occured \"Niger (razdvojba)\" may refer to: \n",
      "Niger\n",
      "Niger (rijeka)\n"
     ]
    },
    {
     "name": "stderr",
     "output_type": "stream",
     "text": [
      " 86%|████████▌ | 8597/10000 [1:33:37<14:01,  1.67it/s]"
     ]
    },
    {
     "name": "stdout",
     "output_type": "stream",
     "text": [
      "Error occured \"Dascălu\" may refer to: \n",
      "Dascălu (Ilfov, Rumunjska)\n",
      "Balta Dascălului\n"
     ]
    },
    {
     "name": "stderr",
     "output_type": "stream",
     "text": [
      " 86%|████████▌ | 8608/10000 [1:33:45<13:48,  1.68it/s]"
     ]
    },
    {
     "name": "stdout",
     "output_type": "stream",
     "text": [
      "Error occured \"Karlo VII.\" may refer to: \n",
      "Karlo VII., kralj Francuske\n",
      " Karlo VII., car Svetog Rimskog Carstva\n",
      "Karlo VII., kralj Švedske\n",
      " Karlo VII., kralj Napulja\n"
     ]
    },
    {
     "name": "stderr",
     "output_type": "stream",
     "text": [
      " 86%|████████▋ | 8629/10000 [1:33:59<13:30,  1.69it/s]"
     ]
    },
    {
     "name": "stdout",
     "output_type": "stream",
     "text": [
      "Error occured \"Ostrožac\" may refer to: \n",
      "Ostrožac (Cazin, BiH)\n",
      "Ostrožac na Uni\n",
      "Ostrožac (Jablanica, BiH)\n"
     ]
    },
    {
     "name": "stderr",
     "output_type": "stream",
     "text": [
      " 86%|████████▋ | 8641/10000 [1:34:08<13:09,  1.72it/s]"
     ]
    },
    {
     "name": "stdout",
     "output_type": "stream",
     "text": [
      "Error occured \"Smjer\" may refer to: \n",
      "gibanja\n",
      "vektora\n",
      "geometrijskog tijela\n",
      "gibanja\n",
      "vrtnje\n",
      "brzine\n",
      "sile\n",
      "električne struje\n",
      "vjetra\n",
      "radiofar\n",
      "↑\n"
     ]
    },
    {
     "name": "stderr",
     "output_type": "stream",
     "text": [
      " 87%|████████▋ | 8733/10000 [1:34:46<12:04,  1.75it/s]"
     ]
    },
    {
     "name": "stdout",
     "output_type": "stream",
     "text": [
      "Error occured \"Ante Nazor (razdvojba)\" may refer to: \n",
      "Ante Nazor\n",
      "Ante Nazor (košarka)\n"
     ]
    },
    {
     "name": "stderr",
     "output_type": "stream",
     "text": [
      " 87%|████████▋ | 8735/10000 [1:34:49<19:42,  1.07it/s]"
     ]
    },
    {
     "name": "stdout",
     "output_type": "stream",
     "text": [
      "Error occured \"Višegrad (razdvojba)\" may refer to: \n",
      "Višegrad\n",
      "Višegrad (Mađarska)\n",
      "Višegrad\n",
      "Višegrad\n",
      "Višegrad\n",
      "Višegradska skupina\n",
      "Višegradska povelja\n"
     ]
    },
    {
     "name": "stderr",
     "output_type": "stream",
     "text": [
      " 88%|████████▊ | 8753/10000 [1:35:02<13:55,  1.49it/s]"
     ]
    },
    {
     "name": "stdout",
     "output_type": "stream",
     "text": [
      "Error occured \"NK Metalac\" may refer to: \n",
      "NK Metalac Međurić\n",
      "NK Metalac Osijek\n",
      "NK Metalac Sisak\n",
      "NK Metalac Zagreb\n"
     ]
    },
    {
     "name": "stderr",
     "output_type": "stream",
     "text": [
      " 88%|████████▊ | 8762/10000 [1:35:08<12:20,  1.67it/s]"
     ]
    },
    {
     "name": "stdout",
     "output_type": "stream",
     "text": [
      "Error occured \"Nine Lives\" may refer to: \n",
      "Nine Lives (album)\n",
      "Nine Lives (album Roberta Planta)\n"
     ]
    },
    {
     "name": "stderr",
     "output_type": "stream",
     "text": [
      " 88%|████████▊ | 8778/10000 [1:35:20<13:21,  1.52it/s]"
     ]
    },
    {
     "name": "stdout",
     "output_type": "stream",
     "text": [
      "Error occured \"Adirondack\" may refer to: \n",
      "Adirondack Indijanci\n",
      "Adirondack (planina)\n",
      "Adirondack Park\n"
     ]
    },
    {
     "name": "stderr",
     "output_type": "stream",
     "text": [
      " 88%|████████▊ | 8830/10000 [1:35:52<11:13,  1.74it/s]"
     ]
    },
    {
     "name": "stdout",
     "output_type": "stream",
     "text": [
      "Error occured \"Gorenci (razdvojba)\" may refer to: \n",
      "Gorenci\n",
      "Gorenci (Centar Župa, Makedonija)\n",
      "Gorenci (Debarca, Makedonija)\n",
      "Gorenci (Prosečen, Grčka)\n",
      "Gorenci (Kostur, Grčka)\n"
     ]
    },
    {
     "name": "stderr",
     "output_type": "stream",
     "text": [
      " 88%|████████▊ | 8836/10000 [1:35:57<12:55,  1.50it/s]"
     ]
    },
    {
     "name": "stdout",
     "output_type": "stream",
     "text": [
      "Error occured \"Daniel Ayala\" may refer to: \n",
      "Daniel Sánchez Ayala\n",
      "Daniel Ayala Pérez\n",
      "Daniel Ayala (rukometaš)\n"
     ]
    },
    {
     "name": "stderr",
     "output_type": "stream",
     "text": [
      " 89%|████████▊ | 8863/10000 [1:36:15<11:18,  1.67it/s]"
     ]
    },
    {
     "name": "stdout",
     "output_type": "stream",
     "text": [
      "Error occured \"Pihlalaid\" may refer to: \n",
      "Pihlalaid (zaljev Kihelkonna)\n",
      "Pihlalaid (zaljev Muraja)\n",
      "Pihlalaid (tjesnac Soela)\n"
     ]
    },
    {
     "name": "stderr",
     "output_type": "stream",
     "text": [
      " 89%|████████▉ | 8880/10000 [1:36:27<10:41,  1.75it/s]"
     ]
    },
    {
     "name": "stdout",
     "output_type": "stream",
     "text": [
      "Error occured \"Kola\" may refer to: \n",
      "kola (zaprega)\n",
      "kolo\n",
      "Kola (poluotok)\n",
      "Kola (rijeka)\n",
      "Kola (grad)\n",
      "Kola (jezero)\n",
      "Kola (biljka)\n",
      "Cola\n",
      "Kola (Banja Luka, BiH)\n",
      "Kola (Goražde, BiH)\n"
     ]
    },
    {
     "name": "stderr",
     "output_type": "stream",
     "text": [
      " 89%|████████▉ | 8883/10000 [1:36:30<15:21,  1.21it/s]"
     ]
    },
    {
     "name": "stdout",
     "output_type": "stream",
     "text": [
      "Error occured \"Blatnica\" may refer to: \n",
      "Blatnica (Štefanje)\n",
      "Blatnica (Čitluk, BiH)\n",
      "Blatnica (Teslić, BiH)\n",
      "Blatnica\n",
      "Blatnica (Martin, Slovačka)\n"
     ]
    },
    {
     "name": "stderr",
     "output_type": "stream",
     "text": [
      " 89%|████████▉ | 8913/10000 [1:36:49<10:41,  1.69it/s]"
     ]
    },
    {
     "name": "stdout",
     "output_type": "stream",
     "text": [
      "Error occured \"Zlokuće\" may refer to: \n",
      "Zlokuće (Bugojno, BiH)\n",
      "Zlokuće (Kakanj, BiH)\n"
     ]
    },
    {
     "name": "stderr",
     "output_type": "stream",
     "text": [
      " 89%|████████▉ | 8922/10000 [1:36:56<10:57,  1.64it/s]"
     ]
    },
    {
     "name": "stdout",
     "output_type": "stream",
     "text": [
      "Error occured \"Cambridge (razdvojba)\" may refer to: \n",
      "Cambridge\n",
      "Sveučilište u Cambridgeu\n",
      "Cambridge, Tasmanija\n",
      "Town of Cambridge\n",
      "Cambridge, Ontario\n",
      "Cambridge (izbori okrug)\n",
      "Cambridge (okrug Hants, Nova Scotia)\n",
      "Cambridge (okrug Kings, Nova Scotia)\n",
      "Cambridge, Novi Zeland\n",
      "Cambridge, Idaho\n",
      "Cambridge, Illinois\n",
      "Cambridge City, Indiana\n",
      "Cambridge, Iowa\n",
      "Cambridge, Kansas\n",
      "Cambridge, Kentucky\n",
      "Cambridge, Maine\n",
      "Cambridge, Maryland\n",
      "Cambridge, Massachusetts\n",
      "Cambridge, Minnesota\n",
      "Cambridge, Nebraska\n",
      "Cambridge, New Hampshire\n",
      "Cambridge (selo), New York\n",
      "Cambridge (grad), New York\n",
      "Cambridge, Ohio\n",
      "Cambridge Springs, Pennsylvania\n",
      "Cambridge, Vermont\n",
      "Cambridge, Wisconsin\n",
      "Cambridge Township, Okrug Henry, Illinois\n",
      "Cambridge Township, Michigan\n",
      "Cambridge Township, Minnesota\n",
      "Cambridge Township, Guernsey County, Ohio\n",
      "Cambridge Township, Pennsylvania\n"
     ]
    },
    {
     "name": "stderr",
     "output_type": "stream",
     "text": [
      " 89%|████████▉ | 8929/10000 [1:37:03<12:24,  1.44it/s]"
     ]
    },
    {
     "name": "stdout",
     "output_type": "stream",
     "text": [
      "Error occured \"Cornwall (razdvojba)\" may refer to: \n",
      "Cornwall\n",
      "Cornwall, grofovija\n",
      "Cornwall, Ontario\n",
      "Quest for Camelot\n"
     ]
    },
    {
     "name": "stderr",
     "output_type": "stream",
     "text": [
      " 89%|████████▉ | 8932/10000 [1:37:06<15:13,  1.17it/s]"
     ]
    },
    {
     "name": "stdout",
     "output_type": "stream",
     "text": [
      "Error occured \"Harku\" may refer to: \n",
      "Harku (jezero)\n",
      "Harku (grad)\n",
      "Harku (potok)\n",
      "Harku (otok)\n"
     ]
    },
    {
     "name": "stderr",
     "output_type": "stream",
     "text": [
      " 89%|████████▉ | 8938/10000 [1:37:11<12:41,  1.39it/s]"
     ]
    },
    {
     "name": "stdout",
     "output_type": "stream",
     "text": [
      "Error occured \"Vlasinje\" may refer to: \n",
      "Vlasinje (Mrkonjić Grad, BiH)\n",
      "Vlasinje (Jajce, BiH)\n"
     ]
    },
    {
     "name": "stderr",
     "output_type": "stream",
     "text": [
      " 90%|████████▉ | 8957/10000 [1:37:24<10:11,  1.71it/s]"
     ]
    },
    {
     "name": "stdout",
     "output_type": "stream",
     "text": [
      "Error occured \"Phoenix\" may refer to: \n",
      "Phoenix, Arizona\n",
      "Phoenix, Mauricijus\n",
      "Otočje Phoenix\n",
      "Phoenix (sletač)\n",
      "River Phoenix\n",
      "Feniks\n",
      "Phoenix (biljni rod)\n",
      "Phoenix (televizijska postaja)\n",
      "Phoenix, album Rite Ore\n",
      "Feniks (razdvojba)\n"
     ]
    },
    {
     "name": "stderr",
     "output_type": "stream",
     "text": [
      " 90%|████████▉ | 8967/10000 [1:37:32<10:44,  1.60it/s]"
     ]
    },
    {
     "name": "stdout",
     "output_type": "stream",
     "text": [
      "Error occured \"Vranci (razdvojba)\" may refer to: \n",
      "Vranci\n",
      "Vranci (Kreševo, BiH)\n"
     ]
    },
    {
     "name": "stderr",
     "output_type": "stream",
     "text": [
      " 90%|████████▉ | 8977/10000 [1:37:39<10:23,  1.64it/s]"
     ]
    },
    {
     "name": "stdout",
     "output_type": "stream",
     "text": [
      "Error occured \"Eben Alexander\" may refer to: \n",
      "Eben Alexander (1851.)\n",
      "Eben Alexander (1953.)\n",
      "Eben Alexander (1913.)\n"
     ]
    },
    {
     "name": "stderr",
     "output_type": "stream",
     "text": [
      " 90%|█████████ | 9013/10000 [1:38:02<09:28,  1.74it/s]"
     ]
    },
    {
     "name": "stdout",
     "output_type": "stream",
     "text": [
      "Error occured \"Careva džamija\" may refer to: \n",
      "Careva džamija u Foči\n",
      "Careva džamija u Sarajevu\n",
      "Careva džamija u Višegradu\n"
     ]
    },
    {
     "name": "stderr",
     "output_type": "stream",
     "text": [
      " 90%|█████████ | 9029/10000 [1:38:13<09:48,  1.65it/s]"
     ]
    },
    {
     "name": "stdout",
     "output_type": "stream",
     "text": [
      "Error occured \"Banjevac\" may refer to: \n",
      "Banjevac (Breza, BiH)\n",
      "Donji Banjevac\n",
      "Gornji Banjevac\n"
     ]
    },
    {
     "name": "stderr",
     "output_type": "stream",
     "text": [
      " 90%|█████████ | 9033/10000 [1:38:18<12:41,  1.27it/s]"
     ]
    },
    {
     "name": "stdout",
     "output_type": "stream",
     "text": [
      "Error occured \"Birdman\" may refer to: \n",
      "Birdman (glazbenik)\n",
      "Birdman (2014.)\n",
      "Harvey Birdman\n",
      "Bird-Man\n",
      "Birdman or (The Unexpected Virtue of Ignorance) (2019.)\n"
     ]
    },
    {
     "name": "stderr",
     "output_type": "stream",
     "text": [
      " 90%|█████████ | 9044/10000 [1:38:26<10:10,  1.57it/s]"
     ]
    },
    {
     "name": "stdout",
     "output_type": "stream",
     "text": [
      "Error occured \"Osredak\" may refer to: \n",
      "Osredak (Cazin, BiH)\n",
      "Osredak (Stanari, BiH)\n",
      "Osredak (Kakanj, BiH)\n",
      "Osredak (Krupa na Uni, BiH)\n",
      "Osredak (Srebrenica, BiH)\n",
      "Osredak (Uskoplje, BiH)\n",
      "Osredak (Vareš, BiH)\n",
      "Osredak (Zenica, BiH)\n"
     ]
    },
    {
     "name": "stderr",
     "output_type": "stream",
     "text": [
      " 91%|█████████ | 9081/10000 [1:38:42<05:36,  2.73it/s]"
     ]
    },
    {
     "name": "stdout",
     "output_type": "stream",
     "text": [
      "Error occured \"Wiesnerella\" may refer to: \n",
      "Wiesnerella (Plantae)\n",
      "Wiesnerella (Chromista)\n"
     ]
    },
    {
     "name": "stderr",
     "output_type": "stream",
     "text": [
      " 91%|█████████ | 9085/10000 [1:38:45<07:22,  2.07it/s]"
     ]
    },
    {
     "name": "stdout",
     "output_type": "stream",
     "text": [
      "Error occured \"Orašje (razdvojba)\" may refer to: \n",
      "Orašje\n",
      "Orašje (Prnjavor, BiH)\n",
      "Orašje (Tuzla, BiH)\n",
      "Orašje Planje\n",
      "Orašje Popovo (Ravno, BiH)\n",
      "Orašje Popovo (Trebinje, BiH)\n",
      "Orašje Površ\n",
      "Orašje Zupci\n",
      "Orašje (Vlasotince, Srbija)\n"
     ]
    },
    {
     "name": "stderr",
     "output_type": "stream",
     "text": [
      " 91%|█████████ | 9111/10000 [1:38:55<04:59,  2.97it/s]"
     ]
    },
    {
     "name": "stdout",
     "output_type": "stream",
     "text": [
      "Error occured \"Marko Popović (razdvojba)\" may refer to: \n",
      "Marko Popović\n",
      "Marko Popović (automobilist)\n",
      "Marko Popović\n",
      "Marko Popović\n"
     ]
    },
    {
     "name": "stderr",
     "output_type": "stream",
     "text": [
      " 91%|█████████ | 9116/10000 [1:38:58<06:34,  2.24it/s]"
     ]
    },
    {
     "name": "stdout",
     "output_type": "stream",
     "text": [
      "Error occured \"Josip Francišković\" may refer to: \n",
      "Josip Frančišković\n",
      "Josip Francišković (vokalni solist)\n"
     ]
    },
    {
     "name": "stderr",
     "output_type": "stream",
     "text": [
      " 91%|█████████▏| 9136/10000 [1:39:09<08:12,  1.75it/s]"
     ]
    },
    {
     "name": "stdout",
     "output_type": "stream",
     "text": [
      "Error occured \"Relapse\" may refer to: \n",
      "Relapse Records\n",
      "Relapse\n"
     ]
    },
    {
     "name": "stderr",
     "output_type": "stream",
     "text": [
      " 91%|█████████▏| 9140/10000 [1:39:13<10:43,  1.34it/s]"
     ]
    },
    {
     "name": "stdout",
     "output_type": "stream",
     "text": [
      "Error occured \"Petrovo Selo (razdvojba)\" may refer to: \n",
      "Petrovo Selo\n",
      "Petrovo Selo (Kladovo, Srbija)\n",
      "Petrovo Selo (Bosanska Gradiška, BiH)\n",
      "Petrovo Selo\n"
     ]
    },
    {
     "name": "stderr",
     "output_type": "stream",
     "text": [
      " 92%|█████████▏| 9150/10000 [1:39:20<08:40,  1.63it/s]"
     ]
    },
    {
     "name": "stdout",
     "output_type": "stream",
     "text": [
      "Error occured \"Perdika\" may refer to: \n",
      "Perdika (makedonski general)\n",
      "Perdika (grad u Grčkoj)\n"
     ]
    },
    {
     "name": "stderr",
     "output_type": "stream",
     "text": [
      " 92%|█████████▏| 9231/10000 [1:40:15<07:28,  1.71it/s]"
     ]
    },
    {
     "name": "stdout",
     "output_type": "stream",
     "text": [
      "Error occured \"Glinica\" may refer to: \n",
      "Glinica (rijeka)\n",
      "Glinica (Velika Kladuša, BiH)\n",
      "Glinica (kemija)\n"
     ]
    },
    {
     "name": "stderr",
     "output_type": "stream",
     "text": [
      " 93%|█████████▎| 9283/10000 [1:40:48<06:48,  1.76it/s]"
     ]
    },
    {
     "name": "stdout",
     "output_type": "stream",
     "text": [
      "Error occured \"Satu Mare\" may refer to: \n",
      "Satu Mare (grad)\n",
      "Satu Mare (županija)\n",
      "Biskupija Satu Mare\n"
     ]
    },
    {
     "name": "stderr",
     "output_type": "stream",
     "text": [
      " 93%|█████████▎| 9304/10000 [1:41:02<06:41,  1.73it/s]"
     ]
    },
    {
     "name": "stdout",
     "output_type": "stream",
     "text": [
      "Error occured \"HSS (razdvojba)\" may refer to: \n",
      "Hrvatska seljačka stranka\n",
      "Hrvatska seljačka stranka (Bosna i Hercegovina)\n",
      "Hrvatski seljački savez\n",
      "Hrvatski skijaški savez\n",
      "Hrvatska samostalna stranka\n",
      "Hrvatski speleološki savez\n"
     ]
    },
    {
     "name": "stderr",
     "output_type": "stream",
     "text": [
      " 93%|█████████▎| 9308/10000 [1:41:06<08:45,  1.32it/s]"
     ]
    },
    {
     "name": "stdout",
     "output_type": "stream",
     "text": [
      "Error occured \"Yellowstone (razdvojba)\" may refer to: \n",
      "Nacionalni park Yellowstone\n",
      "Yellowstone (jezero)\n",
      "Yellowstone (rijeka)\n",
      "Vruća točka Yellowstone\n"
     ]
    },
    {
     "name": "stderr",
     "output_type": "stream",
     "text": [
      " 93%|█████████▎| 9325/10000 [1:41:17<06:47,  1.66it/s]"
     ]
    },
    {
     "name": "stdout",
     "output_type": "stream",
     "text": [
      "Error occured \"California (razdvojba)\" may refer to: \n",
      "Kalifornija\n",
      "Kalifornijska republika\n",
      "Baja California (poluotok)\n",
      "Baja California\n",
      "Baja California Sur\n",
      "Kalifornijski zaljev\n",
      "California, Maryland\n",
      "California, Missouri\n",
      "California, Pennsylvania\n",
      "California City, Kalifornija\n",
      "California, Kentucky\n",
      "California, Maine\n",
      "California, Michigan\n",
      "California, Sjeverna Carolina\n",
      "California, Ohio\n",
      "California, New Brunswick\n",
      "Lower California, New Brunswick\n",
      "California, Lanark County, Ontario\n",
      "California, Leeds and Grenville County, Ontario\n",
      "New California, Ontario\n",
      "California, Usulután\n",
      "Kalifornien\n",
      "California, Berkshire\n",
      "California, Buckinghamshire\n",
      "California, Falkirk\n",
      "California, Suffolk\n",
      "341 California\n",
      "NGC 1499\n",
      "T.S.S. California\n",
      "USS California\n",
      "California (nizozemski brod)\n",
      "Kalifornija (1946)\n",
      "Kalifornija (1963)\n",
      "Kalifornija (1977)\n",
      "Kalifornia\n"
     ]
    },
    {
     "name": "stderr",
     "output_type": "stream",
     "text": [
      " 94%|█████████▍| 9381/10000 [1:41:52<05:53,  1.75it/s]"
     ]
    },
    {
     "name": "stdout",
     "output_type": "stream",
     "text": [
      "Error occured \"Harrison\" may refer to: \n",
      "Anna Harrison\n",
      "Benjamin Harrison\n",
      "Cuth Harrison\n",
      "George Harrison\n",
      "Harry Harrison\n",
      "Joan Harrison (plivačica)\n",
      "Rex Harrison\n",
      "Wallace Harrison\n",
      "William Henry Harrison\n",
      "Harrison Ford\n",
      "Harrison (Nebraska)\n"
     ]
    },
    {
     "name": "stderr",
     "output_type": "stream",
     "text": [
      " 94%|█████████▍| 9434/10000 [1:42:25<06:02,  1.56it/s]"
     ]
    },
    {
     "name": "stdout",
     "output_type": "stream",
     "text": [
      "Error occured \"Zi\" may refer to: \n",
      "Zi (rijeka)\n",
      "Zi (album)\n"
     ]
    },
    {
     "name": "stderr",
     "output_type": "stream",
     "text": [
      " 94%|█████████▍| 9442/10000 [1:42:32<05:56,  1.56it/s]"
     ]
    },
    {
     "name": "stdout",
     "output_type": "stream",
     "text": [
      "Error occured \"Cayuse (razdvojba)\" may refer to: \n",
      "Cayuse\n",
      "Cayuse (konj)\n"
     ]
    },
    {
     "name": "stderr",
     "output_type": "stream",
     "text": [
      " 95%|█████████▌| 9517/10000 [1:43:18<04:56,  1.63it/s]"
     ]
    },
    {
     "name": "stdout",
     "output_type": "stream",
     "text": [
      "Error occured \"Gudelj\" may refer to: \n",
      "Gudelj (prezime)\n",
      "Ivan Gudelj\n",
      "Bruno Gudelj\n",
      "Petar Gudelj\n",
      "Nemanja Gudelj\n",
      "Gudelj (Foča, BiH)\n"
     ]
    },
    {
     "name": "stderr",
     "output_type": "stream",
     "text": [
      " 95%|█████████▌| 9525/10000 [1:43:24<04:55,  1.61it/s]"
     ]
    },
    {
     "name": "stdout",
     "output_type": "stream",
     "text": [
      "Error occured \"Handžar\" may refer to: \n",
      "Handžar divizija\n",
      "Handžar (turski nož)\n"
     ]
    },
    {
     "name": "stderr",
     "output_type": "stream",
     "text": [
      " 96%|█████████▌| 9560/10000 [1:43:46<04:19,  1.70it/s]"
     ]
    },
    {
     "name": "stdout",
     "output_type": "stream",
     "text": [
      "Error occured \"Retencija\" may refer to: \n",
      "retencija (vodogradnja)\n",
      "retencija (medicina)\n",
      "retencija (pravo)\n",
      "retencija (filozofija)\n",
      "retencija (psihologija)\n"
     ]
    },
    {
     "name": "stderr",
     "output_type": "stream",
     "text": [
      " 96%|█████████▋| 9629/10000 [1:44:25<02:04,  2.97it/s]"
     ]
    },
    {
     "name": "stdout",
     "output_type": "stream",
     "text": [
      "Error occured \"Obrežje\" may refer to: \n",
      "Obrežje (Brežice, Slovenija)\n",
      "Obrežje (Radeče, Slovenija)\n",
      "Obrežje pri Zidanem Mostu\n"
     ]
    },
    {
     "name": "stderr",
     "output_type": "stream",
     "text": [
      " 96%|█████████▋| 9633/10000 [1:44:28<02:57,  2.07it/s]"
     ]
    },
    {
     "name": "stdout",
     "output_type": "stream",
     "text": [
      "Error occured \"Nikefor\" may refer to: \n",
      "Nikefor I.\n",
      "Nikefor II. Foka\n",
      "Nikefor III. Botanijat\n"
     ]
    },
    {
     "name": "stderr",
     "output_type": "stream",
     "text": [
      " 96%|█████████▋| 9635/10000 [1:44:30<04:17,  1.42it/s]"
     ]
    },
    {
     "name": "stdout",
     "output_type": "stream",
     "text": [
      "Error occured \"Liga prvaka\" may refer to: \n",
      "UEFA Liga prvaka\n",
      "UEFA Liga prvaka\n",
      "CONCACAF Liga prvaka\n",
      "OFC Liga prvaka\n",
      "AFC Liga prvaka\n",
      "CAF Liga prvaka\n",
      "Liga prvaka u rukometu\n",
      "Liga prvaka u rukometu\n",
      "Liga prvaka u rukometu za žene\n",
      "Liga prvaka u odbojci za muškarce\n",
      "Liga prvaka u odbojci za žene\n",
      "Liga prvaka (hokej na ledu)\n"
     ]
    },
    {
     "name": "stderr",
     "output_type": "stream",
     "text": [
      " 96%|█████████▋| 9650/10000 [1:44:37<01:59,  2.93it/s]"
     ]
    },
    {
     "name": "stdout",
     "output_type": "stream",
     "text": [
      "Error occured \"Križevac\" may refer to: \n",
      "Križevac (Međugorje)\n",
      "Križevac (Stolac)\n"
     ]
    },
    {
     "name": "stderr",
     "output_type": "stream",
     "text": [
      " 97%|█████████▋| 9675/10000 [1:44:46<01:50,  2.93it/s]"
     ]
    },
    {
     "name": "stdout",
     "output_type": "stream",
     "text": [
      "Error occured \"Stanovi\" may refer to: \n",
      "Stanovi (Zadar)\n",
      "Stanovi (distrikt Brčko)\n",
      "Stanovi (Doboj, BiH)\n"
     ]
    },
    {
     "name": "stderr",
     "output_type": "stream",
     "text": [
      " 97%|█████████▋| 9710/10000 [1:45:02<03:02,  1.59it/s]"
     ]
    },
    {
     "name": "stdout",
     "output_type": "stream",
     "text": [
      "Error occured \"Kuželj\" may refer to: \n",
      "Kuželj (Delnice)\n",
      "Kuželj (Kostel, Slovenija)\n"
     ]
    },
    {
     "name": "stderr",
     "output_type": "stream",
     "text": [
      " 97%|█████████▋| 9711/10000 [1:45:04<05:17,  1.10s/it]"
     ]
    },
    {
     "name": "stdout",
     "output_type": "stream",
     "text": [
      "Error occured \"Stjepan Vukušić\" may refer to: \n",
      "Stjepan Vukušić (pjesnik)\n",
      "Stjepan Vukušić (gradonačelnik)\n",
      "Error occured \"Grania\" may refer to: \n",
      "Grania (Plantae)\n",
      "Grania (Animalia)\n"
     ]
    },
    {
     "name": "stderr",
     "output_type": "stream",
     "text": [
      " 97%|█████████▋| 9725/10000 [1:45:16<02:43,  1.68it/s]"
     ]
    },
    {
     "name": "stdout",
     "output_type": "stream",
     "text": [
      "Error occured \"Sokolovac (razdvojba)\" may refer to: \n",
      "Sokolovac\n",
      "Sokolovac (Dežanovac)\n",
      "Sokolovac (Kneževi Vinogradi)\n",
      "Sokolovac (brdo)\n"
     ]
    },
    {
     "name": "stderr",
     "output_type": "stream",
     "text": [
      " 98%|█████████▊| 9801/10000 [1:46:02<01:53,  1.75it/s]"
     ]
    },
    {
     "name": "stdout",
     "output_type": "stream",
     "text": [
      "Error occured \"Mladen Bratić\" may refer to: \n",
      "Mladen Bratić\n",
      "Mladen Bratić\n"
     ]
    },
    {
     "name": "stderr",
     "output_type": "stream",
     "text": [
      " 98%|█████████▊| 9810/10000 [1:46:09<01:56,  1.63it/s]"
     ]
    },
    {
     "name": "stdout",
     "output_type": "stream",
     "text": [
      "Error occured \"Scopus\" may refer to: \n",
      "Scopus (rod)\n",
      "Scopus (citatna baza podataka)\n"
     ]
    },
    {
     "name": "stderr",
     "output_type": "stream",
     "text": [
      " 99%|█████████▊| 9863/10000 [1:46:41<01:19,  1.72it/s]"
     ]
    },
    {
     "name": "stdout",
     "output_type": "stream",
     "text": [
      "Error occured \"M110\" may refer to: \n",
      "Messier 110\n",
      "Mercedes Benz M110\n",
      "M110 howitzer\n",
      "M-110 (autoput u Michiganu, SAD)\n"
     ]
    },
    {
     "name": "stderr",
     "output_type": "stream",
     "text": [
      " 99%|█████████▊| 9869/10000 [1:46:46<01:27,  1.49it/s]"
     ]
    },
    {
     "name": "stdout",
     "output_type": "stream",
     "text": [
      "Error occured \"Leti jezik\" may refer to: \n",
      "Leti (timorski jezik)\n",
      "Leti (mbam jezik)\n"
     ]
    },
    {
     "name": "stderr",
     "output_type": "stream",
     "text": [
      " 99%|█████████▉| 9904/10000 [1:47:09<00:58,  1.65it/s]"
     ]
    },
    {
     "name": "stdout",
     "output_type": "stream",
     "text": [
      "Error occured \"Štajerska (razdvojba)\" may refer to: \n",
      "Štajerska (vojvodstvo)\n",
      "Štajerska (austrijska savezna država)\n",
      "Štajerska (Slovenija)\n"
     ]
    },
    {
     "name": "stderr",
     "output_type": "stream",
     "text": [
      " 99%|█████████▉| 9907/10000 [1:47:12<01:17,  1.20it/s]"
     ]
    },
    {
     "name": "stdout",
     "output_type": "stream",
     "text": [
      "Error occured \"Boztepe\" may refer to: \n",
      "Mehmet Boztepe\n",
      "Brana Boztepe (Tokat)\n",
      "Brana Boztepe (Malatya)\n",
      "Brdo Boztepe, Trabzon\n",
      "Boztepe, Adıyaman\n",
      "Boztepe, Kešan\n",
      "Boztepe, Kırşehir\n",
      "Boztepe, Manavgat\n",
      "Boztepe, Ordu\n",
      "Boztepe, Sungurlu\n",
      "Boztepe, Tars\n",
      "Boztepe, Uğurludağ\n",
      "Boztepe, Yüreğir\n"
     ]
    },
    {
     "name": "stderr",
     "output_type": "stream",
     "text": [
      " 99%|█████████▉| 9917/10000 [1:47:20<00:50,  1.66it/s]"
     ]
    },
    {
     "name": "stdout",
     "output_type": "stream",
     "text": [
      "Error occured \"Acrotylus\" may refer to: \n",
      "Acrotylus (Plantae)\n",
      "Acrotylus (Animalia)\n"
     ]
    },
    {
     "name": "stderr",
     "output_type": "stream",
     "text": [
      "100%|█████████▉| 9964/10000 [1:47:50<00:21,  1.68it/s]"
     ]
    },
    {
     "name": "stdout",
     "output_type": "stream",
     "text": [
      "Error occured \"Poljani (pleme)\" may refer to: \n",
      "Poljani (istočni)\n",
      "Poljani (zapadni)\n",
      "Opoljani\n",
      "Error occured \"Relativnost\" may refer to: \n",
      "Princip relativnosti\n",
      "Teorija relativnosti\n",
      "Posebna relativnost\n",
      "Opća relativnost\n"
     ]
    },
    {
     "name": "stderr",
     "output_type": "stream",
     "text": [
      "100%|██████████| 10000/10000 [1:48:14<00:00,  1.70it/s]"
     ]
    }
   ],
   "source": [
    "k = 10000\n",
    "pages = []\n",
    "summaries = []\n",
    "queries = []\n",
    "bar = tqdm(range(k))\n",
    "pages_stack = []\n",
    "while len(pages) < k:\n",
    "    if len(pages_stack) == 0:\n",
    "        pages_stack = wikipedia.random(100)\n",
    "    page = pages_stack.pop()\n",
    "    try:\n",
    "        summary = wikipedia.page(page).summary\n",
    "    except Exception as e:\n",
    "        print(f\"Error occured {e}\")\n",
    "        sleep(1)\n",
    "        continue\n",
    "    bar.update()\n",
    "    query = random_format(page)\n",
    "    pages.append(page)\n",
    "    summaries.append(summary)\n",
    "    queries.append(query)"
   ]
  },
  {
   "cell_type": "code",
   "execution_count": 6,
   "id": "c37935c1",
   "metadata": {
    "execution": {
     "iopub.execute_input": "2024-12-11T00:47:15.130890Z",
     "iopub.status.busy": "2024-12-11T00:47:15.130474Z",
     "iopub.status.idle": "2024-12-11T00:47:15.136289Z",
     "shell.execute_reply": "2024-12-11T00:47:15.135120Z"
    },
    "papermill": {
     "duration": 0.565396,
     "end_time": "2024-12-11T00:47:15.139635",
     "exception": false,
     "start_time": "2024-12-11T00:47:14.574239",
     "status": "completed"
    },
    "tags": []
   },
   "outputs": [
    {
     "name": "stdout",
     "output_type": "stream",
     "text": [
      "10000\n"
     ]
    }
   ],
   "source": [
    "print(len(pages))"
   ]
  },
  {
   "cell_type": "code",
   "execution_count": 7,
   "id": "ed3a821d",
   "metadata": {
    "execution": {
     "iopub.execute_input": "2024-12-11T00:47:16.329100Z",
     "iopub.status.busy": "2024-12-11T00:47:16.327566Z",
     "iopub.status.idle": "2024-12-11T00:47:17.572247Z",
     "shell.execute_reply": "2024-12-11T00:47:17.570534Z"
    },
    "papermill": {
     "duration": 1.815374,
     "end_time": "2024-12-11T00:47:17.575080",
     "exception": false,
     "start_time": "2024-12-11T00:47:15.759706",
     "status": "completed"
    },
    "tags": []
   },
   "outputs": [],
   "source": [
    "import pandas as pd\n",
    "\n",
    "data = {\n",
    "    \"Page\": pages,\n",
    "    \"Query\": queries,\n",
    "    \"Summary\": summaries\n",
    "}\n",
    "df = pd.DataFrame(data)\n",
    "\n",
    "df.to_csv(\"output.csv\", index=False)"
   ]
  },
  {
   "cell_type": "code",
   "execution_count": 8,
   "id": "ac1e6b34",
   "metadata": {
    "execution": {
     "iopub.execute_input": "2024-12-11T00:47:18.817718Z",
     "iopub.status.busy": "2024-12-11T00:47:18.817309Z",
     "iopub.status.idle": "2024-12-11T00:47:18.843320Z",
     "shell.execute_reply": "2024-12-11T00:47:18.841958Z"
    },
    "papermill": {
     "duration": 0.595229,
     "end_time": "2024-12-11T00:47:18.846031",
     "exception": false,
     "start_time": "2024-12-11T00:47:18.250802",
     "status": "completed"
    },
    "tags": []
   },
   "outputs": [
    {
     "data": {
      "text/html": [
       "<div>\n",
       "<style scoped>\n",
       "    .dataframe tbody tr th:only-of-type {\n",
       "        vertical-align: middle;\n",
       "    }\n",
       "\n",
       "    .dataframe tbody tr th {\n",
       "        vertical-align: top;\n",
       "    }\n",
       "\n",
       "    .dataframe thead th {\n",
       "        text-align: right;\n",
       "    }\n",
       "</style>\n",
       "<table border=\"1\" class=\"dataframe\">\n",
       "  <thead>\n",
       "    <tr style=\"text-align: right;\">\n",
       "      <th></th>\n",
       "      <th>Page</th>\n",
       "      <th>Query</th>\n",
       "      <th>Summary</th>\n",
       "    </tr>\n",
       "  </thead>\n",
       "  <tbody>\n",
       "    <tr>\n",
       "      <th>0</th>\n",
       "      <td>Radiolarije</td>\n",
       "      <td>Zašto je Radiolarije važan ili zanimljiv?</td>\n",
       "      <td>Radiolarije (zrakaši, lat.: Radiozoa; sin. Rad...</td>\n",
       "    </tr>\n",
       "    <tr>\n",
       "      <th>1</th>\n",
       "      <td>Filistejci</td>\n",
       "      <td>Filistejci</td>\n",
       "      <td>Filistejci (hebr. פלשטים) bili su narod nastan...</td>\n",
       "    </tr>\n",
       "    <tr>\n",
       "      <th>2</th>\n",
       "      <td>Nazarenci</td>\n",
       "      <td>Nazarenci</td>\n",
       "      <td>Nazarenci su bili romantičarski pokret njemačk...</td>\n",
       "    </tr>\n",
       "    <tr>\n",
       "      <th>3</th>\n",
       "      <td>Mars Exploration Rovers</td>\n",
       "      <td>Kako bih mogao razumjeti Mars Exploration Rovers?</td>\n",
       "      <td>NASA-ina misija Mars Exploration Rover (MER) b...</td>\n",
       "    </tr>\n",
       "    <tr>\n",
       "      <th>4</th>\n",
       "      <td>157. brigada HV</td>\n",
       "      <td>Zašto je 157. brigada HV važan ili zanimljiv?</td>\n",
       "      <td>157. brigada Hrvatske vojske zvana još i Brods...</td>\n",
       "    </tr>\n",
       "    <tr>\n",
       "      <th>...</th>\n",
       "      <td>...</td>\n",
       "      <td>...</td>\n",
       "      <td>...</td>\n",
       "    </tr>\n",
       "    <tr>\n",
       "      <th>9995</th>\n",
       "      <td>Tolisa (Modriča, BiH)</td>\n",
       "      <td>Sažetak teme Tolisa (Modriča, BiH).</td>\n",
       "      <td>Tolisa je naseljeno mjesto u sastavu općine Mo...</td>\n",
       "    </tr>\n",
       "    <tr>\n",
       "      <th>9996</th>\n",
       "      <td>Jugozapadni indijski hrbat</td>\n",
       "      <td>Ključne informacije o Jugozapadni indijski hrb...</td>\n",
       "      <td>Jugozapadni indijski hrbat (eng. Southwest Ind...</td>\n",
       "    </tr>\n",
       "    <tr>\n",
       "      <th>9997</th>\n",
       "      <td>Nadzor brzine</td>\n",
       "      <td>Što se može reći o Nadzor brzine?</td>\n",
       "      <td>Nadzor brzine je mjera kontrole koju provodi p...</td>\n",
       "    </tr>\n",
       "    <tr>\n",
       "      <th>9998</th>\n",
       "      <td>Maternity Leave (Izgubljeni)</td>\n",
       "      <td>Maternity Leave (Izgubljeni)</td>\n",
       "      <td>\"Maternity Leave\" je 40. epizoda televizijske ...</td>\n",
       "    </tr>\n",
       "    <tr>\n",
       "      <th>9999</th>\n",
       "      <td>Non ho l'età</td>\n",
       "      <td>Kratak uvod u Non ho l'età.</td>\n",
       "      <td>Non ho l'età (Nisam dovoljno stara) je pjesma ...</td>\n",
       "    </tr>\n",
       "  </tbody>\n",
       "</table>\n",
       "<p>10000 rows × 3 columns</p>\n",
       "</div>"
      ],
      "text/plain": [
       "                              Page  \\\n",
       "0                      Radiolarije   \n",
       "1                       Filistejci   \n",
       "2                        Nazarenci   \n",
       "3          Mars Exploration Rovers   \n",
       "4                  157. brigada HV   \n",
       "...                            ...   \n",
       "9995         Tolisa (Modriča, BiH)   \n",
       "9996    Jugozapadni indijski hrbat   \n",
       "9997                 Nadzor brzine   \n",
       "9998  Maternity Leave (Izgubljeni)   \n",
       "9999                  Non ho l'età   \n",
       "\n",
       "                                                  Query  \\\n",
       "0             Zašto je Radiolarije važan ili zanimljiv?   \n",
       "1                                            Filistejci   \n",
       "2                                             Nazarenci   \n",
       "3     Kako bih mogao razumjeti Mars Exploration Rovers?   \n",
       "4         Zašto je 157. brigada HV važan ili zanimljiv?   \n",
       "...                                                 ...   \n",
       "9995                Sažetak teme Tolisa (Modriča, BiH).   \n",
       "9996  Ključne informacije o Jugozapadni indijski hrb...   \n",
       "9997                  Što se može reći o Nadzor brzine?   \n",
       "9998                       Maternity Leave (Izgubljeni)   \n",
       "9999                        Kratak uvod u Non ho l'età.   \n",
       "\n",
       "                                                Summary  \n",
       "0     Radiolarije (zrakaši, lat.: Radiozoa; sin. Rad...  \n",
       "1     Filistejci (hebr. פלשטים) bili su narod nastan...  \n",
       "2     Nazarenci su bili romantičarski pokret njemačk...  \n",
       "3     NASA-ina misija Mars Exploration Rover (MER) b...  \n",
       "4     157. brigada Hrvatske vojske zvana još i Brods...  \n",
       "...                                                 ...  \n",
       "9995  Tolisa je naseljeno mjesto u sastavu općine Mo...  \n",
       "9996  Jugozapadni indijski hrbat (eng. Southwest Ind...  \n",
       "9997  Nadzor brzine je mjera kontrole koju provodi p...  \n",
       "9998  \"Maternity Leave\" je 40. epizoda televizijske ...  \n",
       "9999  Non ho l'età (Nisam dovoljno stara) je pjesma ...  \n",
       "\n",
       "[10000 rows x 3 columns]"
      ]
     },
     "execution_count": 8,
     "metadata": {},
     "output_type": "execute_result"
    }
   ],
   "source": [
    "df"
   ]
  }
 ],
 "metadata": {
  "kaggle": {
   "accelerator": "none",
   "dataSources": [],
   "dockerImageVersionId": 30804,
   "isGpuEnabled": false,
   "isInternetEnabled": true,
   "language": "python",
   "sourceType": "notebook"
  },
  "kernelspec": {
   "display_name": "diplomski",
   "language": "python",
   "name": "python3"
  },
  "language_info": {
   "codemirror_mode": {
    "name": "ipython",
    "version": 3
   },
   "file_extension": ".py",
   "mimetype": "text/x-python",
   "name": "python",
   "nbconvert_exporter": "python",
   "pygments_lexer": "ipython3",
   "version": "3.10.14"
  },
  "papermill": {
   "default_parameters": {},
   "duration": 6520.414136,
   "end_time": "2024-12-11T00:47:20.099602",
   "environment_variables": {},
   "exception": null,
   "input_path": "__notebook__.ipynb",
   "output_path": "__notebook__.ipynb",
   "parameters": {},
   "start_time": "2024-12-10T22:58:39.685466",
   "version": "2.6.0"
  }
 },
 "nbformat": 4,
 "nbformat_minor": 5
}
