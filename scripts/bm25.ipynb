{
 "cells": [
  {
   "cell_type": "code",
   "execution_count": 1,
   "id": "f488976b",
   "metadata": {
    "execution": {
     "iopub.execute_input": "2025-01-23T20:27:15.866588Z",
     "iopub.status.busy": "2025-01-23T20:27:15.866224Z",
     "iopub.status.idle": "2025-01-23T20:27:25.995128Z",
     "shell.execute_reply": "2025-01-23T20:27:25.993628Z"
    },
    "papermill": {
     "duration": 10.135341,
     "end_time": "2025-01-23T20:27:25.997253",
     "exception": false,
     "start_time": "2025-01-23T20:27:15.861912",
     "status": "completed"
    },
    "tags": []
   },
   "outputs": [],
   "source": [
    "%%capture\n",
    "!pip install rank-bm25\n",
    "!pip install stopwordsiso"
   ]
  },
  {
   "cell_type": "code",
   "execution_count": 2,
   "id": "44239278",
   "metadata": {
    "execution": {
     "iopub.execute_input": "2025-01-23T20:27:26.004370Z",
     "iopub.status.busy": "2025-01-23T20:27:26.003999Z",
     "iopub.status.idle": "2025-01-23T20:27:29.102499Z",
     "shell.execute_reply": "2025-01-23T20:27:29.101544Z"
    },
    "papermill": {
     "duration": 3.103849,
     "end_time": "2025-01-23T20:27:29.104320",
     "exception": false,
     "start_time": "2025-01-23T20:27:26.000471",
     "status": "completed"
    },
    "tags": []
   },
   "outputs": [],
   "source": [
    "import stopwordsiso\n",
    "import pandas as pd\n",
    "from rank_bm25 import BM25Okapi\n",
    "import pandas as pd\n",
    "from nltk.tokenize import word_tokenize\n",
    "from nltk.corpus import stopwords\n",
    "import nltk"
   ]
  },
  {
   "cell_type": "code",
   "execution_count": 3,
   "id": "10eb01d3",
   "metadata": {
    "execution": {
     "iopub.execute_input": "2025-01-23T20:27:29.111095Z",
     "iopub.status.busy": "2025-01-23T20:27:29.110538Z",
     "iopub.status.idle": "2025-01-23T20:27:29.294324Z",
     "shell.execute_reply": "2025-01-23T20:27:29.293163Z"
    },
    "papermill": {
     "duration": 0.189069,
     "end_time": "2025-01-23T20:27:29.296233",
     "exception": false,
     "start_time": "2025-01-23T20:27:29.107164",
     "status": "completed"
    },
    "tags": []
   },
   "outputs": [
    {
     "name": "stdout",
     "output_type": "stream",
     "text": [
      "[nltk_data] Downloading package punkt to /usr/share/nltk_data...\n",
      "[nltk_data]   Package punkt is already up-to-date!\n",
      "[nltk_data] Downloading package stopwords to /usr/share/nltk_data...\n",
      "[nltk_data]   Package stopwords is already up-to-date!\n",
      "179\n"
     ]
    }
   ],
   "source": [
    "nltk.download('punkt')\n",
    "nltk.download('stopwords')\n",
    "stop_words = stopwordsiso.stopwords(\"hr\")\n",
    "print(len(stop_words))"
   ]
  },
  {
   "cell_type": "code",
   "execution_count": 4,
   "id": "7c6413cc",
   "metadata": {
    "execution": {
     "iopub.execute_input": "2025-01-23T20:27:29.303089Z",
     "iopub.status.busy": "2025-01-23T20:27:29.302741Z",
     "iopub.status.idle": "2025-01-23T20:27:29.376163Z",
     "shell.execute_reply": "2025-01-23T20:27:29.375055Z"
    },
    "papermill": {
     "duration": 0.078984,
     "end_time": "2025-01-23T20:27:29.378098",
     "exception": false,
     "start_time": "2025-01-23T20:27:29.299114",
     "status": "completed"
    },
    "tags": []
   },
   "outputs": [],
   "source": [
    "dataset_path = \"/kaggle/input/wiki-and-ms-marco\"\n",
    "test_df = pd.read_csv(dataset_path + \"/test.csv\")"
   ]
  },
  {
   "cell_type": "code",
   "execution_count": 5,
   "id": "64fe8e64",
   "metadata": {
    "execution": {
     "iopub.execute_input": "2025-01-23T20:27:29.384507Z",
     "iopub.status.busy": "2025-01-23T20:27:29.384186Z",
     "iopub.status.idle": "2025-01-23T20:27:31.172452Z",
     "shell.execute_reply": "2025-01-23T20:27:31.171372Z"
    },
    "papermill": {
     "duration": 1.793346,
     "end_time": "2025-01-23T20:27:31.174316",
     "exception": false,
     "start_time": "2025-01-23T20:27:29.380970",
     "status": "completed"
    },
    "tags": []
   },
   "outputs": [],
   "source": [
    "def preprocess(text):\n",
    "    \"\"\"Tokenize and remove stopwords.\"\"\"\n",
    "    tokens = word_tokenize(text.lower())\n",
    "    return [word for word in tokens if word.isalnum() and word not in stop_words]\n",
    "\n",
    "test_df['processed_passage'] = test_df['passage'].apply(preprocess)\n",
    "corpus = test_df['processed_passage'].tolist()\n",
    "\n",
    "bm25 = BM25Okapi(corpus)"
   ]
  },
  {
   "cell_type": "code",
   "execution_count": 6,
   "id": "4f3f1c89",
   "metadata": {
    "execution": {
     "iopub.execute_input": "2025-01-23T20:27:31.181409Z",
     "iopub.status.busy": "2025-01-23T20:27:31.181050Z",
     "iopub.status.idle": "2025-01-23T20:29:50.274725Z",
     "shell.execute_reply": "2025-01-23T20:29:50.273560Z"
    },
    "papermill": {
     "duration": 139.099421,
     "end_time": "2025-01-23T20:29:50.276749",
     "exception": false,
     "start_time": "2025-01-23T20:27:31.177328",
     "status": "completed"
    },
    "tags": []
   },
   "outputs": [],
   "source": [
    "results = []\n",
    "for i, row in test_df.iterrows():\n",
    "    query = row['query']\n",
    "    relevant_passage = row['passage']\n",
    "    query_tokens = preprocess(query)\n",
    "\n",
    "    scores = bm25.get_scores(query_tokens)\n",
    "\n",
    "    sorted_indices = scores.argsort()[::-1]\n",
    "    sorted_scores = scores[sorted_indices]\n",
    "    sorted_passages = [test_df.iloc[idx]['passage'] for idx in sorted_indices]\n",
    "\n",
    "    relevant_idx = sorted_indices.tolist().index(i)\n",
    "    relevant_score = scores[i]\n",
    "    rank = relevant_idx + 1\n",
    "\n",
    "    results.append({\n",
    "        'query': query,\n",
    "        'retrieved_passage': sorted_passages[0],\n",
    "        'retrieved_score': sorted_scores[0],\n",
    "        'relevant_passage': relevant_passage,\n",
    "        'relevant_score': relevant_score,\n",
    "        'rank': rank\n",
    "    })\n",
    "\n",
    "results_df = pd.DataFrame(results)\n",
    "\n",
    "results_df.to_csv(\"retrieved_results_with_rank.csv\", index=False)\n"
   ]
  },
  {
   "cell_type": "code",
   "execution_count": 7,
   "id": "e7991a66",
   "metadata": {
    "execution": {
     "iopub.execute_input": "2025-01-23T20:29:50.283808Z",
     "iopub.status.busy": "2025-01-23T20:29:50.283381Z",
     "iopub.status.idle": "2025-01-23T20:29:50.288149Z",
     "shell.execute_reply": "2025-01-23T20:29:50.287169Z"
    },
    "papermill": {
     "duration": 0.010233,
     "end_time": "2025-01-23T20:29:50.290172",
     "exception": false,
     "start_time": "2025-01-23T20:29:50.279939",
     "status": "completed"
    },
    "tags": []
   },
   "outputs": [],
   "source": [
    "def mean_reciprocal_rank(ranks):\n",
    "    return sum(map(lambda x: 1/x, ranks)) / len(ranks)\n",
    "\n",
    "def hit_rate_at_1(ranks):\n",
    "    return sum(map(lambda x: x==1, ranks)) / len(ranks)"
   ]
  },
  {
   "cell_type": "code",
   "execution_count": 8,
   "id": "15fbec45",
   "metadata": {
    "execution": {
     "iopub.execute_input": "2025-01-23T20:29:50.297908Z",
     "iopub.status.busy": "2025-01-23T20:29:50.297505Z",
     "iopub.status.idle": "2025-01-23T20:29:50.304042Z",
     "shell.execute_reply": "2025-01-23T20:29:50.302627Z"
    },
    "papermill": {
     "duration": 0.012454,
     "end_time": "2025-01-23T20:29:50.305757",
     "exception": false,
     "start_time": "2025-01-23T20:29:50.293303",
     "status": "completed"
    },
    "tags": []
   },
   "outputs": [
    {
     "name": "stdout",
     "output_type": "stream",
     "text": [
      "MRR: 0.7984746956270221, HR@1: 0.7501259445843829\n"
     ]
    }
   ],
   "source": [
    "ranks = list(results_df[\"rank\"])\n",
    "mrr = mean_reciprocal_rank(ranks)\n",
    "hr = hit_rate_at_1(ranks)\n",
    "print(f\"MRR: {mrr}, HR@1: {hr}\")"
   ]
  },
  {
   "cell_type": "code",
   "execution_count": 9,
   "id": "fc1415f3",
   "metadata": {
    "execution": {
     "iopub.execute_input": "2025-01-23T20:29:50.312913Z",
     "iopub.status.busy": "2025-01-23T20:29:50.312483Z",
     "iopub.status.idle": "2025-01-23T20:29:50.339427Z",
     "shell.execute_reply": "2025-01-23T20:29:50.338337Z"
    },
    "papermill": {
     "duration": 0.032468,
     "end_time": "2025-01-23T20:29:50.341243",
     "exception": false,
     "start_time": "2025-01-23T20:29:50.308775",
     "status": "completed"
    },
    "tags": []
   },
   "outputs": [
    {
     "data": {
      "text/html": [
       "<div>\n",
       "<style scoped>\n",
       "    .dataframe tbody tr th:only-of-type {\n",
       "        vertical-align: middle;\n",
       "    }\n",
       "\n",
       "    .dataframe tbody tr th {\n",
       "        vertical-align: top;\n",
       "    }\n",
       "\n",
       "    .dataframe thead th {\n",
       "        text-align: right;\n",
       "    }\n",
       "</style>\n",
       "<table border=\"1\" class=\"dataframe\">\n",
       "  <thead>\n",
       "    <tr style=\"text-align: right;\">\n",
       "      <th></th>\n",
       "      <th>query</th>\n",
       "      <th>retrieved_passage</th>\n",
       "      <th>retrieved_score</th>\n",
       "      <th>relevant_passage</th>\n",
       "      <th>relevant_score</th>\n",
       "      <th>rank</th>\n",
       "    </tr>\n",
       "  </thead>\n",
       "  <tbody>\n",
       "    <tr>\n",
       "      <th>0</th>\n",
       "      <td>koliko je star dr.nowzaradan</td>\n",
       "      <td>Koliko dugo nakon ovulacije jaje ostaje održiv...</td>\n",
       "      <td>7.072334</td>\n",
       "      <td>Dr. Nowzaradan Plan prehrane.1 muškarci.2 treb...</td>\n",
       "      <td>0.000000</td>\n",
       "      <td>1985</td>\n",
       "    </tr>\n",
       "    <tr>\n",
       "      <th>1</th>\n",
       "      <td>Kako ukloniti anketu</td>\n",
       "      <td>Da biste izbrisali anketu: 1 Idite na stranicu...</td>\n",
       "      <td>13.279188</td>\n",
       "      <td>Da biste izbrisali anketu: 1 Idite na stranicu...</td>\n",
       "      <td>13.279188</td>\n",
       "      <td>1</td>\n",
       "    </tr>\n",
       "    <tr>\n",
       "      <th>2</th>\n",
       "      <td>Kako bih mogao razumjeti Dolića Draga?</td>\n",
       "      <td>Dolića Draga je naselje u općini Lokvičići, u ...</td>\n",
       "      <td>23.324747</td>\n",
       "      <td>Dolića Draga je naselje u općini Lokvičići, u ...</td>\n",
       "      <td>23.324747</td>\n",
       "      <td>1</td>\n",
       "    </tr>\n",
       "    <tr>\n",
       "      <th>3</th>\n",
       "      <td>Što MFD znači za pisač</td>\n",
       "      <td>Značenje kanonskog pisača za upozorenje svjetl...</td>\n",
       "      <td>20.350662</td>\n",
       "      <td>Značenje kanonskog pisača za upozorenje svjetl...</td>\n",
       "      <td>20.350662</td>\n",
       "      <td>1</td>\n",
       "    </tr>\n",
       "    <tr>\n",
       "      <th>4</th>\n",
       "      <td>Koji su organi uključeni u sustav izlučivanja</td>\n",
       "      <td>Organi i njihove funkcije.1 Bubrezi otpadu iz ...</td>\n",
       "      <td>9.293178</td>\n",
       "      <td>Organi i njihove funkcije.1 Bubrezi otpadu iz ...</td>\n",
       "      <td>9.293178</td>\n",
       "      <td>1</td>\n",
       "    </tr>\n",
       "    <tr>\n",
       "      <th>...</th>\n",
       "      <td>...</td>\n",
       "      <td>...</td>\n",
       "      <td>...</td>\n",
       "      <td>...</td>\n",
       "      <td>...</td>\n",
       "      <td>...</td>\n",
       "    </tr>\n",
       "    <tr>\n",
       "      <th>1980</th>\n",
       "      <td>vrijedi li ipsy torba</td>\n",
       "      <td>Pozdrav moji ljubavnici!Pretplaćen sam na Ipsy...</td>\n",
       "      <td>18.223156</td>\n",
       "      <td>Pozdrav moji ljubavnici!Pretplaćen sam na Ipsy...</td>\n",
       "      <td>18.223156</td>\n",
       "      <td>1</td>\n",
       "    </tr>\n",
       "    <tr>\n",
       "      <th>1981</th>\n",
       "      <td>Definicija CRM mogućnosti</td>\n",
       "      <td>Voditelji su potencijalni ili potencijalni kup...</td>\n",
       "      <td>19.879169</td>\n",
       "      <td>Voditelji su potencijalni ili potencijalni kup...</td>\n",
       "      <td>19.879169</td>\n",
       "      <td>1</td>\n",
       "    </tr>\n",
       "    <tr>\n",
       "      <th>1982</th>\n",
       "      <td>Što je Hallux</td>\n",
       "      <td>Prosječna plaća financijskih analitičara iznos...</td>\n",
       "      <td>0.000000</td>\n",
       "      <td>Bunions su progresivni poremećaj.Započinju nag...</td>\n",
       "      <td>0.000000</td>\n",
       "      <td>1333</td>\n",
       "    </tr>\n",
       "    <tr>\n",
       "      <th>1983</th>\n",
       "      <td>Kratak uvod u NGC 1163.</td>\n",
       "      <td>NGC 1163 je galaksija u zviježđu Eridan.</td>\n",
       "      <td>18.757347</td>\n",
       "      <td>NGC 1163 je galaksija u zviježđu Eridan.</td>\n",
       "      <td>18.757347</td>\n",
       "      <td>1</td>\n",
       "    </tr>\n",
       "    <tr>\n",
       "      <th>1984</th>\n",
       "      <td>Financijski analitičari Prosječna plaća</td>\n",
       "      <td>Prosječni financijski analitičar plaća u odnos...</td>\n",
       "      <td>19.340297</td>\n",
       "      <td>Prosječna plaća financijskih analitičara iznos...</td>\n",
       "      <td>11.705758</td>\n",
       "      <td>5</td>\n",
       "    </tr>\n",
       "  </tbody>\n",
       "</table>\n",
       "<p>1985 rows × 6 columns</p>\n",
       "</div>"
      ],
      "text/plain": [
       "                                              query  \\\n",
       "0                      koliko je star dr.nowzaradan   \n",
       "1                              Kako ukloniti anketu   \n",
       "2            Kako bih mogao razumjeti Dolića Draga?   \n",
       "3                            Što MFD znači za pisač   \n",
       "4     Koji su organi uključeni u sustav izlučivanja   \n",
       "...                                             ...   \n",
       "1980                          vrijedi li ipsy torba   \n",
       "1981                      Definicija CRM mogućnosti   \n",
       "1982                                  Što je Hallux   \n",
       "1983                        Kratak uvod u NGC 1163.   \n",
       "1984        Financijski analitičari Prosječna plaća   \n",
       "\n",
       "                                      retrieved_passage  retrieved_score  \\\n",
       "0     Koliko dugo nakon ovulacije jaje ostaje održiv...         7.072334   \n",
       "1     Da biste izbrisali anketu: 1 Idite na stranicu...        13.279188   \n",
       "2     Dolića Draga je naselje u općini Lokvičići, u ...        23.324747   \n",
       "3     Značenje kanonskog pisača za upozorenje svjetl...        20.350662   \n",
       "4     Organi i njihove funkcije.1 Bubrezi otpadu iz ...         9.293178   \n",
       "...                                                 ...              ...   \n",
       "1980  Pozdrav moji ljubavnici!Pretplaćen sam na Ipsy...        18.223156   \n",
       "1981  Voditelji su potencijalni ili potencijalni kup...        19.879169   \n",
       "1982  Prosječna plaća financijskih analitičara iznos...         0.000000   \n",
       "1983           NGC 1163 je galaksija u zviježđu Eridan.        18.757347   \n",
       "1984  Prosječni financijski analitičar plaća u odnos...        19.340297   \n",
       "\n",
       "                                       relevant_passage  relevant_score  rank  \n",
       "0     Dr. Nowzaradan Plan prehrane.1 muškarci.2 treb...        0.000000  1985  \n",
       "1     Da biste izbrisali anketu: 1 Idite na stranicu...       13.279188     1  \n",
       "2     Dolića Draga je naselje u općini Lokvičići, u ...       23.324747     1  \n",
       "3     Značenje kanonskog pisača za upozorenje svjetl...       20.350662     1  \n",
       "4     Organi i njihove funkcije.1 Bubrezi otpadu iz ...        9.293178     1  \n",
       "...                                                 ...             ...   ...  \n",
       "1980  Pozdrav moji ljubavnici!Pretplaćen sam na Ipsy...       18.223156     1  \n",
       "1981  Voditelji su potencijalni ili potencijalni kup...       19.879169     1  \n",
       "1982  Bunions su progresivni poremećaj.Započinju nag...        0.000000  1333  \n",
       "1983           NGC 1163 je galaksija u zviježđu Eridan.       18.757347     1  \n",
       "1984  Prosječna plaća financijskih analitičara iznos...       11.705758     5  \n",
       "\n",
       "[1985 rows x 6 columns]"
      ]
     },
     "execution_count": 9,
     "metadata": {},
     "output_type": "execute_result"
    }
   ],
   "source": [
    "results_df"
   ]
  }
 ],
 "metadata": {
  "kaggle": {
   "accelerator": "none",
   "dataSources": [
    {
     "datasetId": 6429469,
     "sourceId": 10379362,
     "sourceType": "datasetVersion"
    }
   ],
   "dockerImageVersionId": 30839,
   "isGpuEnabled": false,
   "isInternetEnabled": true,
   "language": "python",
   "sourceType": "notebook"
  },
  "kernelspec": {
   "display_name": "Python 3",
   "language": "python",
   "name": "python3"
  },
  "language_info": {
   "codemirror_mode": {
    "name": "ipython",
    "version": 3
   },
   "file_extension": ".py",
   "mimetype": "text/x-python",
   "name": "python",
   "nbconvert_exporter": "python",
   "pygments_lexer": "ipython3",
   "version": "3.10.12"
  },
  "papermill": {
   "default_parameters": {},
   "duration": 158.042835,
   "end_time": "2025-01-23T20:29:51.165094",
   "environment_variables": {},
   "exception": null,
   "input_path": "__notebook__.ipynb",
   "output_path": "__notebook__.ipynb",
   "parameters": {},
   "start_time": "2025-01-23T20:27:13.122259",
   "version": "2.6.0"
  }
 },
 "nbformat": 4,
 "nbformat_minor": 5
}
