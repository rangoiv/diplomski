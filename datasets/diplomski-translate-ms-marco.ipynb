{
 "cells": [
  {
   "cell_type": "markdown",
   "id": "14f33043",
   "metadata": {
    "papermill": {
     "duration": 0.002872,
     "end_time": "2024-11-20T14:15:53.536373",
     "exception": false,
     "start_time": "2024-11-20T14:15:53.533501",
     "status": "completed"
    },
    "tags": []
   },
   "source": [
    "https://www.kaggle.com/datasets/parthplc/ms-marco-dataset"
   ]
  },
  {
   "cell_type": "code",
   "execution_count": 1,
   "id": "c2da3f4c",
   "metadata": {
    "execution": {
     "iopub.execute_input": "2024-11-20T14:15:53.543373Z",
     "iopub.status.busy": "2024-11-20T14:15:53.542988Z",
     "iopub.status.idle": "2024-11-20T14:16:11.493236Z",
     "shell.execute_reply": "2024-11-20T14:16:11.491856Z"
    },
    "papermill": {
     "duration": 17.957155,
     "end_time": "2024-11-20T14:16:11.496170",
     "exception": false,
     "start_time": "2024-11-20T14:15:53.539015",
     "status": "completed"
    },
    "tags": []
   },
   "outputs": [
    {
     "name": "stdout",
     "output_type": "stream",
     "text": [
      "Collecting googletrans==4.0.0-rc1\r\n",
      "  Downloading googletrans-4.0.0rc1.tar.gz (20 kB)\r\n",
      "  Preparing metadata (setup.py) ... \u001b[?25l-\b \b\\\b \b|\b \bdone\r\n",
      "\u001b[?25hCollecting httpx==0.13.3 (from googletrans==4.0.0-rc1)\r\n",
      "  Downloading httpx-0.13.3-py3-none-any.whl.metadata (25 kB)\r\n",
      "Requirement already satisfied: certifi in /opt/conda/lib/python3.10/site-packages (from httpx==0.13.3->googletrans==4.0.0-rc1) (2024.2.2)\r\n",
      "Collecting hstspreload (from httpx==0.13.3->googletrans==4.0.0-rc1)\r\n",
      "  Downloading hstspreload-2024.11.1-py3-none-any.whl.metadata (2.1 kB)\r\n",
      "Requirement already satisfied: sniffio in /opt/conda/lib/python3.10/site-packages (from httpx==0.13.3->googletrans==4.0.0-rc1) (1.3.0)\r\n",
      "Collecting chardet==3.* (from httpx==0.13.3->googletrans==4.0.0-rc1)\r\n",
      "  Downloading chardet-3.0.4-py2.py3-none-any.whl.metadata (3.2 kB)\r\n",
      "Collecting idna==2.* (from httpx==0.13.3->googletrans==4.0.0-rc1)\r\n",
      "  Downloading idna-2.10-py2.py3-none-any.whl.metadata (9.1 kB)\r\n",
      "Collecting rfc3986<2,>=1.3 (from httpx==0.13.3->googletrans==4.0.0-rc1)\r\n",
      "  Downloading rfc3986-1.5.0-py2.py3-none-any.whl.metadata (6.5 kB)\r\n",
      "Collecting httpcore==0.9.* (from httpx==0.13.3->googletrans==4.0.0-rc1)\r\n",
      "  Downloading httpcore-0.9.1-py3-none-any.whl.metadata (4.6 kB)\r\n",
      "Collecting h11<0.10,>=0.8 (from httpcore==0.9.*->httpx==0.13.3->googletrans==4.0.0-rc1)\r\n",
      "  Downloading h11-0.9.0-py2.py3-none-any.whl.metadata (8.1 kB)\r\n",
      "Collecting h2==3.* (from httpcore==0.9.*->httpx==0.13.3->googletrans==4.0.0-rc1)\r\n",
      "  Downloading h2-3.2.0-py2.py3-none-any.whl.metadata (32 kB)\r\n",
      "Collecting hyperframe<6,>=5.2.0 (from h2==3.*->httpcore==0.9.*->httpx==0.13.3->googletrans==4.0.0-rc1)\r\n",
      "  Downloading hyperframe-5.2.0-py2.py3-none-any.whl.metadata (7.2 kB)\r\n",
      "Collecting hpack<4,>=3.0 (from h2==3.*->httpcore==0.9.*->httpx==0.13.3->googletrans==4.0.0-rc1)\r\n",
      "  Downloading hpack-3.0.0-py2.py3-none-any.whl.metadata (7.0 kB)\r\n",
      "Downloading httpx-0.13.3-py3-none-any.whl (55 kB)\r\n",
      "\u001b[2K   \u001b[90m━━━━━━━━━━━━━━━━━━━━━━━━━━━━━━━━━━━━━━━━\u001b[0m \u001b[32m55.1/55.1 kB\u001b[0m \u001b[31m2.9 MB/s\u001b[0m eta \u001b[36m0:00:00\u001b[0m\r\n",
      "\u001b[?25hDownloading chardet-3.0.4-py2.py3-none-any.whl (133 kB)\r\n",
      "\u001b[2K   \u001b[90m━━━━━━━━━━━━━━━━━━━━━━━━━━━━━━━━━━━━━━━━\u001b[0m \u001b[32m133.4/133.4 kB\u001b[0m \u001b[31m4.5 MB/s\u001b[0m eta \u001b[36m0:00:00\u001b[0m\r\n",
      "\u001b[?25hDownloading httpcore-0.9.1-py3-none-any.whl (42 kB)\r\n",
      "\u001b[2K   \u001b[90m━━━━━━━━━━━━━━━━━━━━━━━━━━━━━━━━━━━━━━━━\u001b[0m \u001b[32m42.6/42.6 kB\u001b[0m \u001b[31m1.9 MB/s\u001b[0m eta \u001b[36m0:00:00\u001b[0m\r\n",
      "\u001b[?25hDownloading idna-2.10-py2.py3-none-any.whl (58 kB)\r\n",
      "\u001b[2K   \u001b[90m━━━━━━━━━━━━━━━━━━━━━━━━━━━━━━━━━━━━━━━━\u001b[0m \u001b[32m58.8/58.8 kB\u001b[0m \u001b[31m2.8 MB/s\u001b[0m eta \u001b[36m0:00:00\u001b[0m\r\n",
      "\u001b[?25hDownloading h2-3.2.0-py2.py3-none-any.whl (65 kB)\r\n",
      "\u001b[2K   \u001b[90m━━━━━━━━━━━━━━━━━━━━━━━━━━━━━━━━━━━━━━━━\u001b[0m \u001b[32m65.0/65.0 kB\u001b[0m \u001b[31m3.3 MB/s\u001b[0m eta \u001b[36m0:00:00\u001b[0m\r\n",
      "\u001b[?25hDownloading rfc3986-1.5.0-py2.py3-none-any.whl (31 kB)\r\n",
      "Downloading hstspreload-2024.11.1-py3-none-any.whl (1.2 MB)\r\n",
      "\u001b[2K   \u001b[90m━━━━━━━━━━━━━━━━━━━━━━━━━━━━━━━━━━━━━━━━\u001b[0m \u001b[32m1.2/1.2 MB\u001b[0m \u001b[31m22.7 MB/s\u001b[0m eta \u001b[36m0:00:00\u001b[0m\r\n",
      "\u001b[?25hDownloading h11-0.9.0-py2.py3-none-any.whl (53 kB)\r\n",
      "\u001b[2K   \u001b[90m━━━━━━━━━━━━━━━━━━━━━━━━━━━━━━━━━━━━━━━━\u001b[0m \u001b[32m53.6/53.6 kB\u001b[0m \u001b[31m2.3 MB/s\u001b[0m eta \u001b[36m0:00:00\u001b[0m\r\n",
      "\u001b[?25hDownloading hpack-3.0.0-py2.py3-none-any.whl (38 kB)\r\n",
      "Downloading hyperframe-5.2.0-py2.py3-none-any.whl (12 kB)\r\n",
      "Building wheels for collected packages: googletrans\r\n",
      "  Building wheel for googletrans (setup.py) ... \u001b[?25l-\b \b\\\b \b|\b \b/\b \bdone\r\n",
      "\u001b[?25h  Created wheel for googletrans: filename=googletrans-4.0.0rc1-py3-none-any.whl size=17396 sha256=83006e28430a6bd25fb877608047d798093b681160dde439d02a7a5a644dc673\r\n",
      "  Stored in directory: /root/.cache/pip/wheels/c0/59/9f/7372f0cf70160fe61b528532e1a7c8498c4becd6bcffb022de\r\n",
      "Successfully built googletrans\r\n",
      "Installing collected packages: rfc3986, hyperframe, hpack, h11, chardet, idna, hstspreload, h2, httpcore, httpx, googletrans\r\n",
      "  Attempting uninstall: h11\r\n",
      "    Found existing installation: h11 0.14.0\r\n",
      "    Uninstalling h11-0.14.0:\r\n",
      "      Successfully uninstalled h11-0.14.0\r\n",
      "  Attempting uninstall: idna\r\n",
      "    Found existing installation: idna 3.6\r\n",
      "    Uninstalling idna-3.6:\r\n",
      "      Successfully uninstalled idna-3.6\r\n",
      "  Attempting uninstall: httpcore\r\n",
      "    Found existing installation: httpcore 1.0.5\r\n",
      "    Uninstalling httpcore-1.0.5:\r\n",
      "      Successfully uninstalled httpcore-1.0.5\r\n",
      "  Attempting uninstall: httpx\r\n",
      "    Found existing installation: httpx 0.27.0\r\n",
      "    Uninstalling httpx-0.27.0:\r\n",
      "      Successfully uninstalled httpx-0.27.0\r\n",
      "\u001b[31mERROR: pip's dependency resolver does not currently take into account all the packages that are installed. This behaviour is the source of the following dependency conflicts.\r\n",
      "tensorflow-decision-forests 1.8.1 requires wurlitzer, which is not installed.\r\n",
      "jupyterlab 4.1.6 requires httpx>=0.25.0, but you have httpx 0.13.3 which is incompatible.\r\n",
      "jupyterlab 4.1.6 requires jupyter-lsp>=2.0.0, but you have jupyter-lsp 1.5.1 which is incompatible.\r\n",
      "jupyterlab-lsp 5.1.0 requires jupyter-lsp>=2.0.0, but you have jupyter-lsp 1.5.1 which is incompatible.\r\n",
      "tensorflow 2.15.0 requires keras<2.16,>=2.15.0, but you have keras 3.2.1 which is incompatible.\r\n",
      "ydata-profiling 4.6.4 requires numpy<1.26,>=1.16.0, but you have numpy 1.26.4 which is incompatible.\u001b[0m\u001b[31m\r\n",
      "\u001b[0mSuccessfully installed chardet-3.0.4 googletrans-4.0.0rc1 h11-0.9.0 h2-3.2.0 hpack-3.0.0 hstspreload-2024.11.1 httpcore-0.9.1 httpx-0.13.3 hyperframe-5.2.0 idna-2.10 rfc3986-1.5.0\r\n"
     ]
    }
   ],
   "source": [
    "!pip install googletrans==4.0.0-rc1"
   ]
  },
  {
   "cell_type": "code",
   "execution_count": 2,
   "id": "6f39493e",
   "metadata": {
    "execution": {
     "iopub.execute_input": "2024-11-20T14:16:11.509045Z",
     "iopub.status.busy": "2024-11-20T14:16:11.508620Z",
     "iopub.status.idle": "2024-11-20T14:16:12.874097Z",
     "shell.execute_reply": "2024-11-20T14:16:12.873077Z"
    },
    "papermill": {
     "duration": 1.37512,
     "end_time": "2024-11-20T14:16:12.876729",
     "exception": false,
     "start_time": "2024-11-20T14:16:11.501609",
     "status": "completed"
    },
    "tags": []
   },
   "outputs": [],
   "source": [
    "import os\n",
    "import pandas as pd\n",
    "from tqdm import tqdm\n",
    "from googletrans import Translator\n",
    "import pandas as pd\n",
    "import time\n",
    "tqdm.pandas()\n",
    "\n",
    "translator = Translator()\n",
    "\n",
    "\n",
    "def translate_batch(texts, src='en', dest='hr', wait_time=5):\n",
    "    def translate_one(text):\n",
    "        retries = 0\n",
    "        while True:\n",
    "            try:\n",
    "                return translator.translate(text, src=src, dest=dest).text\n",
    "            except Exception as e:\n",
    "                retries += 1\n",
    "                print(f\"Warning: Translation failed. Retry {retries} in {wait_time} seconds...\")\n",
    "                time.sleep(wait_time)\n",
    "    return [translate_one(t) for t in texts]\n",
    "\n",
    "# Function to process a column in batches\n",
    "def translate_column_in_batches(df, col, batch_size=50, output_dir=\"translations\"):\n",
    "    os.makedirs(output_dir, exist_ok=True) \n",
    "    translated_data = []\n",
    "\n",
    "    # Split the column into batches\n",
    "    num_batches = (len(df) + batch_size - 1) // batch_size  # Calculate total batches\n",
    "    for batch_num in tqdm(range(num_batches), desc=f\"Translating {col}\"):\n",
    "        start_idx = batch_num * batch_size\n",
    "        end_idx = min(start_idx + batch_size, len(df))\n",
    "        batch = df[col].iloc[start_idx:end_idx]\n",
    "\n",
    "        # Define batch file name\n",
    "        batch_file = os.path.join(output_dir, f\"{col}_batch_{batch_num}.csv\")\n",
    "\n",
    "        # Check if batch already exists\n",
    "        if os.path.exists(batch_file):\n",
    "            print(f\"Loading batch {batch_num} from file: {batch_file}\")\n",
    "            batch_translated = pd.read_csv(batch_file)['translated'].tolist()\n",
    "        else:\n",
    "            # print(f\"Translating batch {batch_num}...\")\n",
    "            batch_translated = translate_batch(batch.tolist())\n",
    "            # Save the batch to a CSV file\n",
    "            pd.DataFrame({'original': batch.tolist(), 'translated': batch_translated}).to_csv(batch_file, index=False)\n",
    "\n",
    "        translated_data.extend(batch_translated)\n",
    "\n",
    "    return translated_data"
   ]
  },
  {
   "cell_type": "code",
   "execution_count": null,
   "id": "d23152ca",
   "metadata": {
    "execution": {
     "iopub.execute_input": "2024-11-20T13:34:14.329109Z",
     "iopub.status.busy": "2024-11-20T13:34:14.328726Z",
     "iopub.status.idle": "2024-11-20T13:34:16.167418Z",
     "shell.execute_reply": "2024-11-20T13:34:16.166304Z",
     "shell.execute_reply.started": "2024-11-20T13:34:14.329078Z"
    },
    "papermill": {
     "duration": 0.004781,
     "end_time": "2024-11-20T14:16:12.886649",
     "exception": false,
     "start_time": "2024-11-20T14:16:12.881868",
     "status": "completed"
    },
    "tags": []
   },
   "outputs": [],
   "source": []
  },
  {
   "cell_type": "code",
   "execution_count": 3,
   "id": "89635e36",
   "metadata": {
    "execution": {
     "iopub.execute_input": "2024-11-20T14:16:12.898641Z",
     "iopub.status.busy": "2024-11-20T14:16:12.898062Z",
     "iopub.status.idle": "2024-11-20T14:16:15.808993Z",
     "shell.execute_reply": "2024-11-20T14:16:15.808036Z"
    },
    "papermill": {
     "duration": 2.920569,
     "end_time": "2024-11-20T14:16:15.812254",
     "exception": false,
     "start_time": "2024-11-20T14:16:12.891685",
     "status": "completed"
    },
    "tags": []
   },
   "outputs": [
    {
     "data": {
      "text/html": [
       "<div>\n",
       "<style scoped>\n",
       "    .dataframe tbody tr th:only-of-type {\n",
       "        vertical-align: middle;\n",
       "    }\n",
       "\n",
       "    .dataframe tbody tr th {\n",
       "        vertical-align: top;\n",
       "    }\n",
       "\n",
       "    .dataframe thead th {\n",
       "        text-align: right;\n",
       "    }\n",
       "</style>\n",
       "<table border=\"1\" class=\"dataframe\">\n",
       "  <thead>\n",
       "    <tr style=\"text-align: right;\">\n",
       "      <th></th>\n",
       "      <th>answers</th>\n",
       "      <th>query</th>\n",
       "      <th>finalpassage</th>\n",
       "    </tr>\n",
       "  </thead>\n",
       "  <tbody>\n",
       "    <tr>\n",
       "      <th>0</th>\n",
       "      <td>Kids who are bipolar, in their manic stages, v...</td>\n",
       "      <td>why do children get aggressive</td>\n",
       "      <td>At the same time, despite claiming the review ...</td>\n",
       "    </tr>\n",
       "    <tr>\n",
       "      <th>1</th>\n",
       "      <td>Equifax, transunion and experian.</td>\n",
       "      <td>which credit bureau is used the most for auto ...</td>\n",
       "      <td>Best Answer: both of those answers are wrong. ...</td>\n",
       "    </tr>\n",
       "    <tr>\n",
       "      <th>2</th>\n",
       "      <td>Women eat at least 1,200 calories daily and me...</td>\n",
       "      <td>what is the minimum healthy calorie intake</td>\n",
       "      <td>Safe Intakes. If you’re not supervised by a me...</td>\n",
       "    </tr>\n",
       "    <tr>\n",
       "      <th>3</th>\n",
       "      <td>Because Caffeine increases the stress hormone ...</td>\n",
       "      <td>why is coffee making gain weight</td>\n",
       "      <td>Is coffee making you fat? If you are overweigh...</td>\n",
       "    </tr>\n",
       "    <tr>\n",
       "      <th>4</th>\n",
       "      <td>Kent County</td>\n",
       "      <td>what county is grand rapids, mi in</td>\n",
       "      <td>Located in Grand Rapids, Michigan, the 61st Di...</td>\n",
       "    </tr>\n",
       "    <tr>\n",
       "      <th>...</th>\n",
       "      <td>...</td>\n",
       "      <td>...</td>\n",
       "      <td>...</td>\n",
       "    </tr>\n",
       "    <tr>\n",
       "      <th>9995</th>\n",
       "      <td>Responsible organizers, driven to create and e...</td>\n",
       "      <td>what is a istj</td>\n",
       "      <td>A person with an ISTJ personality is more Intr...</td>\n",
       "    </tr>\n",
       "    <tr>\n",
       "      <th>9996</th>\n",
       "      <td>Saturn</td>\n",
       "      <td>which planet is colder saturn or neptune</td>\n",
       "      <td>Saturn: Due to its distance from the Sun, Satu...</td>\n",
       "    </tr>\n",
       "    <tr>\n",
       "      <th>9997</th>\n",
       "      <td>A peace treaty between the five nations, Franc...</td>\n",
       "      <td>what were the terms of the treaty of versailles</td>\n",
       "      <td>The Versailles Treaty, signed on June 28, 1919...</td>\n",
       "    </tr>\n",
       "    <tr>\n",
       "      <th>9998</th>\n",
       "      <td>The average weather temperature in big creek, ...</td>\n",
       "      <td>average weather temperature in big creek, ca?</td>\n",
       "      <td>Average Weather and Climate in November in Big...</td>\n",
       "    </tr>\n",
       "    <tr>\n",
       "      <th>9999</th>\n",
       "      <td>Alpha Kappa Alpha (ακα) is the first Greek-let...</td>\n",
       "      <td>what is alpha kappa alpha</td>\n",
       "      <td>Greetings, On behalf of the Kappa Pi Chapter o...</td>\n",
       "    </tr>\n",
       "  </tbody>\n",
       "</table>\n",
       "<p>10000 rows × 3 columns</p>\n",
       "</div>"
      ],
      "text/plain": [
       "                                                answers  \\\n",
       "0     Kids who are bipolar, in their manic stages, v...   \n",
       "1                     Equifax, transunion and experian.   \n",
       "2     Women eat at least 1,200 calories daily and me...   \n",
       "3     Because Caffeine increases the stress hormone ...   \n",
       "4                                           Kent County   \n",
       "...                                                 ...   \n",
       "9995  Responsible organizers, driven to create and e...   \n",
       "9996                                             Saturn   \n",
       "9997  A peace treaty between the five nations, Franc...   \n",
       "9998  The average weather temperature in big creek, ...   \n",
       "9999  Alpha Kappa Alpha (ακα) is the first Greek-let...   \n",
       "\n",
       "                                                  query  \\\n",
       "0                        why do children get aggressive   \n",
       "1     which credit bureau is used the most for auto ...   \n",
       "2            what is the minimum healthy calorie intake   \n",
       "3                      why is coffee making gain weight   \n",
       "4                    what county is grand rapids, mi in   \n",
       "...                                                 ...   \n",
       "9995                                     what is a istj   \n",
       "9996           which planet is colder saturn or neptune   \n",
       "9997    what were the terms of the treaty of versailles   \n",
       "9998      average weather temperature in big creek, ca?   \n",
       "9999                          what is alpha kappa alpha   \n",
       "\n",
       "                                           finalpassage  \n",
       "0     At the same time, despite claiming the review ...  \n",
       "1     Best Answer: both of those answers are wrong. ...  \n",
       "2     Safe Intakes. If you’re not supervised by a me...  \n",
       "3     Is coffee making you fat? If you are overweigh...  \n",
       "4     Located in Grand Rapids, Michigan, the 61st Di...  \n",
       "...                                                 ...  \n",
       "9995  A person with an ISTJ personality is more Intr...  \n",
       "9996  Saturn: Due to its distance from the Sun, Satu...  \n",
       "9997  The Versailles Treaty, signed on June 28, 1919...  \n",
       "9998  Average Weather and Climate in November in Big...  \n",
       "9999  Greetings, On behalf of the Kappa Pi Chapter o...  \n",
       "\n",
       "[10000 rows x 3 columns]"
      ]
     },
     "execution_count": 3,
     "metadata": {},
     "output_type": "execute_result"
    }
   ],
   "source": [
    "input_path = \"/kaggle/input/ms-marco/train.csv\"\n",
    "output_path = \"/kaggle/working/ms-marco-translated.csv\"\n",
    "batch_size = 10\n",
    "output_tmp_dir = f\"/kaggle/working/translations_{batch_size}\"\n",
    "\n",
    "df = pd.read_csv(input_path)\n",
    "df = df[:10000]\n",
    "df"
   ]
  },
  {
   "cell_type": "code",
   "execution_count": 4,
   "id": "17e032d1",
   "metadata": {
    "execution": {
     "iopub.execute_input": "2024-11-20T14:16:15.826831Z",
     "iopub.status.busy": "2024-11-20T14:16:15.826435Z",
     "iopub.status.idle": "2024-11-20T21:09:39.154122Z",
     "shell.execute_reply": "2024-11-20T21:09:39.153002Z"
    },
    "papermill": {
     "duration": 24803.3364,
     "end_time": "2024-11-20T21:09:39.156331",
     "exception": false,
     "start_time": "2024-11-20T14:16:15.819931",
     "status": "completed"
    },
    "tags": []
   },
   "outputs": [
    {
     "name": "stdout",
     "output_type": "stream",
     "text": [
      "Processing column: finalpassage\n"
     ]
    },
    {
     "name": "stderr",
     "output_type": "stream",
     "text": [
      "Translating finalpassage: 100%|██████████| 1000/1000 [3:29:53<00:00, 12.59s/it]\n"
     ]
    },
    {
     "name": "stdout",
     "output_type": "stream",
     "text": [
      "Processing column: query\n"
     ]
    },
    {
     "name": "stderr",
     "output_type": "stream",
     "text": [
      "Translating query: 100%|██████████| 1000/1000 [3:23:29<00:00, 12.21s/it]\n"
     ]
    },
    {
     "name": "stdout",
     "output_type": "stream",
     "text": [
      "Translation completed and saved.\n"
     ]
    }
   ],
   "source": [
    "columns_to_translate = ['finalpassage', 'query']\n",
    "\n",
    "for col in columns_to_translate:\n",
    "    print(f\"Processing column: {col}\")\n",
    "    df[f'{col}_cro'] = translate_column_in_batches(df, col, batch_size=batch_size, output_dir=output_tmp_dir)\n",
    "\n",
    "df.to_csv(output_path, index=False)\n",
    "print(\"Translation completed and saved.\")\n"
   ]
  },
  {
   "cell_type": "code",
   "execution_count": null,
   "id": "277b7fc3",
   "metadata": {
    "papermill": {
     "duration": 0.112216,
     "end_time": "2024-11-20T21:09:39.383414",
     "exception": false,
     "start_time": "2024-11-20T21:09:39.271198",
     "status": "completed"
    },
    "tags": []
   },
   "outputs": [],
   "source": []
  },
  {
   "cell_type": "code",
   "execution_count": null,
   "id": "adb8f977",
   "metadata": {
    "papermill": {
     "duration": 0.112377,
     "end_time": "2024-11-20T21:09:39.609347",
     "exception": false,
     "start_time": "2024-11-20T21:09:39.496970",
     "status": "completed"
    },
    "tags": []
   },
   "outputs": [],
   "source": []
  }
 ],
 "metadata": {
  "kaggle": {
   "accelerator": "none",
   "dataSources": [
    {
     "datasetId": 6128102,
     "sourceId": 9962484,
     "sourceType": "datasetVersion"
    }
   ],
   "dockerImageVersionId": 30698,
   "isGpuEnabled": false,
   "isInternetEnabled": true,
   "language": "python",
   "sourceType": "notebook"
  },
  "kernelspec": {
   "display_name": "Python 3",
   "language": "python",
   "name": "python3"
  },
  "language_info": {
   "codemirror_mode": {
    "name": "ipython",
    "version": 3
   },
   "file_extension": ".py",
   "mimetype": "text/x-python",
   "name": "python",
   "nbconvert_exporter": "python",
   "pygments_lexer": "ipython3",
   "version": "3.10.13"
  },
  "papermill": {
   "default_parameters": {},
   "duration": 24830.176637,
   "end_time": "2024-11-20T21:09:40.377191",
   "environment_variables": {},
   "exception": null,
   "input_path": "__notebook__.ipynb",
   "output_path": "__notebook__.ipynb",
   "parameters": {},
   "start_time": "2024-11-20T14:15:50.200554",
   "version": "2.5.0"
  }
 },
 "nbformat": 4,
 "nbformat_minor": 5
}
